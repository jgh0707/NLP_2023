{
  "nbformat": 4,
  "nbformat_minor": 0,
  "metadata": {
    "colab": {
      "provenance": [],
      "authorship_tag": "ABX9TyO9bzRGhD/Kq0UAlAVdl1ga",
      "include_colab_link": true
    },
    "kernelspec": {
      "name": "python3",
      "display_name": "Python 3"
    },
    "language_info": {
      "name": "python"
    }
  },
  "cells": [
    {
      "cell_type": "markdown",
      "metadata": {
        "id": "view-in-github",
        "colab_type": "text"
      },
      "source": [
        "<a href=\"https://colab.research.google.com/github/jgh0707/NLP_2023/blob/main/%EB%94%94%EC%A7%80%ED%84%B8%EC%9D%B8%EB%AC%B8%ED%95%99%20%EC%8B%A4%EC%8A%B516.ipynb\" target=\"_parent\"><img src=\"https://colab.research.google.com/assets/colab-badge.svg\" alt=\"Open In Colab\"/></a>"
      ]
    },
    {
      "cell_type": "markdown",
      "source": [
        "# **디지털인문학 실습 과제16**\n",
        "## 23.10.02\n",
        "\n",
        "## 초보자를 위한 파이썬 200제"
      ],
      "metadata": {
        "id": "IbxhUhMnnK4W"
      }
    },
    {
      "cell_type": "markdown",
      "source": [
        "##연산자 축약 이해하기"
      ],
      "metadata": {
        "id": "EpNtJ97gnNCb"
      }
    },
    {
      "cell_type": "code",
      "execution_count": 5,
      "metadata": {
        "colab": {
          "base_uri": "https://localhost:8080/"
        },
        "id": "qkihnFQ_nJre",
        "outputId": "c4183433-9ed4-459d-b1ab-8a4bbeaeb3c9"
      },
      "outputs": [
        {
          "output_type": "stream",
          "name": "stdout",
          "text": [
            "0\n",
            "1\n",
            "-4\n",
            "-8\n",
            "-2.0\n"
          ]
        }
      ],
      "source": [
        "a = 0\n",
        "print(a)\n",
        "a += 1\n",
        "print(a)\n",
        "a -= 5\n",
        "print(a)\n",
        "a *= 2\n",
        "print(a)\n",
        "a /=4\n",
        "print(a)"
      ]
    },
    {
      "cell_type": "markdown",
      "source": [
        " - a에 0을 대입하고 1을 더한 결과를 다시 a에 대입한다.\n",
        " - 그렇게되면 a의 값은 1로 변하게 된다.\n",
        "  - 위와 같은 방식으로 a에서 5를 뺀 값으로 -4,\n",
        "  - 2를 곱한 값으로 -8,\n",
        "  - 최종적으로 a에 4를 나눈 값으로 -2가 된다."
      ],
      "metadata": {
        "id": "cqDzab_jn5a4"
      }
    },
    {
      "cell_type": "markdown",
      "source": [
        "##True와 False 이해하기"
      ],
      "metadata": {
        "id": "ZW8GVrsyp4K7"
      }
    },
    {
      "cell_type": "code",
      "source": [
        "c = True\n",
        "d = False\n",
        "print(c == 1)\n",
        "print(d != 0) # !=는 '같지 않다'의 뜻을 가진다."
      ],
      "metadata": {
        "colab": {
          "base_uri": "https://localhost:8080/"
        },
        "id": "Esm3wtiqp9J5",
        "outputId": "3926fc32-cb67-44cf-dbcb-58c4c4be1820"
      },
      "execution_count": 9,
      "outputs": [
        {
          "output_type": "stream",
          "name": "stdout",
          "text": [
            "True\n",
            "False\n"
          ]
        }
      ]
    },
    {
      "cell_type": "markdown",
      "source": [
        " - 참과 거짓을 나타내는 상수는 True와 False이며 True는 1, False는 0의 값을 가진다.\n",
        " - 그러므로 c의 값이 1인지를 체크하고 같은 값이면 True를, 다르면 False를 출력하고 마찬가지로 d 역시 값이 0이라면 True를, 다르면 False를 출력해야하기에 각각 c는 True, d는 False가 출력되었다"
      ],
      "metadata": {
        "id": "SpH-07XMqlx_"
      }
    }
  ]
}