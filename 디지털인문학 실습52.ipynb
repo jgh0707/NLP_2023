{
  "nbformat": 4,
  "nbformat_minor": 0,
  "metadata": {
    "colab": {
      "provenance": [],
      "authorship_tag": "ABX9TyPvcUTwnFSa7bcNRpLtwut3",
      "include_colab_link": true
    },
    "kernelspec": {
      "name": "python3",
      "display_name": "Python 3"
    },
    "language_info": {
      "name": "python"
    }
  },
  "cells": [
    {
      "cell_type": "markdown",
      "metadata": {
        "id": "view-in-github",
        "colab_type": "text"
      },
      "source": [
        "<a href=\"https://colab.research.google.com/github/jgh0707/NLP_2023/blob/main/%EB%94%94%EC%A7%80%ED%84%B8%EC%9D%B8%EB%AC%B8%ED%95%99%20%EC%8B%A4%EC%8A%B552.ipynb\" target=\"_parent\"><img src=\"https://colab.research.google.com/assets/colab-badge.svg\" alt=\"Open In Colab\"/></a>"
      ]
    },
    {
      "cell_type": "markdown",
      "source": [
        "#디지털인문학 실습 과제52\n",
        "\n",
        "##23.11.11\n",
        "##초보자를 위한 파이썬 200제"
      ],
      "metadata": {
        "id": "jLzKIdwc22vt"
      }
    },
    {
      "cell_type": "markdown",
      "source": [
        "###절대값 구하기(abs)"
      ],
      "metadata": {
        "id": "WKBx7E1PE6tI"
      }
    },
    {
      "cell_type": "code",
      "execution_count": 1,
      "metadata": {
        "id": "_MDf_CR02xUT",
        "colab": {
          "base_uri": "https://localhost:8080/"
        },
        "outputId": "650a3c84-d253-43e8-b5cb-987a0841657e"
      },
      "outputs": [
        {
          "output_type": "stream",
          "name": "stdout",
          "text": [
            "3\n",
            "5.72\n",
            "5.0\n"
          ]
        }
      ],
      "source": [
        "abs1 = abs(-3)\n",
        "abs2 = abs(-5.72)\n",
        "abs3 = abs(3+4j)\n",
        "print(abs1)\n",
        "print(abs2)\n",
        "print(abs3)"
      ]
    },
    {
      "cell_type": "markdown",
      "source": [
        "###abs()\n",
        "- 인자로 입력된 값의 절대값을 리턴한다.\n",
        "- 만약 복소수가 인자라면 복소수의 크기를 리턴한다(a+bj =>루트[a제곱+b제곱])"
      ],
      "metadata": {
        "id": "CpWB8wWcFIXl"
      }
    },
    {
      "cell_type": "markdown",
      "source": [
        "###반올림수 구하기(round)"
      ],
      "metadata": {
        "id": "f547gMXjFbAZ"
      }
    },
    {
      "cell_type": "code",
      "source": [
        "ret1 = round(1118)\n",
        "ret2 = round(16.554)\n",
        "ret3 = round(1118,-1)\n",
        "ret4 = round(16.554,2)\n",
        "print(ret1)\n",
        "print(ret2)\n",
        "print(ret3)\n",
        "print(ret4)"
      ],
      "metadata": {
        "colab": {
          "base_uri": "https://localhost:8080/"
        },
        "id": "D0y1A9yRFeXt",
        "outputId": "0d872ce6-8feb-42bf-cca0-c1c31a574dc9"
      },
      "execution_count": 2,
      "outputs": [
        {
          "output_type": "stream",
          "name": "stdout",
          "text": [
            "1118\n",
            "17\n",
            "1120\n",
            "16.55\n"
          ]
        }
      ]
    },
    {
      "cell_type": "markdown",
      "source": [
        "###round()\n",
        "- 인자로 입력된 수치형 자료를 지정된 자리수에서 반올림한 결과를 리턴\n",
        "- 형식 -round(a,b)이지만 b는 생략이 가능하다.\n",
        "- 아무것도 없을 경우 첫째자리에서 반올림, 그 이후로는 숫자에 맞춰 반올림한다."
      ],
      "metadata": {
        "id": "uexVVlv6Fq-r"
      }
    }
  ]
}