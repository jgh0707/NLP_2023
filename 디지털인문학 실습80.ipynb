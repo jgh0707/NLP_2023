{
  "nbformat": 4,
  "nbformat_minor": 0,
  "metadata": {
    "colab": {
      "provenance": [],
      "authorship_tag": "ABX9TyPEAP7o04fmP/vONK4MetMB",
      "include_colab_link": true
    },
    "kernelspec": {
      "name": "python3",
      "display_name": "Python 3"
    },
    "language_info": {
      "name": "python"
    }
  },
  "cells": [
    {
      "cell_type": "markdown",
      "metadata": {
        "id": "view-in-github",
        "colab_type": "text"
      },
      "source": [
        "<a href=\"https://colab.research.google.com/github/jgh0707/NLP_2023/blob/main/%EB%94%94%EC%A7%80%ED%84%B8%EC%9D%B8%EB%AC%B8%ED%95%99%20%EC%8B%A4%EC%8A%B580.ipynb\" target=\"_parent\"><img src=\"https://colab.research.google.com/assets/colab-badge.svg\" alt=\"Open In Colab\"/></a>"
      ]
    },
    {
      "cell_type": "markdown",
      "source": [
        "#디지털인문학 실습 과제80\n",
        "##23.12.12\n",
        "##초보자를 위한 파이썬 200제\n"
      ],
      "metadata": {
        "id": "-elX21SvQp-K"
      }
    },
    {
      "cell_type": "markdown",
      "source": [
        "###리스트 요소 정렬하기1(sort)"
      ],
      "metadata": {
        "id": "eXFBs-KmQuy6"
      }
    },
    {
      "cell_type": "code",
      "execution_count": 1,
      "metadata": {
        "colab": {
          "base_uri": "https://localhost:8080/"
        },
        "id": "9j0uvaIoQlWA",
        "outputId": "c3d87f90-4354-4c36-e9e7-bf43904fac02"
      },
      "outputs": [
        {
          "output_type": "stream",
          "name": "stdout",
          "text": [
            "['aimy', 'bob', 'kelly', 'mary', 'michale', 'sams', 'tom']\n"
          ]
        }
      ],
      "source": [
        "namelist = ['mary', 'sams', 'aimy', 'tom', 'michale', 'bob', 'kelly']\n",
        "namelist.sort()\n",
        "print(namelist)"
      ]
    },
    {
      "cell_type": "markdown",
      "source": [
        "###sort()\n",
        "- 원본 리스트의 내용을 정렬된 형태로 변경\n",
        "- 모든 요소를 오름차순으로 정렬하게 되며 내림차순을 하기 위해서는 reverse를 이용한다."
      ],
      "metadata": {
        "id": "AXlddZ2eRAZw"
      }
    },
    {
      "cell_type": "markdown",
      "source": [
        "###리스트 요소 정렬하기2(sorted)"
      ],
      "metadata": {
        "id": "oIVPfy20RK_j"
      }
    },
    {
      "cell_type": "code",
      "source": [
        "namelist = ['mary', 'sams', 'aimy', 'tom', 'michale', 'bob', 'kelly']\n",
        "ret1 = sorted(namelist)\n",
        "ret2 = sorted(namelist, reverse = True)\n",
        "print(namelist)\n",
        "print(ret1)\n",
        "print(ret2)"
      ],
      "metadata": {
        "colab": {
          "base_uri": "https://localhost:8080/"
        },
        "id": "6vYPwgx9RN2r",
        "outputId": "d7674d81-09e5-4635-8899-082a35438d7e"
      },
      "execution_count": 4,
      "outputs": [
        {
          "output_type": "stream",
          "name": "stdout",
          "text": [
            "['mary', 'sams', 'aimy', 'tom', 'michale', 'bob', 'kelly']\n",
            "['aimy', 'bob', 'kelly', 'mary', 'michale', 'sams', 'tom']\n",
            "['tom', 'sams', 'michale', 'mary', 'kelly', 'bob', 'aimy']\n"
          ]
        }
      ]
    },
    {
      "cell_type": "markdown",
      "source": [
        "###sorted()\n",
        "-sort와 같이 리스트를 정렬하는 내장함수이지만, 원본 리스트는 그대로 두고 새롭게 정렬된 결과 리스트를 리턴한다."
      ],
      "metadata": {
        "id": "1E646pFnRc3T"
      }
    }
  ]
}