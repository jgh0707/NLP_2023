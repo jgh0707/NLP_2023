{
  "nbformat": 4,
  "nbformat_minor": 0,
  "metadata": {
    "colab": {
      "provenance": [],
      "authorship_tag": "ABX9TyMImQ5RwHwdRPEyORDrELdD",
      "include_colab_link": true
    },
    "kernelspec": {
      "name": "python3",
      "display_name": "Python 3"
    },
    "language_info": {
      "name": "python"
    }
  },
  "cells": [
    {
      "cell_type": "markdown",
      "metadata": {
        "id": "view-in-github",
        "colab_type": "text"
      },
      "source": [
        "<a href=\"https://colab.research.google.com/github/jgh0707/NLP_2023/blob/main/%EB%94%94%EC%A7%80%ED%84%B8%EC%9D%B8%EB%AC%B8%ED%95%99%20%EC%8B%A4%EC%8A%B536.ipynb\" target=\"_parent\"><img src=\"https://colab.research.google.com/assets/colab-badge.svg\" alt=\"Open In Colab\"/></a>"
      ]
    },
    {
      "cell_type": "markdown",
      "source": [
        "# **디지털인문학 실습 과제36**\n",
        "## 23.10.23\n",
        "\n",
        "## 초보자를 위한 파이썬 200제"
      ],
      "metadata": {
        "id": "aofXsfx14Sww"
      }
    },
    {
      "cell_type": "markdown",
      "source": [
        "###파이썬 모듈 임포트 이해하기2(from~import)"
      ],
      "metadata": {
        "id": "Vdqr9_dT4bKC"
      }
    },
    {
      "cell_type": "code",
      "execution_count": null,
      "metadata": {
        "id": "xiLrB7J24ROe"
      },
      "outputs": [],
      "source": [
        "from time import sleep #time 모듈의 sleep 함수 호출\n",
        "form mypackage import mylib #mypackage.mylib(사용자가 직접 제작한 모듈) 모듈의 add_txt함수 호출\n",
        "from mypackage.mylib import reverse #mypackage.mylib 모듈의 reverse함수 호출"
      ]
    },
    {
      "cell_type": "markdown",
      "source": [
        "기존에 mypackage.mylib에서 함수롤 호출하려면 다음과 같은 방법이 필요하다.\n",
        " - import mypackage\n",
        " - mypackage.mylib.add_txt(값)\n",
        " -위 방법을 사용하면 계층구조까지 다 적어야 하는 번거러움이 있다.\n",
        "그러나 from~ import를 사용할 경우 다음과 같이 간단하게 호출이 가능하다.\n",
        " - from모듈이름 import 함수이름\n",
        " - from 패키지이름 import 모듈이름"
      ],
      "metadata": {
        "id": "UHAdpHMu5xbL"
      }
    },
    {
      "cell_type": "markdown",
      "source": [
        "###파이썬 모듈 임포트 이해하기 3(import~as)\n"
      ],
      "metadata": {
        "id": "NlO_ezcW7JJK"
      }
    },
    {
      "cell_type": "code",
      "source": [
        "import mypackage as mp\n",
        "import mypackage.mylib as ml"
      ],
      "metadata": {
        "id": "VFPIUUwX7Qxm"
      },
      "execution_count": null,
      "outputs": []
    },
    {
      "cell_type": "markdown",
      "source": [
        "이름이 긴 모듈이나 계층구조가 복잡한 모듈일 경우 위와 같은 방법을 통하여 별명으로 간단히 호출할 수 있다.\n",
        "방법은 다음과 같다\n",
        "- import 이름이 긴 모듈명 as 별명\n",
        "그렇기에 위 방법을 보면 mypackage는 mp라는 별명을, mypackage.mylib은 ml라는 별명으로 축약되었다."
      ],
      "metadata": {
        "id": "bEMnE-Z_7rZ5"
      }
    }
  ]
}