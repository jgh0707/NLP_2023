{
  "nbformat": 4,
  "nbformat_minor": 0,
  "metadata": {
    "colab": {
      "provenance": [],
      "authorship_tag": "ABX9TyOfoZqGokWrQkCuS18z+3FN",
      "include_colab_link": true
    },
    "kernelspec": {
      "name": "python3",
      "display_name": "Python 3"
    },
    "language_info": {
      "name": "python"
    }
  },
  "cells": [
    {
      "cell_type": "markdown",
      "metadata": {
        "id": "view-in-github",
        "colab_type": "text"
      },
      "source": [
        "<a href=\"https://colab.research.google.com/github/jgh0707/NLP_2023/blob/main/23-09.16.ipynb\" target=\"_parent\"><img src=\"https://colab.research.google.com/assets/colab-badge.svg\" alt=\"Open In Colab\"/></a>"
      ]
    },
    {
      "cell_type": "markdown",
      "source": [
        "# **디지털인문학 실습 과제3**\n",
        "## 23.09.16\n",
        "\n",
        "## 초보자를 위한 파이썬 200제\n",
        "\n",
        "### 코드 중간에 사용되는 **<font color = 'red'>print('----')</font>**는 경계선으로 구분"
      ],
      "metadata": {
        "id": "HwRLhCSSxrP3"
      }
    },
    {
      "cell_type": "markdown",
      "source": [
        "## **if문 개념 배우기 1<font color = 'red'>(if~else)</font> +응용**"
      ],
      "metadata": {
        "id": "05Wd0jU-y3gJ"
      }
    },
    {
      "cell_type": "code",
      "source": [
        "x = 1\n",
        "y = 2\n",
        "z = 3\n",
        "if x>=y:\n",
        "  print('x가 y보다 크거나 같습니다')\n",
        "else:\n",
        "  print('x가 y보다 작습니다')\n",
        "print('---------')\n",
        "if z>=y:\n",
        "  print('z가 y보다 크거나 같습니다')\n",
        "else:\n",
        "  print('z가 y보다 작습니다')"
      ],
      "metadata": {
        "colab": {
          "base_uri": "https://localhost:8080/"
        },
        "id": "CTsVL8iMxtX1",
        "outputId": "40a13e30-26c7-4915-ff11-4ce2f00b425c"
      },
      "execution_count": 3,
      "outputs": [
        {
          "output_type": "stream",
          "name": "stdout",
          "text": [
            "x가 y보다 작습니다\n",
            "z가 y보다 크거나 같습니다\n"
          ]
        }
      ]
    },
    {
      "cell_type": "markdown",
      "source": [
        "## **if문 개념 배우기 2<font color = 'red'>(if~elif[링크 텍스트](https://))</font> +응용**"
      ],
      "metadata": {
        "id": "OFkdz-NrzL_8"
      }
    },
    {
      "cell_type": "code",
      "source": [
        "x = 2\n",
        "y = 4\n",
        "z = 5\n",
        "a = 4\n",
        "if x>y:\n",
        "  print('x가 y보다 큽니다')\n",
        "elif x<y:\n",
        "  print('x가 y보다 작습니다')\n",
        "else:\n",
        "  print('x와 y가 같습니다.')\n",
        "print('---------')\n",
        "if z>y:\n",
        "  print('z가 y보다 큽니다')\n",
        "elif z<y:\n",
        "  print('z가 y보다 작습니다')\n",
        "else:\n",
        "  print('z와 y가 같습니다.')\n",
        "print('---------')\n",
        "if y>a:\n",
        "  print('y가 a보다 큽니다')\n",
        "elif y<a:\n",
        "  print('y가 a보다 작습니다')\n",
        "else:\n",
        "  print('y와 a가 같습니다.')"
      ],
      "metadata": {
        "colab": {
          "base_uri": "https://localhost:8080/"
        },
        "id": "Y4Z9NJhzyQyn",
        "outputId": "db2216d1-1cfe-4b0c-a6ec-e602aa374ca1"
      },
      "execution_count": 6,
      "outputs": [
        {
          "output_type": "stream",
          "name": "stdout",
          "text": [
            "x가 y보다 작습니다\n",
            "z가 y보다 큽니다\n",
            "y와 a가 같습니다.\n"
          ]
        }
      ]
    },
    {
      "cell_type": "markdown",
      "source": [
        "## **for문 개념 배우기 1<font color = 'red'>(for)</font> 예제**"
      ],
      "metadata": {
        "id": "robE_gep1nvR"
      }
    },
    {
      "cell_type": "code",
      "source": [
        "scope = [1,2,3,4,5]\n",
        "for a in scope:\n",
        "  print(a)\n",
        "print('----')\n",
        "str = 'abcdef'\n",
        "for b in str:\n",
        "  print(b)\n",
        "print('----')\n",
        "list = [1,2,3,4,5]\n",
        "for c in list:\n",
        "  print(c)\n",
        "print('----')\n",
        "ascii_codes = {'a':97, 'b':98, 'c':99}\n",
        "for d in ascii_codes:\n",
        "  print(d)\n",
        "print('----')\n",
        "for e in range(10):\n",
        "  print(e)"
      ],
      "metadata": {
        "colab": {
          "base_uri": "https://localhost:8080/"
        },
        "id": "2GmZKskrz-BA",
        "outputId": "d5f70710-b98f-4cbb-9266-4ffce0be42ea"
      },
      "execution_count": 15,
      "outputs": [
        {
          "output_type": "stream",
          "name": "stdout",
          "text": [
            "1\n",
            "2\n",
            "3\n",
            "4\n",
            "5\n",
            "----\n",
            "a\n",
            "b\n",
            "c\n",
            "d\n",
            "e\n",
            "f\n",
            "----\n",
            "1\n",
            "2\n",
            "3\n",
            "4\n",
            "5\n",
            "----\n",
            "a\n",
            "b\n",
            "c\n",
            "----\n",
            "0\n",
            "1\n",
            "2\n",
            "3\n",
            "4\n",
            "5\n",
            "6\n",
            "7\n",
            "8\n",
            "9\n"
          ]
        }
      ]
    }
  ]
}
