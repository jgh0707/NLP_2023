{
  "nbformat": 4,
  "nbformat_minor": 0,
  "metadata": {
    "colab": {
      "provenance": [],
      "authorship_tag": "ABX9TyOEk6SHa9wF+tV2YWdTYujA",
      "include_colab_link": true
    },
    "kernelspec": {
      "name": "python3",
      "display_name": "Python 3"
    },
    "language_info": {
      "name": "python"
    }
  },
  "cells": [
    {
      "cell_type": "markdown",
      "metadata": {
        "id": "view-in-github",
        "colab_type": "text"
      },
      "source": [
        "<a href=\"https://colab.research.google.com/github/jgh0707/NLP_2023/blob/main/%EB%94%94%EC%A7%80%ED%84%B8%EC%9D%B8%EB%AC%B8%ED%95%99%20%EC%8B%A4%EC%8A%B521.ipynb\" target=\"_parent\"><img src=\"https://colab.research.google.com/assets/colab-badge.svg\" alt=\"Open In Colab\"/></a>"
      ]
    },
    {
      "cell_type": "markdown",
      "source": [
        "# **디지털인문학 실습 과제21**\n",
        "## 23.10.08\n",
        "\n",
        "## 초보자를 위한 파이썬 200제\n"
      ],
      "metadata": {
        "id": "dAEjIQvqfX5p"
      }
    },
    {
      "cell_type": "markdown",
      "source": [
        "### 비트 연산자 이해하기 (<font color = 'red'> &,|, ~, ^, >>, <<</font>)\n",
        " - 비트는 0 또는 1로만 표현할 수 있는 데이터 단위"
      ],
      "metadata": {
        "id": "ETK14dMbfcEg"
      }
    },
    {
      "cell_type": "code",
      "execution_count": 4,
      "metadata": {
        "id": "gjMNlc-ZfVqg"
      },
      "outputs": [],
      "source": [
        "bit1 = 0x61\n",
        "bit2 = 0x62"
      ]
    },
    {
      "cell_type": "markdown",
      "source": [
        "비트 연산자는 다음과 같은 의미를 가진다.\n",
        "\n",
        "| 비트연산자 | 의미 |\n",
        "|:--:|:--:|\n",
        "| A & B| A와 B의 비트간 and 연산을 수행|\n",
        "| A \\ B| A와 B의 비트간 or 연산을 수행|\n",
        "| A ^ B | A와 B의 비트간 배타적 논리합 xor 연산을 수행|\n",
        "| ~A | A의 비트를 반전시킨다.(A의 1의 보수를 만듦)|\n",
        "| A >> n | A의 모든 비트를 n만큼 오른쪽으로 시프트|\n",
        "| A << n | A의 모든 비트를 n만큼 왼쪽으로 시프트|\n",
        "\n",
        "위의 의미를 이용하여 위의 식의 결과는 아래와 같다.\n",
        " - bit은 0110 0001(16진수의 61), bit2는 0110 0010(16진수의 62)이다.\n",
        " - 비트 반전 연산자(~)의 결과를 이해하기에는 책에 범위를 넘기에 생략\n"
      ],
      "metadata": {
        "id": "NzYbdjbIgGlc"
      }
    },
    {
      "cell_type": "code",
      "source": [
        "print(hex(bit1 & bit2))\n",
        "print(hex(bit1 | bit2))\n",
        "print(hex(bit1 ^ bit2))\n",
        "print(hex(bit1 >> bit2))\n",
        "print(hex(bit1 << bit2))"
      ],
      "metadata": {
        "colab": {
          "base_uri": "https://localhost:8080/"
        },
        "id": "rek15QWxhSOM",
        "outputId": "cb3a370a-b5f3-4ad8-bc99-5ede91cdc654"
      },
      "execution_count": null,
      "outputs": [
        {
          "output_type": "stream",
          "name": "stdout",
          "text": [
            "0x60\n",
            "0x63\n",
            "0x3\n",
            "0x0\n",
            "0x184000000000000000000000000\n"
          ]
        }
      ]
    }
  ]
}