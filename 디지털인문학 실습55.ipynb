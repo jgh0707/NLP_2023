{
  "nbformat": 4,
  "nbformat_minor": 0,
  "metadata": {
    "colab": {
      "provenance": [],
      "authorship_tag": "ABX9TyOCKeDFdpJah9ZZeKuU9wg2",
      "include_colab_link": true
    },
    "kernelspec": {
      "name": "python3",
      "display_name": "Python 3"
    },
    "language_info": {
      "name": "python"
    }
  },
  "cells": [
    {
      "cell_type": "markdown",
      "metadata": {
        "id": "view-in-github",
        "colab_type": "text"
      },
      "source": [
        "<a href=\"https://colab.research.google.com/github/jgh0707/NLP_2023/blob/main/%EB%94%94%EC%A7%80%ED%84%B8%EC%9D%B8%EB%AC%B8%ED%95%99%20%EC%8B%A4%EC%8A%B555.ipynb\" target=\"_parent\"><img src=\"https://colab.research.google.com/assets/colab-badge.svg\" alt=\"Open In Colab\"/></a>"
      ]
    },
    {
      "cell_type": "markdown",
      "source": [
        "#디지털인문학 실습 과제55\n",
        "##23.11.14\n",
        "##초보자를 위한 파이썬 200제"
      ],
      "metadata": {
        "id": "W8m-f-zsP7GY"
      }
    },
    {
      "cell_type": "markdown",
      "source": [
        "###1바이트에서 하위 4비트 추출하기"
      ],
      "metadata": {
        "id": "Pq-VRQgoP9r_"
      }
    },
    {
      "cell_type": "code",
      "execution_count": 1,
      "metadata": {
        "colab": {
          "base_uri": "https://localhost:8080/"
        },
        "id": "rM8wn8x7P3a1",
        "outputId": "8462c805-9470-463c-ad61-255a69ed73ae"
      },
      "outputs": [
        {
          "output_type": "stream",
          "name": "stdout",
          "text": [
            "11\n"
          ]
        }
      ],
      "source": [
        "a = 107\n",
        "#16진수로 0x6b\n",
        "b = a & 0x0f\n",
        "print(b)"
      ]
    },
    {
      "cell_type": "markdown",
      "source": [
        "###비트\n",
        "- 컴퓨터는 모든 데이터와 연산을 내부적으로 표현되는 데이터로 처리\n",
        "- 비트는 0과 1로 표현되는 2진수, 8비트를 1바이트로 표현\n",
        "- 1 바이트는 일반적으로 컴퓨터가 처리하는 데이터의 최소 단위\n"
      ],
      "metadata": {
        "id": "r6MybHt7QJ10"
      }
    },
    {
      "cell_type": "markdown",
      "source": [
        "1바이트에서 상위 4비트 추출하기"
      ],
      "metadata": {
        "id": "aX96unKhQgui"
      }
    },
    {
      "cell_type": "code",
      "source": [
        "a = 107\n",
        "b = (a>>4) & 0x0f\n",
        "print(b)"
      ],
      "metadata": {
        "colab": {
          "base_uri": "https://localhost:8080/"
        },
        "id": "HQ3Hr8a3QuwD",
        "outputId": "95e0f65a-b951-4db0-a139-8c99abb4d54f"
      },
      "execution_count": 2,
      "outputs": [
        {
          "output_type": "stream",
          "name": "stdout",
          "text": [
            "6\n"
          ]
        }
      ]
    },
    {
      "cell_type": "markdown",
      "source": [
        "### >>\n",
        "- 오른쪽으로 시프트하는 연산자\n",
        "- 코드 셀에 예시인 0x6b >> 4 를 수행하면 하위 4비트로 내려오게 되며 이것을 추출하게 되면 상위 4비트 값만을 추출하는 것과 같다"
      ],
      "metadata": {
        "id": "boqSh3iiQ0wc"
      }
    }
  ]
}