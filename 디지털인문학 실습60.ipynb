{
  "nbformat": 4,
  "nbformat_minor": 0,
  "metadata": {
    "colab": {
      "provenance": [],
      "authorship_tag": "ABX9TyOI3w0D8ASS9EQETUV4IYGX",
      "include_colab_link": true
    },
    "kernelspec": {
      "name": "python3",
      "display_name": "Python 3"
    },
    "language_info": {
      "name": "python"
    }
  },
  "cells": [
    {
      "cell_type": "markdown",
      "metadata": {
        "id": "view-in-github",
        "colab_type": "text"
      },
      "source": [
        "<a href=\"https://colab.research.google.com/github/jgh0707/NLP_2023/blob/main/%EB%94%94%EC%A7%80%ED%84%B8%EC%9D%B8%EB%AC%B8%ED%95%99%20%EC%8B%A4%EC%8A%B560.ipynb\" target=\"_parent\"><img src=\"https://colab.research.google.com/assets/colab-badge.svg\" alt=\"Open In Colab\"/></a>"
      ]
    },
    {
      "cell_type": "markdown",
      "source": [
        "#디지털인문학 실습 과제61\n",
        "##23.11.22\n",
        "##초보자를 위한 파이썬 200제"
      ],
      "metadata": {
        "id": "JJEoKqbM_gph"
      }
    },
    {
      "cell_type": "markdown",
      "source": [
        "###문자열에서 대소문자 변환하기(upper, lower)"
      ],
      "metadata": {
        "id": "ZpLQ8DqF_jxl"
      }
    },
    {
      "cell_type": "code",
      "execution_count": 1,
      "metadata": {
        "colab": {
          "base_uri": "https://localhost:8080/"
        },
        "id": "iORrYc1r_fco",
        "outputId": "6d4567a7-8f51-4882-bf15-1f4afb9a1af3"
      },
      "outputs": [
        {
          "output_type": "stream",
          "name": "stdout",
          "text": [
            "A LOT OF THINGS OCCUR EACH DAY.\n",
            "a lot of things occur each day.\n"
          ]
        }
      ],
      "source": [
        "txt = 'A lot of Things occur each day.'\n",
        "ret1 = txt.upper()\n",
        "ret2 = txt.lower()\n",
        "print(ret1)\n",
        "print(ret2)"
      ]
    },
    {
      "cell_type": "markdown",
      "source": [
        "###upper(), lower()\n",
        "- 각각 문자열에 있는 모든 알파벳을 대문자, 소문자로 변환하는 메소드\n",
        "- 변환시키는 것은 알파벳에 대문자, 소문자일뿐 원본 문자열은 변경시키지 않는다."
      ],
      "metadata": {
        "id": "hX9lTXG_AJ8j"
      }
    },
    {
      "cell_type": "markdown",
      "source": [
        "###문자열에서 좌우 공백 제거하기(lstrip, rstrip, strip)"
      ],
      "metadata": {
        "id": "NYylJTOJAa0X"
      }
    },
    {
      "cell_type": "code",
      "source": [
        "txt = ' 양쪽에 공백이 있는 문자열입니다. '\n",
        "ret1 = txt.lstrip()\n",
        "ret2 = txt.rstrip()\n",
        "ret3 = txt.strip()\n",
        "print('<'+ txt +'>')\n",
        "print('<'+ ret1 +'>')\n",
        "print('<'+ ret2 +'>')\n",
        "print('<'+ ret3 +'>')"
      ],
      "metadata": {
        "colab": {
          "base_uri": "https://localhost:8080/"
        },
        "id": "ddGNMun6Agi4",
        "outputId": "b1d7e708-7d39-4b35-d030-98c7a4ef7e31"
      },
      "execution_count": 3,
      "outputs": [
        {
          "output_type": "stream",
          "name": "stdout",
          "text": [
            "< 양쪽에 공백이 있는 문자열입니다. >\n",
            "<양쪽에 공백이 있는 문자열입니다. >\n",
            "< 양쪽에 공백이 있는 문자열입니다.>\n",
            "<양쪽에 공백이 있는 문자열입니다.>\n"
          ]
        }
      ]
    },
    {
      "cell_type": "markdown",
      "source": [
        "###lstirp(), rstrip(), strip()\n",
        "- 순서대로 왼쪽 공백, 오른쪽 공백, 양쪽 공백을 제거하는 메소드"
      ],
      "metadata": {
        "id": "jTrq7hCeBCaF"
      }
    }
  ]
}