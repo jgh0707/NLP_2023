{
  "nbformat": 4,
  "nbformat_minor": 0,
  "metadata": {
    "colab": {
      "provenance": [],
      "authorship_tag": "ABX9TyN8dU+bi0NltYx1q90mOxIC",
      "include_colab_link": true
    },
    "kernelspec": {
      "name": "python3",
      "display_name": "Python 3"
    },
    "language_info": {
      "name": "python"
    }
  },
  "cells": [
    {
      "cell_type": "markdown",
      "metadata": {
        "id": "view-in-github",
        "colab_type": "text"
      },
      "source": [
        "<a href=\"https://colab.research.google.com/github/jgh0707/NLP_2023/blob/main/%EB%94%94%EC%A7%80%ED%84%B8%EC%9D%B8%EB%AC%B8%ED%95%99%20%EC%8B%A4%EC%8A%B524.ipynb\" target=\"_parent\"><img src=\"https://colab.research.google.com/assets/colab-badge.svg\" alt=\"Open In Colab\"/></a>"
      ]
    },
    {
      "cell_type": "markdown",
      "source": [
        "# **디지털인문학 실습 과제24**\n",
        "## 23.10.11\n",
        "\n",
        "## 복습"
      ],
      "metadata": {
        "id": "6HE9gGJByU96"
      }
    },
    {
      "cell_type": "markdown",
      "source": [
        "### try~ except~ else/finally"
      ],
      "metadata": {
        "id": "nh63U4vkyZT1"
      }
    },
    {
      "cell_type": "markdown",
      "source": [
        "#### try~ except\n",
        " - 프로그램이 실행하면서 오류가 발생하면 프로그램은 더 이상 진행하지 않지만, 이 구문을 사용하면 중단 없이 오류에 적절히 처리해 프로그램을 진핼할 수 있다."
      ],
      "metadata": {
        "id": "HL10iDSpyvOU"
      }
    },
    {
      "cell_type": "code",
      "execution_count": 3,
      "metadata": {
        "colab": {
          "base_uri": "https://localhost:8080/"
        },
        "id": "0gHZcetUySh_",
        "outputId": "5900b303-8d1a-42dd-9058-8ba0ff72da50"
      },
      "outputs": [
        {
          "output_type": "stream",
          "name": "stdout",
          "text": [
            "how are you?\n",
            "exception occurred\n"
          ]
        }
      ],
      "source": [
        "try:\n",
        "  print('how are you?')\n",
        "  print(param) #오류구문\n",
        "\n",
        "except:\n",
        "  print('exception occurred')"
      ]
    },
    {
      "cell_type": "markdown",
      "source": [
        "#### try~except~else\n",
        " - 오류가 발생하였을 경우 except에서, else에서 프로그램을 진행한다."
      ],
      "metadata": {
        "id": "TWCVfZA5zPss"
      }
    },
    {
      "cell_type": "code",
      "source": [
        "try:\n",
        "  print('how are you?')\n",
        "  print(param)\n",
        "\n",
        "except:\n",
        "  print('exception occurred')\n",
        "\n",
        "else:\n",
        "  print('exception did noy occur')\n",
        "print('----------------')\n",
        "try:\n",
        "  print('how are you?')\n",
        "  #print(param)\n",
        "\n",
        "except:\n",
        "  print('exception occurred')\n",
        "\n",
        "else:\n",
        "  print('exception did noy occur')"
      ],
      "metadata": {
        "colab": {
          "base_uri": "https://localhost:8080/"
        },
        "id": "Z7zSdNyDzl7j",
        "outputId": "c323d83d-f2c0-47d0-d8a4-a926ea8b1b0f"
      },
      "execution_count": 5,
      "outputs": [
        {
          "output_type": "stream",
          "name": "stdout",
          "text": [
            "how are you?\n",
            "exception occurred\n",
            "----------------\n",
            "how are you?\n",
            "exception did noy occur\n"
          ]
        }
      ]
    },
    {
      "cell_type": "markdown",
      "source": [
        "#### try ~ except ~ finally\n",
        " - finally는 오류의 발생과 상관없이 어떤 코드를 무조건 실행시켜야 할 때 사용된다."
      ],
      "metadata": {
        "id": "BmaUI04Tzsu9"
      }
    },
    {
      "cell_type": "code",
      "source": [
        "try:\n",
        "  print('how are you?')\n",
        "  print(param)\n",
        "except:\n",
        "  print('exception occurred')\n",
        "\n",
        "finally:\n",
        "  print('this code should be running')\n",
        "print('----------------')\n",
        "try:\n",
        "  print('how are you?')\n",
        "  #print(param)\n",
        "except:\n",
        "  print('exception occurred')\n",
        "\n",
        "finally:\n",
        "  print('this code should be running')"
      ],
      "metadata": {
        "colab": {
          "base_uri": "https://localhost:8080/"
        },
        "id": "aY5ajAcxz2GH",
        "outputId": "58a96913-c11b-4ee1-fac8-f14a8be688ae"
      },
      "execution_count": 6,
      "outputs": [
        {
          "output_type": "stream",
          "name": "stdout",
          "text": [
            "how are you?\n",
            "exception occurred\n",
            "this code should be running\n",
            "----------------\n",
            "how are you?\n",
            "this code should be running\n"
          ]
        }
      ]
    }
  ]
}