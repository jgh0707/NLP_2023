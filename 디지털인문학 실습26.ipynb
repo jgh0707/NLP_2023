{
  "nbformat": 4,
  "nbformat_minor": 0,
  "metadata": {
    "colab": {
      "provenance": [],
      "authorship_tag": "ABX9TyOdlNZyZPio5Gr1Ug7ZtfPB",
      "include_colab_link": true
    },
    "kernelspec": {
      "name": "python3",
      "display_name": "Python 3"
    },
    "language_info": {
      "name": "python"
    }
  },
  "cells": [
    {
      "cell_type": "markdown",
      "metadata": {
        "id": "view-in-github",
        "colab_type": "text"
      },
      "source": [
        "<a href=\"https://colab.research.google.com/github/jgh0707/NLP_2023/blob/main/%EB%94%94%EC%A7%80%ED%84%B8%EC%9D%B8%EB%AC%B8%ED%95%99%20%EC%8B%A4%EC%8A%B526.ipynb\" target=\"_parent\"><img src=\"https://colab.research.google.com/assets/colab-badge.svg\" alt=\"Open In Colab\"/></a>"
      ]
    },
    {
      "cell_type": "markdown",
      "source": [
        "# **디지털인문학 실습 과제26**\n",
        "## 23.10.13\n",
        "\n",
        "## 초보자를 위한 파이썬 200제"
      ],
      "metadata": {
        "id": "MtQJ63_YNMYx"
      }
    },
    {
      "cell_type": "markdown",
      "source": [
        "### 시퀸스 자료 슬라이싱 이해하기"
      ],
      "metadata": {
        "id": "lxZm939BNbpZ"
      }
    },
    {
      "cell_type": "code",
      "execution_count": 1,
      "metadata": {
        "colab": {
          "base_uri": "https://localhost:8080/"
        },
        "id": "TTDI29ecNI9k",
        "outputId": "b20b2c9a-5199-4886-f4b1-0b8a17b0ad40"
      },
      "outputs": [
        {
          "output_type": "stream",
          "name": "stdout",
          "text": [
            "ime \n",
            "time is\n",
            "oney!!\n",
            "time is mone\n",
            "y!!\n",
            "time is money!!\n",
            "tin\n"
          ]
        }
      ],
      "source": [
        "strdata = 'time is money!!'\n",
        "\n",
        "print(strdata[1:5])\n",
        "print(strdata[:7])\n",
        "print(strdata[9:])\n",
        "print(strdata[:-3])\n",
        "print(strdata[-3:])\n",
        "print(strdata[:])\n",
        "print(strdata[::5])"
      ]
    },
    {
      "cell_type": "markdown",
      "source": [
        "슬라이싱 범위를 표현하는 방법은 아래와 같다.\n",
        "\n",
        "| 슬라이싱 범위 | 의미 |\n",
        "|:--:|:--:|\n",
        "| [m:n] | 시퀸스 자료의 인덱스가 m 이상 n 미만인 요소를 슬라이싱 |\n",
        "| [:n] | 시퀸스 자료의 처음부터 인덱스가 n 미만인 요소까지 슬라이싱 |\n",
        "| [m:] | 시퀸스 자료의 인덱스가 m인 요소부터 시퀸스 자료의 끝까지 슬라이싱 |\n",
        "| [:-n] | 시퀸스 자료의 처음부터 끝에서 n번째 미만인 요소까지 슬라이싱 |\n",
        "| [-m:] | 시퀸스 자료의 끝에서 m번째 요소부터 시퀸스 자료의 끝까지 슬라이싱 |"
      ],
      "metadata": {
        "id": "BRIVYrezOXsn"
      }
    }
  ]
}