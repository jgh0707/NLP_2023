{
  "nbformat": 4,
  "nbformat_minor": 0,
  "metadata": {
    "colab": {
      "provenance": [],
      "authorship_tag": "ABX9TyP58f5/Kq9rNEY90sNtdCNy",
      "include_colab_link": true
    },
    "kernelspec": {
      "name": "python3",
      "display_name": "Python 3"
    },
    "language_info": {
      "name": "python"
    }
  },
  "cells": [
    {
      "cell_type": "markdown",
      "metadata": {
        "id": "view-in-github",
        "colab_type": "text"
      },
      "source": [
        "<a href=\"https://colab.research.google.com/github/jgh0707/NLP_2023/blob/main/%EB%94%94%EC%A7%80%ED%84%B8%EC%9D%B8%EB%AC%B8%ED%95%99%20%EC%8B%A4%EC%8A%B563.ipynb\" target=\"_parent\"><img src=\"https://colab.research.google.com/assets/colab-badge.svg\" alt=\"Open In Colab\"/></a>"
      ]
    },
    {
      "cell_type": "markdown",
      "source": [
        "#디지털인문학 실습 과제63\n",
        "##23.11.25\n",
        "##초보자를 위한 파이썬 200제"
      ],
      "metadata": {
        "id": "3eXumhR70vBj"
      }
    },
    {
      "cell_type": "markdown",
      "source": [
        "###문자열에 있는 문자(열) 개수 구하기(count)"
      ],
      "metadata": {
        "id": "u0klF62N0xqv"
      }
    },
    {
      "cell_type": "code",
      "execution_count": 2,
      "metadata": {
        "colab": {
          "base_uri": "https://localhost:8080/"
        },
        "id": "qgKo8fic0tUT",
        "outputId": "a49d9054-2737-40b9-8e36-9571cb9b8210"
      },
      "outputs": [
        {
          "output_type": "stream",
          "name": "stdout",
          "text": [
            "3\n",
            "2\n",
            "8\n"
          ]
        }
      ],
      "source": [
        "txt = 'a lot of things occur each day, every day.'\n",
        "word_count1 = txt.count('o')\n",
        "word_count2 = txt.count('day')\n",
        "word_count3 = txt.count(' ')\n",
        "print(word_count1)\n",
        "print(word_count2)\n",
        "print(word_count3)"
      ]
    },
    {
      "cell_type": "markdown",
      "source": [
        "###count()\n",
        "- 특정 문자의 개수를 리턴하는 메소드"
      ],
      "metadata": {
        "id": "qzhtRK8e1EsN"
      }
    },
    {
      "cell_type": "markdown",
      "source": [
        "###문자열에서 특정 문자(열) 위치 찾기(find)"
      ],
      "metadata": {
        "id": "HvUaT8ew1NaG"
      }
    },
    {
      "cell_type": "code",
      "source": [
        "txt = 'a lot of things occur each day, every day.'\n",
        "offset1 = txt.find('e')\n",
        "offset2 = txt.find('day')\n",
        "offset3 = txt.find('day', 30)\n",
        "print(offset1)\n",
        "print(offset2)\n",
        "print(offset3)"
      ],
      "metadata": {
        "colab": {
          "base_uri": "https://localhost:8080/"
        },
        "id": "KyMkE3if1Rz-",
        "outputId": "b264f7a4-c3af-4119-b9ef-a48615f7a10d"
      },
      "execution_count": 4,
      "outputs": [
        {
          "output_type": "stream",
          "name": "stdout",
          "text": [
            "22\n",
            "27\n",
            "38\n"
          ]
        }
      ]
    },
    {
      "cell_type": "markdown",
      "source": [
        "###find()\n",
        "- 문자열에서 특정 문자나 문자열이 위치하는 인덱스를 리턴\n",
        "- 첫번째 인자는 찾고자 하는 인자를, 두번째 인자는 시작할 시작점을 지정(두 번째 인자는 생략 가능하나 같은 단어가 나올 경우 사용)\n",
        "- 해당 문자나 문자열을 찾을 수 없다면 -1을 리턴"
      ],
      "metadata": {
        "id": "vIcgiJ6t1fRZ"
      }
    }
  ]
}