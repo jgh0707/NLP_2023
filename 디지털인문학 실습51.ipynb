{
  "nbformat": 4,
  "nbformat_minor": 0,
  "metadata": {
    "colab": {
      "provenance": [],
      "authorship_tag": "ABX9TyOJfAs0B34dMpoLlIzefvYT",
      "include_colab_link": true
    },
    "kernelspec": {
      "name": "python3",
      "display_name": "Python 3"
    },
    "language_info": {
      "name": "python"
    }
  },
  "cells": [
    {
      "cell_type": "markdown",
      "metadata": {
        "id": "view-in-github",
        "colab_type": "text"
      },
      "source": [
        "<a href=\"https://colab.research.google.com/github/jgh0707/NLP_2023/blob/main/%EB%94%94%EC%A7%80%ED%84%B8%EC%9D%B8%EB%AC%B8%ED%95%99%20%EC%8B%A4%EC%8A%B551.ipynb\" target=\"_parent\"><img src=\"https://colab.research.google.com/assets/colab-badge.svg\" alt=\"Open In Colab\"/></a>"
      ]
    },
    {
      "cell_type": "markdown",
      "source": [
        "#디지털인문학 실습 과제51\n",
        "##23.11.09\n",
        "\n",
        "##초보자를 위한 파이썬 200제"
      ],
      "metadata": {
        "id": "qjNLDW4duuTh"
      }
    },
    {
      "cell_type": "code",
      "source": [],
      "metadata": {
        "id": "lVLIWCoIw-oT"
      },
      "execution_count": null,
      "outputs": []
    },
    {
      "cell_type": "markdown",
      "source": [
        "### 10진수를 16진수로 변환하기(hex)"
      ],
      "metadata": {
        "id": "4j3uBh5duw_W"
      }
    },
    {
      "cell_type": "code",
      "execution_count": 1,
      "metadata": {
        "colab": {
          "base_uri": "https://localhost:8080/"
        },
        "id": "0nc6vj2Hut80",
        "outputId": "c6a739fb-8a62-4790-830c-7449ffb72dbc"
      },
      "outputs": [
        {
          "output_type": "stream",
          "name": "stdout",
          "text": [
            "0x610x62\n",
            "0xc3\n"
          ]
        }
      ],
      "source": [
        "h1 = hex(97)\n",
        "h2 = hex(98)\n",
        "ret1 = h1 + h2\n",
        "print(ret1)\n",
        "a = int(h1, 16)\n",
        "b = int(h2, 16)\n",
        "ret2 = a + b\n",
        "print(hex(ret2))"
      ]
    },
    {
      "cell_type": "markdown",
      "source": [
        "###hex()\n",
        "- 인자로 입력된 10진수를 16진수로 변환하여 문자열로 리턴하는 내장함수\n",
        "- 변환한 16진수를 덧셈 혹은 뺄셈을 하기 위해선 int()함수를 이용하여 숫자로 변환한 뒤 해야 한다."
      ],
      "metadata": {
        "id": "0U6SAZaWvFmr"
      }
    },
    {
      "cell_type": "markdown",
      "source": [
        "###10진수를 2진수로 변환하기(bin)"
      ],
      "metadata": {
        "id": "vrg8V9cQvVwu"
      }
    },
    {
      "cell_type": "code",
      "source": [
        "b1 = bin(97)\n",
        "b2 = bin(98)\n",
        "ret1 = b1 + b2\n",
        "print(ret1)\n",
        "a = int(b1, 2)\n",
        "b = int(b2, 2)\n",
        "ret2 = a + b\n",
        "print(bin(ret2))"
      ],
      "metadata": {
        "colab": {
          "base_uri": "https://localhost:8080/"
        },
        "id": "LRFjfmq5vbXn",
        "outputId": "ffd415b8-c9bb-4807-dd2b-aa08c3bbd198"
      },
      "execution_count": 3,
      "outputs": [
        {
          "output_type": "stream",
          "name": "stdout",
          "text": [
            "0b11000010b1100010\n",
            "0b11000011\n"
          ]
        }
      ]
    },
    {
      "cell_type": "markdown",
      "source": [
        "###bin()\n",
        "- 파이썬 3에서 새롭게 추가된 함수로 인자로 입력된 숫자를 2진수로 변환해 문자열로 리턴하는 내장함수\n",
        "- 위에 hex()와 마찬가지로 덧셈과 뺄셈을 하기 위해선 int()로 숫자로 변환한 뒤 계산해야 한다."
      ],
      "metadata": {
        "id": "Uru-J0JpvrgG"
      }
    },
    {
      "cell_type": "markdown",
      "source": [
        "###2진수, 16진수를 10진수로 변환하기(int)"
      ],
      "metadata": {
        "id": "n2nKXUFBv_n7"
      }
    },
    {
      "cell_type": "code",
      "source": [
        "bnum = 0b11110000; bstr = '0b11110000'\n",
        "onum = 0o360; ostr = '0o360'\n",
        "hnum = 0xf0; hstr = '0xf0'\n",
        "b1 = int(bnum);b2 = int(bstr, 2)\n",
        "o1 = int(onum);o2 = int(ostr, 8)\n",
        "h1 = int(hnum);h2 = int(hstr, 16)\n",
        "print(b1);print(b2)\n",
        "print(o1);print(o2)\n",
        "print(h1);print(h2)"
      ],
      "metadata": {
        "colab": {
          "base_uri": "https://localhost:8080/"
        },
        "id": "P5LzIJALwDhi",
        "outputId": "1ccf85b4-c6c3-4451-c563-2553e491dd7b"
      },
      "execution_count": 4,
      "outputs": [
        {
          "output_type": "stream",
          "name": "stdout",
          "text": [
            "240\n",
            "240\n",
            "240\n",
            "240\n",
            "240\n",
            "240\n"
          ]
        }
      ]
    },
    {
      "cell_type": "markdown",
      "source": [
        "###int()\n",
        "- 2진수, 8진수, 16진수의 정수를 10진수의 정수로 변환하는 내장함수\n",
        "- 문자열에 경우에도 10진수로 변환이 가능한데 int()의 두 번째 인자에 2진수, 16진수임을 지정하면 된다."
      ],
      "metadata": {
        "id": "2XzbIRnewoos"
      }
    }
  ]
}