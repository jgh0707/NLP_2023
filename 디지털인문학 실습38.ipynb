{
  "nbformat": 4,
  "nbformat_minor": 0,
  "metadata": {
    "colab": {
      "provenance": [],
      "authorship_tag": "ABX9TyNMYNZblmq7h9cHACZA9ix4",
      "include_colab_link": true
    },
    "kernelspec": {
      "name": "python3",
      "display_name": "Python 3"
    },
    "language_info": {
      "name": "python"
    }
  },
  "cells": [
    {
      "cell_type": "markdown",
      "metadata": {
        "id": "view-in-github",
        "colab_type": "text"
      },
      "source": [
        "<a href=\"https://colab.research.google.com/github/jgh0707/NLP_2023/blob/main/%EB%94%94%EC%A7%80%ED%84%B8%EC%9D%B8%EB%AC%B8%ED%95%99%20%EC%8B%A4%EC%8A%B538.ipynb\" target=\"_parent\"><img src=\"https://colab.research.google.com/assets/colab-badge.svg\" alt=\"Open In Colab\"/></a>"
      ]
    },
    {
      "cell_type": "markdown",
      "source": [
        "# **디지털인문학 실습 과제38**\n",
        "## 23.10.25\n",
        "\n",
        "## 초보자를 위한 파이썬 200제"
      ],
      "metadata": {
        "id": "OBdtRWLVHE_M"
      }
    },
    {
      "cell_type": "markdown",
      "source": [
        "###파일 열고 닫기(open, close)"
      ],
      "metadata": {
        "id": "4Fv3DXlHHIRR"
      }
    },
    {
      "cell_type": "code",
      "source": [
        "f1 = open('text.txt', 'r')\n",
        "f2 = open('d:/myimages/mypicturel.jpg', 'rd')\n",
        "\n",
        "\n",
        "f1.colse()\n",
        "f2.close()"
      ],
      "metadata": {
        "id": "uKmMiRcSHtim"
      },
      "execution_count": null,
      "outputs": []
    },
    {
      "cell_type": "markdown",
      "source": [
        "###open, close\n",
        "- 파이썬에서 파일을 다루는 방법으로 사용방법은 다음과 같다.\n",
        " - open(파일이름, 모드)\n",
        "- '파일이름'에서는 찾고자 하는 파일의 이름을 적으면 되고 모드는 다음과 같은 뜻을 가진다.\n",
        "\n",
        "| 모드 | 설명 |\n",
        "|:--:|:--:|\n",
        "| r 또는 rt | 텍스트 모드로 읽기 |\n",
        "| w 또는 wt | 텍스트 모드로 쓰기 |\n",
        "| a 또는 at | 텍스트 모드로 파일 마지막에 추가하기 |\n",
        "| rb | 바이너리 모드로 읽기 |\n",
        "| wb | 바이너리모드로 쓰기 |\n",
        "| ab | 바이너리 모드로 파일 마지막에 추가하기 |\n",
        "\n",
        "- 위의 함수를 작동하면 f1은 text.txt 파일을 찾아서 텍스트 읽기 모드로 오픈되며, f2는 d:/myimages/mypicturel.jpg라는 경로를 통하여 바이너리 읽기 모드로 오픈된다.\n",
        "- 그 뒤 close()를 이용하여 오픈한 파일을 닫는다."
      ],
      "metadata": {
        "id": "E-5roNUFHvHP"
      }
    }
  ]
}