{
  "nbformat": 4,
  "nbformat_minor": 0,
  "metadata": {
    "colab": {
      "provenance": [],
      "authorship_tag": "ABX9TyMkxd6pJvxLetBXTKB7XrL2",
      "include_colab_link": true
    },
    "kernelspec": {
      "name": "python3",
      "display_name": "Python 3"
    },
    "language_info": {
      "name": "python"
    }
  },
  "cells": [
    {
      "cell_type": "markdown",
      "metadata": {
        "id": "view-in-github",
        "colab_type": "text"
      },
      "source": [
        "<a href=\"https://colab.research.google.com/github/jgh0707/NLP_2023/blob/main/%EB%94%94%EC%A7%80%ED%84%B8%EC%9D%B8%EB%AC%B8%ED%95%99%20%EC%8B%A4%EC%8A%B539.ipynb\" target=\"_parent\"><img src=\"https://colab.research.google.com/assets/colab-badge.svg\" alt=\"Open In Colab\"/></a>"
      ]
    },
    {
      "cell_type": "markdown",
      "source": [
        "# **디지털인문학 실습 과제39**\n",
        "## 23.10.26\n",
        "\n",
        "## 복습"
      ],
      "metadata": {
        "id": "VxqbaObHYFpa"
      }
    },
    {
      "cell_type": "code",
      "execution_count": 1,
      "metadata": {
        "colab": {
          "base_uri": "https://localhost:8080/"
        },
        "id": "14AwLk3zYCJc",
        "outputId": "f38054d9-0ad9-410e-9dab-a5f7cc6fefdd"
      },
      "outputs": [
        {
          "output_type": "stream",
          "name": "stdout",
          "text": [
            "match : 1\n",
            "match : 4\n",
            "match : 9\n"
          ]
        }
      ],
      "source": [
        "import re\n",
        "\n",
        "text = 'a total of 149 episodes of the aesop for children'\n",
        "pattern = r'[0-9]'\n",
        "#숫자 찾을 때 사용\n",
        "matches = re.findall(pattern, text)\n",
        "\n",
        "for i in matches:\n",
        "  print('match :', i)"
      ]
    },
    {
      "cell_type": "code",
      "source": [
        "import re\n",
        "\n",
        "text = '24 Hours a Day, 7 Days a Week, & 365 Days a Year!'\n",
        "pattern = r'[a-zA-Z0-9]'\n",
        "#대, 소문자 구분 없이 숫자를 포함한 모든 문자를 찾을 때 사용\n",
        "matches = re.findall(pattern, text)\n",
        "\n",
        "for i in matches:\n",
        "  print('match :', i)"
      ],
      "metadata": {
        "colab": {
          "base_uri": "https://localhost:8080/"
        },
        "id": "bdGrvHXgYS5E",
        "outputId": "f11e643e-ce84-4796-95af-f173bb7e6faa"
      },
      "execution_count": 2,
      "outputs": [
        {
          "output_type": "stream",
          "name": "stdout",
          "text": [
            "match : 2\n",
            "match : 4\n",
            "match : H\n",
            "match : o\n",
            "match : u\n",
            "match : r\n",
            "match : s\n",
            "match : a\n",
            "match : D\n",
            "match : a\n",
            "match : y\n",
            "match : 7\n",
            "match : D\n",
            "match : a\n",
            "match : y\n",
            "match : s\n",
            "match : a\n",
            "match : W\n",
            "match : e\n",
            "match : e\n",
            "match : k\n",
            "match : 3\n",
            "match : 6\n",
            "match : 5\n",
            "match : D\n",
            "match : a\n",
            "match : y\n",
            "match : s\n",
            "match : a\n",
            "match : Y\n",
            "match : e\n",
            "match : a\n",
            "match : r\n"
          ]
        }
      ]
    },
    {
      "cell_type": "code",
      "source": [
        "import re\n",
        "\n",
        "text = \"24 Hours a Day,\\n 7 Days a Week,\\n & 365 Days a Year!\"\n",
        "\n",
        "pattern = r\"[^a-zA-Z0-9]\"\n",
        "matches = re.findall(pattern, text)\n",
        "#위와는 반대로 숫자를 포함한 모든 문자를 제외하고 찾을 때 사용(띄어쓰기, 쉼표 등)\n",
        "for i in matches:\n",
        "    print(\"Match:\", i)"
      ],
      "metadata": {
        "colab": {
          "base_uri": "https://localhost:8080/"
        },
        "id": "5ujwpobUYTGY",
        "outputId": "d78e5db3-774f-4cea-ca00-58e2c0aa7ff5"
      },
      "execution_count": 3,
      "outputs": [
        {
          "output_type": "stream",
          "name": "stdout",
          "text": [
            "Match:  \n",
            "Match:  \n",
            "Match:  \n",
            "Match: ,\n",
            "Match: \n",
            "\n",
            "Match:  \n",
            "Match:  \n",
            "Match:  \n",
            "Match:  \n",
            "Match: ,\n",
            "Match: \n",
            "\n",
            "Match:  \n",
            "Match: &\n",
            "Match:  \n",
            "Match:  \n",
            "Match:  \n",
            "Match:  \n",
            "Match: !\n"
          ]
        }
      ]
    },
    {
      "cell_type": "code",
      "source": [
        "import re\n",
        "\n",
        "text = 'The color can be either red or green or blue.'\n",
        "pattern = r'either red|blue|green'\n",
        "#특정 문자를 위치와 상관없이 찾을 때 사용\n",
        "matches = re.findall(pattern, text)\n",
        "\n",
        "for i in matches:\n",
        "  print('match :', i)"
      ],
      "metadata": {
        "colab": {
          "base_uri": "https://localhost:8080/"
        },
        "id": "x0C-fXlwYTZ_",
        "outputId": "35a21609-6585-49da-ccad-25c29996af77"
      },
      "execution_count": 4,
      "outputs": [
        {
          "output_type": "stream",
          "name": "stdout",
          "text": [
            "match : either red\n",
            "match : green\n",
            "match : blue\n"
          ]
        }
      ]
    },
    {
      "cell_type": "code",
      "source": [
        "import re\n",
        "\n",
        "text = \"Hello, world.\\n This is test #5.\"\n",
        "pattern = r\"\\.\"\n",
        "# \\사용시 메타 문자 자체를 일반 문자로 인식하기에 결과가 아래와 같다.\n",
        "matches = re.findall(pattern, text)\n",
        "\n",
        "for i in matches:\n",
        "    print(\"Match:\", i)"
      ],
      "metadata": {
        "colab": {
          "base_uri": "https://localhost:8080/"
        },
        "id": "TnUCRE2xYtv5",
        "outputId": "a00cda8f-3dc6-497c-b47b-76aa8bb5d295"
      },
      "execution_count": 5,
      "outputs": [
        {
          "output_type": "stream",
          "name": "stdout",
          "text": [
            "Match: .\n",
            "Match: .\n"
          ]
        }
      ]
    },
    {
      "cell_type": "code",
      "source": [
        "import re\n",
        "\n",
        "text = \"Hello, world.\\n This is test #5.\"\n",
        "pattern = r\".\"\n",
        "#한개의 임의의 문자를 찾는 것으로 한 단어 및 띄어쓰기도 포함하여 결과 도출\n",
        "\n",
        "matches = re.findall(pattern, text)\n",
        "\n",
        "for i in matches:\n",
        "    print(\"Match:\", i)\n",
        "\n",
        "print(\"Match:\", matches)"
      ],
      "metadata": {
        "colab": {
          "base_uri": "https://localhost:8080/"
        },
        "id": "aAPEL7X_ZAGr",
        "outputId": "c7167923-7183-4cc8-864d-fe3245dea97a"
      },
      "execution_count": 6,
      "outputs": [
        {
          "output_type": "stream",
          "name": "stdout",
          "text": [
            "Match: H\n",
            "Match: e\n",
            "Match: l\n",
            "Match: l\n",
            "Match: o\n",
            "Match: ,\n",
            "Match:  \n",
            "Match: w\n",
            "Match: o\n",
            "Match: r\n",
            "Match: l\n",
            "Match: d\n",
            "Match: .\n",
            "Match:  \n",
            "Match: T\n",
            "Match: h\n",
            "Match: i\n",
            "Match: s\n",
            "Match:  \n",
            "Match: i\n",
            "Match: s\n",
            "Match:  \n",
            "Match: t\n",
            "Match: e\n",
            "Match: s\n",
            "Match: t\n",
            "Match:  \n",
            "Match: #\n",
            "Match: 5\n",
            "Match: .\n",
            "Match: ['H', 'e', 'l', 'l', 'o', ',', ' ', 'w', 'o', 'r', 'l', 'd', '.', ' ', 'T', 'h', 'i', 's', ' ', 'i', 's', ' ', 't', 'e', 's', 't', ' ', '#', '5', '.']\n"
          ]
        }
      ]
    },
    {
      "cell_type": "code",
      "source": [
        "import re\n",
        "\n",
        "text = \"The price is $100.\"\n",
        "pattern = r\"\\d\"\n",
        "# 숫자를 찾는 정규 표현식으로 [0-9]와 같다.\n",
        "matches = re.findall(pattern, text)\n",
        "\n",
        "for i in matches:\n",
        "  print(\"Match:\", i)\n",
        "\n",
        "\n",
        "print(\"Match:\", matches)"
      ],
      "metadata": {
        "colab": {
          "base_uri": "https://localhost:8080/"
        },
        "id": "dr0Ljmt9ZP35",
        "outputId": "3e940a30-d163-49da-ea0b-a1ff8ce58849"
      },
      "execution_count": 7,
      "outputs": [
        {
          "output_type": "stream",
          "name": "stdout",
          "text": [
            "Match: 1\n",
            "Match: 0\n",
            "Match: 0\n",
            "Match: ['1', '0', '0']\n"
          ]
        }
      ]
    },
    {
      "cell_type": "code",
      "source": [
        "import re\n",
        "\n",
        "text = \"The price is $100.\"\n",
        "pattern = r\"\\d+\"\n",
        "# 메타 문자를 사용하여 숫자가 하나 이상 연속해서 일치하도록 패턴을 지정한다. 즉 위와 같이 100을 1, 0, 0으로 따로 구하는 것이 아니라 합쳐서 값이 나온다.\n",
        "matches = re.findall(pattern, text)\n",
        "\n",
        "for i in matches:\n",
        "    print(\"Match:\", i)\n",
        "\n",
        "print(\"Match:\", matches)"
      ],
      "metadata": {
        "colab": {
          "base_uri": "https://localhost:8080/"
        },
        "id": "t4B7NyLjZaIB",
        "outputId": "272d213b-edb4-4ca6-ad59-c750743f1a14"
      },
      "execution_count": 9,
      "outputs": [
        {
          "output_type": "stream",
          "name": "stdout",
          "text": [
            "Match: 100\n",
            "Match: ['100']\n"
          ]
        }
      ]
    },
    {
      "cell_type": "code",
      "source": [
        "import re\n",
        "\n",
        "text = \"The price is $100.\"\n",
        "pattern = r\"\\D\"\n",
        "# 숫자가 아닌 기호, 문자를 나타내는 정규 표현식으로 [^0-9]와 같다\n",
        "matches = re.findall(pattern, text)\n",
        "\n",
        "for i in matches:\n",
        "    print(\"Match:\", i)\n",
        "\n",
        "print(\"Match:\", matches)"
      ],
      "metadata": {
        "colab": {
          "base_uri": "https://localhost:8080/"
        },
        "id": "IbpRW1kuZpku",
        "outputId": "0eebdf7b-7a2a-48d6-9778-97b96efd1936"
      },
      "execution_count": 10,
      "outputs": [
        {
          "output_type": "stream",
          "name": "stdout",
          "text": [
            "Match: T\n",
            "Match: h\n",
            "Match: e\n",
            "Match:  \n",
            "Match: p\n",
            "Match: r\n",
            "Match: i\n",
            "Match: c\n",
            "Match: e\n",
            "Match:  \n",
            "Match: i\n",
            "Match: s\n",
            "Match:  \n",
            "Match: $\n",
            "Match: .\n",
            "Match: ['T', 'h', 'e', ' ', 'p', 'r', 'i', 'c', 'e', ' ', 'i', 's', ' ', '$', '.']\n"
          ]
        }
      ]
    },
    {
      "cell_type": "code",
      "source": [
        "import re\n",
        "\n",
        "text = \"Hello   World\"\n",
        "pattern = r\"\\s\"\n",
        "# 공백을 나타내는 정규 표현식\n",
        "matches = re.findall(pattern, text)\n",
        "\n",
        "for match in matches:\n",
        "    print(\"Match:\", match)\n",
        "\n",
        "print(\"Match:\", matches)"
      ],
      "metadata": {
        "colab": {
          "base_uri": "https://localhost:8080/"
        },
        "id": "02AYTYuZZ1QV",
        "outputId": "5abd3ba8-9dd2-4cf0-ea76-27db94526bb2"
      },
      "execution_count": 11,
      "outputs": [
        {
          "output_type": "stream",
          "name": "stdout",
          "text": [
            "Match:  \n",
            "Match:  \n",
            "Match:  \n",
            "Match: [' ', ' ', ' ']\n"
          ]
        }
      ]
    },
    {
      "cell_type": "code",
      "source": [
        "import re\n",
        "\n",
        "text = \"Hello, World today is Today is October 26th\"\n",
        "pattern = r\"\\S\"\n",
        "#공백을 제외한 모든 숫자, 문자 및 기호를 나타내는 정규표현식\n",
        "matches = re.findall(pattern, text)\n",
        "\n",
        "for match in matches:\n",
        "    print(\"Match:\", match)\n",
        "\n",
        "#add a regular print() function\n",
        "print(\"Match:\", matches)"
      ],
      "metadata": {
        "colab": {
          "base_uri": "https://localhost:8080/"
        },
        "id": "2m1DOxzjZ-Al",
        "outputId": "14c54766-16ad-49ac-9566-768dea8f9b1a"
      },
      "execution_count": 12,
      "outputs": [
        {
          "output_type": "stream",
          "name": "stdout",
          "text": [
            "Match: H\n",
            "Match: e\n",
            "Match: l\n",
            "Match: l\n",
            "Match: o\n",
            "Match: ,\n",
            "Match: W\n",
            "Match: o\n",
            "Match: r\n",
            "Match: l\n",
            "Match: d\n",
            "Match: t\n",
            "Match: o\n",
            "Match: d\n",
            "Match: a\n",
            "Match: y\n",
            "Match: i\n",
            "Match: s\n",
            "Match: T\n",
            "Match: o\n",
            "Match: d\n",
            "Match: a\n",
            "Match: y\n",
            "Match: i\n",
            "Match: s\n",
            "Match: O\n",
            "Match: c\n",
            "Match: t\n",
            "Match: o\n",
            "Match: b\n",
            "Match: e\n",
            "Match: r\n",
            "Match: 2\n",
            "Match: 6\n",
            "Match: t\n",
            "Match: h\n",
            "Match: ['H', 'e', 'l', 'l', 'o', ',', 'W', 'o', 'r', 'l', 'd', 't', 'o', 'd', 'a', 'y', 'i', 's', 'T', 'o', 'd', 'a', 'y', 'i', 's', 'O', 'c', 't', 'o', 'b', 'e', 'r', '2', '6', 't', 'h']\n"
          ]
        }
      ]
    }
  ]
}