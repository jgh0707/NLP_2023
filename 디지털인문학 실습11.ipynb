{
  "nbformat": 4,
  "nbformat_minor": 0,
  "metadata": {
    "colab": {
      "provenance": [],
      "authorship_tag": "ABX9TyNnx7jbRTBajjyK9atmA3Xk",
      "include_colab_link": true
    },
    "kernelspec": {
      "name": "python3",
      "display_name": "Python 3"
    },
    "language_info": {
      "name": "python"
    }
  },
  "cells": [
    {
      "cell_type": "markdown",
      "metadata": {
        "id": "view-in-github",
        "colab_type": "text"
      },
      "source": [
        "<a href=\"https://colab.research.google.com/github/jgh0707/NLP_2023/blob/main/%EB%94%94%EC%A7%80%ED%84%B8%EC%9D%B8%EB%AC%B8%ED%95%99%20%EC%8B%A4%EC%8A%B511.ipynb\" target=\"_parent\"><img src=\"https://colab.research.google.com/assets/colab-badge.svg\" alt=\"Open In Colab\"/></a>"
      ]
    },
    {
      "cell_type": "markdown",
      "source": [
        "# **디지털인문학 실습 과제11**\n",
        "## 23.09.26\n",
        "\n",
        "## 복습"
      ],
      "metadata": {
        "id": "Gh6JjQlLhXZC"
      }
    },
    {
      "cell_type": "markdown",
      "source": [
        "| str data | I |   | l | o | v | e |  | P | y | t | h | o |n | ! |\n",
        "|:---------|:--|:--|:--|:--|:--|:--|:--|:--|:--|:--|:--|:-|:-|:-:|\n",
        "| Forward Indexing | 0 | 1 | 2 | 3 | 4 | 5 | 6 | 7 | 8 | 9 | 10| 11| 12|13|\n",
        "| Backward Indexing|-14| -13| -12| -11| -10| -9| -8| -7| -6| -5| -4| -3| -2|-1|"
      ],
      "metadata": {
        "id": "eKPQ1VTpiGYw"
      }
    },
    {
      "cell_type": "code",
      "execution_count": 5,
      "metadata": {
        "colab": {
          "base_uri": "https://localhost:8080/"
        },
        "id": "iMFRhXb9hUeN",
        "outputId": "349e7d6c-87a2-4633-fbbd-0beed1957093"
      },
      "outputs": [
        {
          "output_type": "stream",
          "name": "stdout",
          "text": [
            "i\n",
            "t\n",
            " \n",
            "h\n",
            "v\n",
            "!\n",
            " \n",
            "p\n",
            "h\n",
            "v\n"
          ]
        }
      ],
      "source": [
        "str_data = \"i love python!\"\n",
        "print(str_data[0])\n",
        "print(str_data[9])\n",
        "print(str_data[6])\n",
        "print(str_data[10])\n",
        "print(str_data[4])\n",
        "\n",
        "print(str_data[-1])\n",
        "print(str_data[-13])\n",
        "print(str_data[-7])\n",
        "print(str_data[-4])\n",
        "print(str_data[-10])"
      ]
    }
  ]
}