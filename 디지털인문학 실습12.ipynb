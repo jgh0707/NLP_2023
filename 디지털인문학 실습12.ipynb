{
  "nbformat": 4,
  "nbformat_minor": 0,
  "metadata": {
    "colab": {
      "provenance": [],
      "authorship_tag": "ABX9TyPpnFWtF5TsQ88Qk0XZ1XhX",
      "include_colab_link": true
    },
    "kernelspec": {
      "name": "python3",
      "display_name": "Python 3"
    },
    "language_info": {
      "name": "python"
    }
  },
  "cells": [
    {
      "cell_type": "markdown",
      "metadata": {
        "id": "view-in-github",
        "colab_type": "text"
      },
      "source": [
        "<a href=\"https://colab.research.google.com/github/jgh0707/NLP_2023/blob/main/%EB%94%94%EC%A7%80%ED%84%B8%EC%9D%B8%EB%AC%B8%ED%95%99%20%EC%8B%A4%EC%8A%B512.ipynb\" target=\"_parent\"><img src=\"https://colab.research.google.com/assets/colab-badge.svg\" alt=\"Open In Colab\"/></a>"
      ]
    },
    {
      "cell_type": "markdown",
      "source": [
        "# **디지털인문학 실습 과제12**\n",
        "## 23.09.27\n",
        "\n",
        "## 복습"
      ],
      "metadata": {
        "id": "kkUItjUMm_iR"
      }
    },
    {
      "cell_type": "code",
      "execution_count": 5,
      "metadata": {
        "colab": {
          "base_uri": "https://localhost:8080/"
        },
        "id": "bRgN6cBmm94z",
        "outputId": "6d67a8f4-5477-4b7f-c290-eeaae105bcbe"
      },
      "outputs": [
        {
          "output_type": "stream",
          "name": "stdout",
          "text": [
            "100\n",
            "[500, 600, 700]\n",
            "600\n"
          ]
        }
      ],
      "source": [
        "listdata_1 = [100, 200, [500, 600, 700]]\n",
        "print(listdata_1[0])\n",
        "print(listdata_1[2])\n",
        "print(listdata_1[2][1])"
      ]
    },
    {
      "cell_type": "code",
      "source": [
        "listdata_2 = ['apple', 'banana', 'grapes', 'mango']\n",
        "print(listdata_2)\n",
        "\n",
        "listdata_2[0] = \"shine musket\"\n",
        "print(listdata_2)"
      ],
      "metadata": {
        "colab": {
          "base_uri": "https://localhost:8080/"
        },
        "id": "Gr4F6IDCnuR0",
        "outputId": "28f09601-dfd6-4ffe-cec2-ea4a26c0eca0"
      },
      "execution_count": 7,
      "outputs": [
        {
          "output_type": "stream",
          "name": "stdout",
          "text": [
            "['apple', 'banana', 'grapes', 'mango']\n",
            "['shine musket', 'banana', 'grapes', 'mango']\n"
          ]
        }
      ]
    },
    {
      "cell_type": "code",
      "source": [
        "tupledata = ('apple', 'banana', 'grapes', 'mango')\n",
        "print(tupledata)"
      ],
      "metadata": {
        "colab": {
          "base_uri": "https://localhost:8080/"
        },
        "id": "cACmDjL4n2ns",
        "outputId": "da942ab0-c071-4ebf-95e8-9a48f224ec90"
      },
      "execution_count": 9,
      "outputs": [
        {
          "output_type": "stream",
          "name": "stdout",
          "text": [
            "('apple', 'banana', 'grapes', 'mango')\n"
          ]
        }
      ]
    },
    {
      "cell_type": "code",
      "source": [
        "tupledata2= ('apple', 'banana', 'grapes', 'mango')\n",
        "\n",
        "tupledata2[0]=\"shine musket\"\n",
        "print (tupledata2)\n",
        "#tuple 안에 있는 데이터들은 리스트와 같이 변경할 수 없다."
      ],
      "metadata": {
        "colab": {
          "base_uri": "https://localhost:8080/",
          "height": 230
        },
        "id": "WIyQx-gwn_Mp",
        "outputId": "dc1d002e-64ae-48d1-ff15-1d3a6cc8107d"
      },
      "execution_count": 10,
      "outputs": [
        {
          "output_type": "error",
          "ename": "TypeError",
          "evalue": "ignored",
          "traceback": [
            "\u001b[0;31m---------------------------------------------------------------------------\u001b[0m",
            "\u001b[0;31mTypeError\u001b[0m                                 Traceback (most recent call last)",
            "\u001b[0;32m<ipython-input-10-f5ec0557c20a>\u001b[0m in \u001b[0;36m<cell line: 3>\u001b[0;34m()\u001b[0m\n\u001b[1;32m      1\u001b[0m \u001b[0mtupledata\u001b[0m \u001b[0;34m=\u001b[0m \u001b[0;34m(\u001b[0m\u001b[0;34m'apple'\u001b[0m\u001b[0;34m,\u001b[0m \u001b[0;34m'banana'\u001b[0m\u001b[0;34m,\u001b[0m \u001b[0;34m'grapes'\u001b[0m\u001b[0;34m,\u001b[0m \u001b[0;34m'mango'\u001b[0m\u001b[0;34m)\u001b[0m\u001b[0;34m\u001b[0m\u001b[0;34m\u001b[0m\u001b[0m\n\u001b[1;32m      2\u001b[0m \u001b[0;34m\u001b[0m\u001b[0m\n\u001b[0;32m----> 3\u001b[0;31m \u001b[0mtupledata\u001b[0m\u001b[0;34m[\u001b[0m\u001b[0;36m0\u001b[0m\u001b[0;34m]\u001b[0m\u001b[0;34m=\u001b[0m\u001b[0;34m\"shine musket\"\u001b[0m\u001b[0;34m\u001b[0m\u001b[0;34m\u001b[0m\u001b[0m\n\u001b[0m\u001b[1;32m      4\u001b[0m \u001b[0mprint\u001b[0m \u001b[0;34m(\u001b[0m\u001b[0mtupledata\u001b[0m\u001b[0;34m)\u001b[0m\u001b[0;34m\u001b[0m\u001b[0;34m\u001b[0m\u001b[0m\n",
            "\u001b[0;31mTypeError\u001b[0m: 'tuple' object does not support item assignment"
          ]
        }
      ]
    },
    {
      "cell_type": "code",
      "source": [
        "str_data = 'abcdefghijklmno'\n",
        "print(str_data)\n",
        "print(str_data[5:11])\n",
        "print(str_data[-6:])\n",
        "print(str_data[:])\n",
        "print(str_data[::2])"
      ],
      "metadata": {
        "colab": {
          "base_uri": "https://localhost:8080/"
        },
        "id": "OaC3Y1fCoZj2",
        "outputId": "edfcd500-5517-4bf3-f5ab-206c2c604b45"
      },
      "execution_count": 12,
      "outputs": [
        {
          "output_type": "stream",
          "name": "stdout",
          "text": [
            "abcdefghijklmno\n",
            "fghijk\n",
            "jklmno\n",
            "abcdefghijklmno\n",
            "acegikmo\n"
          ]
        }
      ]
    }
  ]
}