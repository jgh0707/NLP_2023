{
  "nbformat": 4,
  "nbformat_minor": 0,
  "metadata": {
    "colab": {
      "provenance": [],
      "authorship_tag": "ABX9TyMbPDQOEub7b0uzxoeYHljS",
      "include_colab_link": true
    },
    "kernelspec": {
      "name": "python3",
      "display_name": "Python 3"
    },
    "language_info": {
      "name": "python"
    }
  },
  "cells": [
    {
      "cell_type": "markdown",
      "metadata": {
        "id": "view-in-github",
        "colab_type": "text"
      },
      "source": [
        "<a href=\"https://colab.research.google.com/github/jgh0707/NLP_2023/blob/main/%EB%94%94%EC%A7%80%ED%84%B8%EC%9D%B8%EB%AC%B8%ED%95%99%20%EC%8B%A4%EC%8A%B517.ipynb\" target=\"_parent\"><img src=\"https://colab.research.google.com/assets/colab-badge.svg\" alt=\"Open In Colab\"/></a>"
      ]
    },
    {
      "cell_type": "markdown",
      "source": [
        "# **디지털인문학 실습 과제17**\n",
        "## 23.10.04\n",
        "\n",
        "## 초보자를 위한 파이썬 200제"
      ],
      "metadata": {
        "id": "HWtm3UkA8ROL"
      }
    },
    {
      "cell_type": "markdown",
      "source": [
        "##관계 연산자 이해하기\n",
        "###(==, !=, <, <=, >,>=)"
      ],
      "metadata": {
        "id": "87449sWD8d3I"
      }
    },
    {
      "cell_type": "code",
      "execution_count": 2,
      "metadata": {
        "colab": {
          "base_uri": "https://localhost:8080/"
        },
        "id": "zG_G9xSv8L77",
        "outputId": "15f28482-5935-412b-d1ed-32106953eed0"
      },
      "outputs": [
        {
          "output_type": "stream",
          "name": "stdout",
          "text": [
            "False\n",
            "True\n",
            "False\n",
            "True\n",
            "True\n"
          ]
        }
      ],
      "source": [
        "x = 1; y = 2\n",
        "str1 = 'abc'; str2 = 'python'\n",
        "print(x == y)\n",
        "print(x != y)\n",
        "print(str1 == str2)\n",
        "print(str2 == 'python')\n",
        "print(str1 <str2)"
      ]
    },
    {
      "cell_type": "markdown",
      "source": [
        "##연산관계자에 대한 의미는 다음과 같다\n",
        "\n",
        "| 관계연산자 | 의미 |\n",
        "|:--:|:--:|\n",
        "| A == B| A와 B가 같으면 참|\n",
        "| A != B| A와 B가 다르면 참|\n",
        "| A < B| A와 B보다 작으면 참|\n",
        "| A <= B| A와 B보다 작거나 같으면 참|\n",
        "| A > B| A와 B보다 크면 참|\n",
        "| A >= B| A와 B보다 크거나 같으면 참|\n"
      ],
      "metadata": {
        "id": "TjiagZic9SEI"
      }
    }
  ]
}