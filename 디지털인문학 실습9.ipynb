{
  "nbformat": 4,
  "nbformat_minor": 0,
  "metadata": {
    "colab": {
      "provenance": [],
      "authorship_tag": "ABX9TyMZpqKKnKPcQjpLOtx8tUUV",
      "include_colab_link": true
    },
    "kernelspec": {
      "name": "python3",
      "display_name": "Python 3"
    },
    "language_info": {
      "name": "python"
    }
  },
  "cells": [
    {
      "cell_type": "markdown",
      "metadata": {
        "id": "view-in-github",
        "colab_type": "text"
      },
      "source": [
        "<a href=\"https://colab.research.google.com/github/jgh0707/NLP_2023/blob/main/%EB%94%94%EC%A7%80%ED%84%B8%EC%9D%B8%EB%AC%B8%ED%95%99%20%EC%8B%A4%EC%8A%B5%20%EA%B3%BC%EC%A0%9C9.ipynb\" target=\"_parent\"><img src=\"https://colab.research.google.com/assets/colab-badge.svg\" alt=\"Open In Colab\"/></a>"
      ]
    },
    {
      "cell_type": "markdown",
      "source": [
        "# **디지털인문학 실습 과제9**\n",
        "## 23.09.24\n",
        "\n",
        "## 초보자를 위한 파이썬 200제"
      ],
      "metadata": {
        "id": "Nk31YNI2gGgw"
      }
    },
    {
      "cell_type": "markdown",
      "source": [
        "## 정수형 자료 이해하기"
      ],
      "metadata": {
        "id": "a4u0jardhlDB"
      }
    },
    {
      "cell_type": "code",
      "execution_count": 3,
      "metadata": {
        "colab": {
          "base_uri": "https://localhost:8080/"
        },
        "id": "HlLwKLv-f-Tc",
        "outputId": "dd6dbdb4-9ae3-4566-d678-362cf7c52b2c"
      },
      "outputs": [
        {
          "output_type": "stream",
          "name": "stdout",
          "text": [
            "10\n",
            "2\n",
            "8\n",
            "16\n",
            "1234567890\n"
          ]
        }
      ],
      "source": [
        "int_data = 10\n",
        "bin_data = 0b10\n",
        "oct_data = 0o10\n",
        "hex_data = 0x10\n",
        "ling_data = 1234567890\n",
        "print(int_data)\n",
        "print(bin_data)\n",
        "print(oct_data)\n",
        "print(hex_data)\n",
        "print(ling_data)"
      ]
    },
    {
      "cell_type": "markdown",
      "source": [
        "- 파이썬에 2진수는 0b, 8진수는 0o, 16진수는 0x로 시작하는 수이다.\n",
        "- 일반적으로 프로그래밍 언어에서 지원하는 정수형 상수의 범위는 -2147483647~ 2147483647까지이다.\n",
        "- 그러나 파이썬은 정수형 상수의 최소, 최대값이 존재하지 않고 메모리가 허용하는 최대의 수까지 사용가능하다."
      ],
      "metadata": {
        "id": "3Hscp_6biGlg"
      }
    }
  ]
}
