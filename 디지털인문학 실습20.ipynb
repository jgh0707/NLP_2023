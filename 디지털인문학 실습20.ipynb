{
  "nbformat": 4,
  "nbformat_minor": 0,
  "metadata": {
    "colab": {
      "provenance": [],
      "authorship_tag": "ABX9TyM5fqiPKWUSZyTMQmE+Se5b",
      "include_colab_link": true
    },
    "kernelspec": {
      "name": "python3",
      "display_name": "Python 3"
    },
    "language_info": {
      "name": "python"
    }
  },
  "cells": [
    {
      "cell_type": "markdown",
      "metadata": {
        "id": "view-in-github",
        "colab_type": "text"
      },
      "source": [
        "<a href=\"https://colab.research.google.com/github/jgh0707/NLP_2023/blob/main/%EB%94%94%EC%A7%80%ED%84%B8%EC%9D%B8%EB%AC%B8%ED%95%99%20%EC%8B%A4%EC%8A%B520.ipynb\" target=\"_parent\"><img src=\"https://colab.research.google.com/assets/colab-badge.svg\" alt=\"Open In Colab\"/></a>"
      ]
    },
    {
      "cell_type": "markdown",
      "source": [
        "# **디지털인문학 실습 과제20**\n",
        "## 23.10.07\n",
        "\n",
        "## 초보자를 위한 파이썬 200제"
      ],
      "metadata": {
        "id": "sLXaDCi5Ky-k"
      }
    },
    {
      "cell_type": "markdown",
      "source": [
        "### 논리 연산자 이해하기(<font color = 'red'>and, or, not</font>)"
      ],
      "metadata": {
        "id": "KSpEPOk6K5RM"
      }
    },
    {
      "cell_type": "code",
      "execution_count": 8,
      "metadata": {
        "colab": {
          "base_uri": "https://localhost:8080/"
        },
        "id": "1lLmoeDTKx9y",
        "outputId": "c6073602-cc35-4d84-f476-956f3db0bfd3"
      },
      "outputs": [
        {
          "output_type": "stream",
          "name": "stdout",
          "text": [
            "False\n",
            "True\n",
            "True\n",
            "False\n",
            "False\n",
            "True\n"
          ]
        }
      ],
      "source": [
        "bool1 = True; bool2 = False; bool3 = True; bool4 = False\n"
      ]
    },
    {
      "cell_type": "markdown",
      "source": [
        "##논리 연산자는 참과 거짓의 값을 비교하여 참 혹은 거짓을 내놓는 것으로 의미는 다음과 같다\n",
        "\n",
        "| 관계연산자 | 의미 |\n",
        "|:--:|:--:|\n",
        "| A and B| A와 B가 모두 참이면 참|\n",
        "| A or B| A와 B중 하나 이상이 참이면 참|\n",
        "| not A | A논리값의 반대|\n",
        "\n",
        "- 그렇기에 위에 논리에 대한 결과 값은 각각 and, or, not에 대한 의미로서 아래와 같다.\n"
      ],
      "metadata": {
        "id": "l8btidNhL9CJ"
      }
    },
    {
      "cell_type": "code",
      "source": [
        "print(bool1 and bool2)\n",
        "print(bool1 and bool3)\n",
        "print(bool2 or bool3)\n",
        "print(bool2 or bool4)\n",
        "print(not bool1)\n",
        "print(not bool2)"
      ],
      "metadata": {
        "colab": {
          "base_uri": "https://localhost:8080/"
        },
        "id": "zJDGha2-MrXY",
        "outputId": "fd85183d-c83c-4641-9a10-cc5d38e9de9f"
      },
      "execution_count": 9,
      "outputs": [
        {
          "output_type": "stream",
          "name": "stdout",
          "text": [
            "False\n",
            "True\n",
            "True\n",
            "False\n",
            "False\n",
            "True\n"
          ]
        }
      ]
    }
  ]
}