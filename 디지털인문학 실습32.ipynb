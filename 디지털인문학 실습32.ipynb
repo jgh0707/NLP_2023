{
  "nbformat": 4,
  "nbformat_minor": 0,
  "metadata": {
    "colab": {
      "provenance": [],
      "authorship_tag": "ABX9TyNC49fAFYynf8yGdDd64SbW",
      "include_colab_link": true
    },
    "kernelspec": {
      "name": "python3",
      "display_name": "Python 3"
    },
    "language_info": {
      "name": "python"
    }
  },
  "cells": [
    {
      "cell_type": "markdown",
      "metadata": {
        "id": "view-in-github",
        "colab_type": "text"
      },
      "source": [
        "<a href=\"https://colab.research.google.com/github/jgh0707/NLP_2023/blob/main/%EB%94%94%EC%A7%80%ED%84%B8%EC%9D%B8%EB%AC%B8%ED%95%99%20%EC%8B%A4%EC%8A%B532.ipynb\" target=\"_parent\"><img src=\"https://colab.research.google.com/assets/colab-badge.svg\" alt=\"Open In Colab\"/></a>"
      ]
    },
    {
      "cell_type": "markdown",
      "source": [
        "# **디지털인문학 실습 과제32**\n",
        "## 23.10.19\n",
        "\n",
        "## 초보자를 위한 파이썬 200제"
      ],
      "metadata": {
        "id": "B_hNegTtHWBE"
      }
    },
    {
      "cell_type": "markdown",
      "source": [
        "###함수 이해하기(def)"
      ],
      "metadata": {
        "id": "2Pxxmdf2HeZj"
      }
    },
    {
      "cell_type": "code",
      "execution_count": 1,
      "metadata": {
        "colab": {
          "base_uri": "https://localhost:8080/"
        },
        "id": "7UG4UNwWHSTK",
        "outputId": "7fc9d83a-538c-4721-c079-fdb22336c504"
      },
      "outputs": [
        {
          "output_type": "stream",
          "name": "stdout",
          "text": [
            "25\n",
            "대한민국~만세!!\n"
          ]
        }
      ],
      "source": [
        "def add_number(n1, n2):\n",
        "  ret = n1 + n2\n",
        "  return ret\n",
        "\n",
        "def add_txt(t1, t2):\n",
        "  print(t1 + t2)\n",
        "\n",
        "ans = add_number(10, 15)\n",
        "print(ans)\n",
        "text1 = '대한민국~'\n",
        "text2 = '만세!!'\n",
        "add_txt(text1, text2)"
      ]
    },
    {
      "cell_type": "markdown",
      "source": [
        "### def 함수\n",
        "- 특정 기능을 여러 번 사용할 경우 효율적인 프로그래밍을 위해 사용되는 것을 말한다.\n",
        "- 함수는 재사용 목적이 아니더라도 소스의 가독성을 높이기 때문에 자주 사용된다.\n",
        "- 함수 정의 방법은 다음과 같다(코드셀에 정리)\n",
        "\n",
        "\n",
        "\n"
      ],
      "metadata": {
        "id": "EwwEPxm-Lg62"
      }
    },
    {
      "cell_type": "code",
      "source": [
        "#인자와 리턴값이 있는 함수 선언\n",
        "# def 함수이름(인자1, 인자2, ...):\n",
        "#  코드들\n",
        "#  return 결과값\n",
        "# -------------------------------------\n",
        "#리턴값은 있지만 인자가 없는 함수 선언\n",
        "# def 함수이름():\n",
        "#  코드들\n",
        "#return 결과값\n",
        "# -------------------------------------\n",
        "#인자와 리턴값이 없는 함수 선언 방법\n",
        "# def 함수이름():\n",
        "#  코드들\n",
        "#   return(또는 생략)"
      ],
      "metadata": {
        "id": "CCpbBW0pN3N5"
      },
      "execution_count": 2,
      "outputs": []
    },
    {
      "cell_type": "markdown",
      "source": [
        " - 정의된 함수의 호출 방법\n",
        "  - 인자와 리턴값이 있는 함수 호출 방법\n",
        "    - 변수 = 함수이름(값1, 값2, ...)\n",
        "  - 리턴값이 없는 함수 호출 방법\n",
        "    - 함수이름(값1, 값2, ...)\n",
        "  - 인자와 리턴값이 없는 함수 호출 방법\n",
        "    - 함수이름()"
      ],
      "metadata": {
        "id": "JGYLtyLLP9uK"
      }
    }
  ]
}