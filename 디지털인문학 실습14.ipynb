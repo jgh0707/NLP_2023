{
  "nbformat": 4,
  "nbformat_minor": 0,
  "metadata": {
    "colab": {
      "provenance": [],
      "authorship_tag": "ABX9TyMatjtlfjNVbInbMhzlCIGw",
      "include_colab_link": true
    },
    "kernelspec": {
      "name": "python3",
      "display_name": "Python 3"
    },
    "language_info": {
      "name": "python"
    }
  },
  "cells": [
    {
      "cell_type": "markdown",
      "metadata": {
        "id": "view-in-github",
        "colab_type": "text"
      },
      "source": [
        "<a href=\"https://colab.research.google.com/github/jgh0707/NLP_2023/blob/main/%EB%94%94%EC%A7%80%ED%84%B8%EC%9D%B8%EB%AC%B8%ED%95%99%20%EC%8B%A4%EC%8A%B514.ipynb\" target=\"_parent\"><img src=\"https://colab.research.google.com/assets/colab-badge.svg\" alt=\"Open In Colab\"/></a>"
      ]
    },
    {
      "cell_type": "markdown",
      "source": [
        "# **디지털인문학 실습 과제14**\n",
        "## 23.09.30\n",
        "\n",
        "## 초보자를 위한 파이썬 200제"
      ],
      "metadata": {
        "id": "5uCcyP-q3CSI"
      }
    },
    {
      "cell_type": "markdown",
      "source": [
        "## 복소수형 자료 이해하기"
      ],
      "metadata": {
        "id": "Zi7H3JRb39--"
      }
    },
    {
      "cell_type": "code",
      "execution_count": 1,
      "metadata": {
        "colab": {
          "base_uri": "https://localhost:8080/"
        },
        "id": "RZqsaOjp27_v",
        "outputId": "17a20c37-68e3-40e0-be42-ea4788f4fb2c"
      },
      "outputs": [
        {
          "output_type": "stream",
          "name": "stdout",
          "text": [
            "1.0\n",
            "7.0\n",
            "(2-3j)\n"
          ]
        }
      ],
      "source": [
        " c1 = 1 + 7j\n",
        " print(c1.real) ; print(c1.imag)\n",
        " c2 = complex(2, -3)\n",
        " print(c2)"
      ]
    },
    {
      "cell_type": "markdown",
      "source": [
        "- 복소수형 상수인 c1에서 실수만 추출하려면 real을 이용해고 허수만을 추출하려면 imag를 이용해야 하기에 위에 값이 각각 1.0과 7.0이 나온다.\n",
        "- complex는 복소수형 상수를 구성할 수 있어 complex(2, -3)은 실수부 2와 허수부 -3인 복소수를 만들기에 2 -3j의 값이 된다."
      ],
      "metadata": {
        "id": "PejkPF-g5idr"
      }
    }
  ]
}