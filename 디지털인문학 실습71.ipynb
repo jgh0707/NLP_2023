{
  "nbformat": 4,
  "nbformat_minor": 0,
  "metadata": {
    "colab": {
      "provenance": [],
      "authorship_tag": "ABX9TyOBs6W+WJCWj/kz5p1NKBuw",
      "include_colab_link": true
    },
    "kernelspec": {
      "name": "python3",
      "display_name": "Python 3"
    },
    "language_info": {
      "name": "python"
    }
  },
  "cells": [
    {
      "cell_type": "markdown",
      "metadata": {
        "id": "view-in-github",
        "colab_type": "text"
      },
      "source": [
        "<a href=\"https://colab.research.google.com/github/jgh0707/NLP_2023/blob/main/%EB%94%94%EC%A7%80%ED%84%B8%EC%9D%B8%EB%AC%B8%ED%95%99%20%EC%8B%A4%EC%8A%B571.ipynb\" target=\"_parent\"><img src=\"https://colab.research.google.com/assets/colab-badge.svg\" alt=\"Open In Colab\"/></a>"
      ]
    },
    {
      "cell_type": "markdown",
      "source": [
        "#디지털인문학 실습 과제71\n",
        "##23.12.03\n",
        "##초보자를 위한 파이썬 200제"
      ],
      "metadata": {
        "id": "HFgcQ2ovQ0IV"
      }
    },
    {
      "cell_type": "markdown",
      "source": [
        "###리스트에서 특정 구간에 있는 요소 추출하기"
      ],
      "metadata": {
        "id": "01AmHn4fRSrx"
      }
    },
    {
      "cell_type": "code",
      "execution_count": 3,
      "metadata": {
        "colab": {
          "base_uri": "https://localhost:8080/"
        },
        "id": "CqIInIIgQztM",
        "outputId": "aa71718b-c3c2-413e-91da-aa9446d3b070"
      },
      "outputs": [
        {
          "output_type": "stream",
          "name": "stdout",
          "text": [
            "태양계의 암석형 행성 :['수성', '금성', '지구']\n",
            "태양계의 가스형 행성 :['화성', '목성', '토성', '천왕성', '해왕성']\n"
          ]
        }
      ],
      "source": [
        "solarsys = ['태양', '수성', '금성', '지구', '화성', '목성', '토성', '천왕성', '해왕성']\n",
        "rock_planets = solarsys[1:4]\n",
        "gas_planets = solarsys[4:]\n",
        "print('태양계의 암석형 행성 :', end ='');print(rock_planets)\n",
        "print('태양계의 가스형 행성 :', end ='');print(gas_planets)\n",
        "#화성도 암석형 행성이 아닌가?"
      ]
    },
    {
      "cell_type": "markdown",
      "source": [
        "- 이전에 배운 슬라이싱을 통하여 특정 구간에 있는 요소들을 추출할 수 있다."
      ],
      "metadata": {
        "id": "moHxRjoRRj4P"
      }
    },
    {
      "cell_type": "markdown",
      "source": [
        "###리스트에서 짝수 번째 요소만 추출하기"
      ],
      "metadata": {
        "id": "qh_eXBauRpqD"
      }
    },
    {
      "cell_type": "code",
      "source": [
        "listdata = list(range(1, 21))\n",
        "evenlist = listdata[1::2]\n",
        "print(evenlist)"
      ],
      "metadata": {
        "colab": {
          "base_uri": "https://localhost:8080/"
        },
        "id": "68sj_uqBRs-7",
        "outputId": "c1172bc1-444b-4ca5-f0c0-a968b663c743"
      },
      "execution_count": 5,
      "outputs": [
        {
          "output_type": "stream",
          "name": "stdout",
          "text": [
            "[2, 4, 6, 8, 10, 12, 14, 16, 18, 20]\n"
          ]
        }
      ]
    },
    {
      "cell_type": "markdown",
      "source": [
        "- 짝수만을 추출하려면 위와 같이 [1::2]의 형식을 통해 얻을 수 있고 반대로 홀수만을 추출하려면 [::2]로 얻을 수 있다."
      ],
      "metadata": {
        "id": "itoL3n4NR52m"
      }
    }
  ]
}