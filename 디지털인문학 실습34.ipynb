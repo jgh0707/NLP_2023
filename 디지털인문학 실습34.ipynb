{
  "nbformat": 4,
  "nbformat_minor": 0,
  "metadata": {
    "colab": {
      "provenance": [],
      "authorship_tag": "ABX9TyPffqE9toFVrEYG4V87s0qD",
      "include_colab_link": true
    },
    "kernelspec": {
      "name": "python3",
      "display_name": "Python 3"
    },
    "language_info": {
      "name": "python"
    }
  },
  "cells": [
    {
      "cell_type": "markdown",
      "metadata": {
        "id": "view-in-github",
        "colab_type": "text"
      },
      "source": [
        "<a href=\"https://colab.research.google.com/github/jgh0707/NLP_2023/blob/main/%EB%94%94%EC%A7%80%ED%84%B8%EC%9D%B8%EB%AC%B8%ED%95%99%20%EC%8B%A4%EC%8A%B534.ipynb\" target=\"_parent\"><img src=\"https://colab.research.google.com/assets/colab-badge.svg\" alt=\"Open In Colab\"/></a>"
      ]
    },
    {
      "cell_type": "markdown",
      "source": [
        "# **디지털인문학 실습 과제34**\n",
        "## 23.10.21\n",
        "\n",
        "## 초보자를 위한 파이썬 200제"
      ],
      "metadata": {
        "id": "P4gMukzLDtmm"
      }
    },
    {
      "cell_type": "markdown",
      "source": [
        "###지역변수와 전역변수 이해하기(global)"
      ],
      "metadata": {
        "id": "aCL70rGbDzWj"
      }
    },
    {
      "cell_type": "code",
      "execution_count": 1,
      "metadata": {
        "colab": {
          "base_uri": "https://localhost:8080/"
        },
        "id": "wgRCWrH1DqrH",
        "outputId": "c9733adc-9242-46dc-c633-0d741917b30a"
      },
      "outputs": [
        {
          "output_type": "stream",
          "name": "stdout",
          "text": [
            "지역변수\n",
            "전역변수\n",
            "10\n",
            "10\n",
            "50\n"
          ]
        }
      ],
      "source": [
        "param = 10\n",
        "strdata = '전역변수'\n",
        "\n",
        "def func1():\n",
        "  strdata = '지역변수'\n",
        "  print(strdata)\n",
        "\n",
        "def func2(param):\n",
        "  param = 1\n",
        "\n",
        "def func3():\n",
        "  global param\n",
        "  param = 50\n",
        "\n",
        "func1()\n",
        "print(strdata)\n",
        "print(param)\n",
        "func2(param)\n",
        "print(param)\n",
        "func3()\n",
        "print(param)"
      ]
    },
    {
      "cell_type": "markdown",
      "source": [
        "### 지역변수, 전역변수\n",
        "- 변수의 유효 범위를 기준으로 구분할 때 사용\n",
        "- 지역변수 : 함수 내에서만 유효/ 전역변수 : 코드 전반에 걸쳐 유효\n",
        "- 지역변수와 전역변수의 이름이 같을 경우 지역변수가 우선적으로 처리된다"
      ],
      "metadata": {
        "id": "y1yEEQN4FgGR"
      }
    },
    {
      "cell_type": "markdown",
      "source": [
        "###함수의 리턴값 이해하기(return)"
      ],
      "metadata": {
        "id": "o6SF0z6aGP5O"
      }
    },
    {
      "cell_type": "code",
      "source": [
        "def reverse(x, y, z):\n",
        "  return z, y, x\n",
        "\n",
        "ret = reverse(1, 2, 3)\n",
        "print(ret)\n",
        "\n",
        "r1, r2, r3 = reverse('a', 'b', 'c')\n",
        "print(r1);print(r2);print(r3)"
      ],
      "metadata": {
        "colab": {
          "base_uri": "https://localhost:8080/"
        },
        "id": "abfYOrljGge0",
        "outputId": "82f0f9f6-3701-42a1-fd74-88b632104ac0"
      },
      "execution_count": 2,
      "outputs": [
        {
          "output_type": "stream",
          "name": "stdout",
          "text": [
            "(3, 2, 1)\n",
            "c\n",
            "b\n",
            "a\n"
          ]
        }
      ]
    },
    {
      "cell_type": "markdown",
      "source": [
        "###return\n",
        " - return 키워드를 이용하면 값을 리턴하고 함수를 종료한다\n",
        " - 리턴값이 여러개인 경우 튜플로 리턴값을 만들어 리턴한다."
      ],
      "metadata": {
        "id": "CuzCYsSoHlpT"
      }
    }
  ]
}