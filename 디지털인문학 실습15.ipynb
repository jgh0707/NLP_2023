{
  "nbformat": 4,
  "nbformat_minor": 0,
  "metadata": {
    "colab": {
      "provenance": [],
      "authorship_tag": "ABX9TyOMnYviIMC8S66CEXnIspgS",
      "include_colab_link": true
    },
    "kernelspec": {
      "name": "python3",
      "display_name": "Python 3"
    },
    "language_info": {
      "name": "python"
    }
  },
  "cells": [
    {
      "cell_type": "markdown",
      "metadata": {
        "id": "view-in-github",
        "colab_type": "text"
      },
      "source": [
        "<a href=\"https://colab.research.google.com/github/jgh0707/NLP_2023/blob/main/%EB%94%94%EC%A7%80%ED%84%B8%EC%9D%B8%EB%AC%B8%ED%95%99%20%EC%8B%A4%EC%8A%B515.ipynb\" target=\"_parent\"><img src=\"https://colab.research.google.com/assets/colab-badge.svg\" alt=\"Open In Colab\"/></a>"
      ]
    },
    {
      "cell_type": "markdown",
      "source": [
        "# **디지털인문학 실습 과제15**\n",
        "## 23.10.01\n",
        "\n",
        "## 초보자를 위한 파이썬 200제"
      ],
      "metadata": {
        "id": "1M73WE7KE3qv"
      }
    },
    {
      "cell_type": "markdown",
      "source": [
        "## 대입 연산자 이해하기"
      ],
      "metadata": {
        "id": "tF6QRUUrE8M5"
      }
    },
    {
      "cell_type": "code",
      "execution_count": 1,
      "metadata": {
        "colab": {
          "base_uri": "https://localhost:8080/"
        },
        "id": "AcQzff5GE3Dt",
        "outputId": "561dd05e-7353-48e8-eceb-b16c9df77fc5"
      },
      "outputs": [
        {
          "output_type": "stream",
          "name": "stdout",
          "text": [
            "a와 b를 더한 값은 3입니다\n"
          ]
        }
      ],
      "source": [
        "a = 1\n",
        "b = 2\n",
        "ret = a + b\n",
        "print('a와 b를 더한 값은 ', end='')\n",
        "print(ret,end='')\n",
        "print('입니다')"
      ]
    },
    {
      "cell_type": "markdown",
      "source": [
        "- 'a와 b를 더한 값은 '을 줄바꿈 문자 /n을 생략하고 출력, ret의 값을 출력한 후, '입니다'를 출력한 값이다"
      ],
      "metadata": {
        "id": "IPr7YFOEFgeg"
      }
    },
    {
      "cell_type": "markdown",
      "source": [
        "## 사칙 연산자 이해하기(+,-,*,/,^)"
      ],
      "metadata": {
        "id": "_empXX30Fxh_"
      }
    },
    {
      "cell_type": "code",
      "source": [
        "c = 2\n",
        "d = 4\n",
        "ret1 = c + d\n",
        "print(ret1)\n",
        "ret2 = c - d\n",
        "print(ret2)\n",
        "ret3 = c * d\n",
        "print(ret3)\n",
        "ret4 = c / d\n",
        "print(ret4)\n",
        "ret5 = c ** d\n",
        "print(ret5)\n",
        "ret6 = c + c * d / c\n",
        "print(ret6)\n",
        "ret7 = (c+d)*(c-d)\n",
        "print(ret7)\n",
        "ret8 = c*d**c\n",
        "print(ret8)"
      ],
      "metadata": {
        "colab": {
          "base_uri": "https://localhost:8080/"
        },
        "id": "fSWSO1UHFxHh",
        "outputId": "7b59b54e-98a8-4ffb-9dd1-f27a406d1dbb"
      },
      "execution_count": 7,
      "outputs": [
        {
          "output_type": "stream",
          "name": "stdout",
          "text": [
            "6\n",
            "-2\n",
            "8\n",
            "0.5\n",
            "16\n",
            "6.0\n",
            "-12\n",
            "32\n"
          ]
        }
      ]
    },
    {
      "cell_type": "markdown",
      "source": [
        "- 사칙 연사자에 대한 규칙은 실제 수학에서 배운 사칙연산과 동일하기에 실제 계산한 부분과 일치한 답이 나온다.\n",
        " - +는 덧셈, -는 뺄셈, *은 곱셈, /는 나눗셈, ^은 거듭제곱을 의미한다.\n",
        "\n"
      ],
      "metadata": {
        "id": "XwI7bDkCHAlV"
      }
    }
  ]
}