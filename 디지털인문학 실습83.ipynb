{
  "nbformat": 4,
  "nbformat_minor": 0,
  "metadata": {
    "colab": {
      "provenance": [],
      "authorship_tag": "ABX9TyPyz0aBfBCj5ZCRKxl9j9DY",
      "include_colab_link": true
    },
    "kernelspec": {
      "name": "python3",
      "display_name": "Python 3"
    },
    "language_info": {
      "name": "python"
    }
  },
  "cells": [
    {
      "cell_type": "markdown",
      "metadata": {
        "id": "view-in-github",
        "colab_type": "text"
      },
      "source": [
        "<a href=\"https://colab.research.google.com/github/jgh0707/NLP_2023/blob/main/%EB%94%94%EC%A7%80%ED%84%B8%EC%9D%B8%EB%AC%B8%ED%95%99%20%EC%8B%A4%EC%8A%B583.ipynb\" target=\"_parent\"><img src=\"https://colab.research.google.com/assets/colab-badge.svg\" alt=\"Open In Colab\"/></a>"
      ]
    },
    {
      "cell_type": "markdown",
      "source": [
        "#디지털인문학 실습 과제83\n",
        "##23.12.16\n",
        "##초보자를 위한 파이썬 200제"
      ],
      "metadata": {
        "id": "SAISpFKuBsqo"
      }
    },
    {
      "cell_type": "markdown",
      "source": [
        "###리스트의 모든 요소의 합 구하기(sum)"
      ],
      "metadata": {
        "id": "UEjAkEjeBxwT"
      }
    },
    {
      "cell_type": "code",
      "execution_count": 1,
      "metadata": {
        "colab": {
          "base_uri": "https://localhost:8080/"
        },
        "id": "ggeL4BOOBsTR",
        "outputId": "b196d614-7b43-43a0-c71f-cde6cde59d83"
      },
      "outputs": [
        {
          "output_type": "stream",
          "name": "stdout",
          "text": [
            "65\n"
          ]
        }
      ],
      "source": [
        "listdata = [2, 2, 1, 3, 8, 5, 7, 6, 3, 6, 2, 3, 9, 4, 4]\n",
        "ret = sum(listdata)\n",
        "print(ret)"
      ]
    },
    {
      "cell_type": "markdown",
      "source": [
        "###sum()\n",
        " - 모든 요소를 합하는 내장함수\n",
        " - 숫자가 아닌 요소가 섞여있다면 TypeError 오류가 발생"
      ],
      "metadata": {
        "id": "yHHcXpb7C8T_"
      }
    },
    {
      "cell_type": "markdown",
      "source": [
        "\n",
        "###리스트 요소가 모두 참인지 확인하기(all, any)"
      ],
      "metadata": {
        "id": "5H2YX0SeEj9J"
      }
    },
    {
      "cell_type": "code",
      "source": [
        "listdata1 = [0, 1, 2, 3, 4]\n",
        "listdata2 = [True, True, True]\n",
        "listdata3 = ['',[], (), {}, None, False]\n",
        "print(all(listdata1))\n",
        "print(any(listdata1))\n",
        "print(all(listdata2))\n",
        "print(any(listdata2))\n",
        "print(all(listdata3))\n",
        "print(any(listdata3))"
      ],
      "metadata": {
        "colab": {
          "base_uri": "https://localhost:8080/"
        },
        "id": "df9pfmC_Es9Y",
        "outputId": "5fd0f8a9-559f-4c67-f091-f07181e72161"
      },
      "execution_count": 2,
      "outputs": [
        {
          "output_type": "stream",
          "name": "stdout",
          "text": [
            "False\n",
            "True\n",
            "True\n",
            "True\n",
            "False\n",
            "False\n"
          ]
        }
      ]
    },
    {
      "cell_type": "markdown",
      "source": [
        "###any(), all()\n",
        "- all()은 모든 요소가 참인 경우에만 True를 하나라도 거짓이 있으면 False를 리턴\n",
        "- any()는 리스트의 모든 요소가 거짓인 경우에만 False를 하나라도 참이면 True를 리턴"
      ],
      "metadata": {
        "id": "Ws-D8lXvFUMk"
      }
    }
  ]
}