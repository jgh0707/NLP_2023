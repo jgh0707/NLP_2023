{
  "nbformat": 4,
  "nbformat_minor": 0,
  "metadata": {
    "colab": {
      "provenance": [],
      "authorship_tag": "ABX9TyOj8JL6Uwf5Km1njMadrrsW",
      "include_colab_link": true
    },
    "kernelspec": {
      "name": "python3",
      "display_name": "Python 3"
    },
    "language_info": {
      "name": "python"
    }
  },
  "cells": [
    {
      "cell_type": "markdown",
      "metadata": {
        "id": "view-in-github",
        "colab_type": "text"
      },
      "source": [
        "<a href=\"https://colab.research.google.com/github/jgh0707/NLP_2023/blob/main/%EB%94%94%EC%A7%80%ED%84%B8%EC%9D%B8%EB%AC%B8%ED%95%99%20%EC%8B%A4%EC%8A%B586.ipynb\" target=\"_parent\"><img src=\"https://colab.research.google.com/assets/colab-badge.svg\" alt=\"Open In Colab\"/></a>"
      ]
    },
    {
      "cell_type": "markdown",
      "source": [
        "#디지털인문학 실습 과제86\n",
        "##23.12.19\n",
        "##초보자를 위한 파이썬 200제"
      ],
      "metadata": {
        "id": "fpqrS8GWXq2B"
      }
    },
    {
      "cell_type": "markdown",
      "source": [
        "###사전에서 키만 추출하기(keys)"
      ],
      "metadata": {
        "id": "a_kA7dK_YKIj"
      }
    },
    {
      "cell_type": "code",
      "execution_count": 6,
      "metadata": {
        "colab": {
          "base_uri": "https://localhost:8080/"
        },
        "id": "6yv6NSalXkuK",
        "outputId": "ff3ab613-0deb-4f34-9875-a61995376071"
      },
      "outputs": [
        {
          "output_type": "stream",
          "name": "stdout",
          "text": [
            "dict_keys(['mary', 'sams', 'aimy', 'tom', 'michale', 'bob', 'kelly'])\n",
            "Key:mary\tValue:10999\n",
            "Key:sams\tValue:2111\n",
            "Key:aimy\tValue:9778\n",
            "Key:tom\tValue:20245\n",
            "Key:michale\tValue:27115\n",
            "Key:bob\tValue:5887\n",
            "Key:kelly\tValue:7855\n"
          ]
        }
      ],
      "source": [
        "names = {'mary':10999, 'sams':2111, 'aimy':9778, 'tom':20245, 'michale':27115, 'bob':5887, 'kelly':7855}\n",
        "ks = names.keys()\n",
        "print(ks)\n",
        "\n",
        "for k in ks:\n",
        " print('Key:%s\\tValue:%d'%(k, names[k]))"
      ]
    },
    {
      "cell_type": "markdown",
      "source": [
        "###keys()\n",
        " - 사전에서 키에 해당하는 요소를 리턴한다.\n"
      ],
      "metadata": {
        "id": "lYze2kWpaOwL"
      }
    },
    {
      "cell_type": "markdown",
      "source": [
        "###사전에서 값만 추출하기(values)"
      ],
      "metadata": {
        "id": "YBBFvl-jc5_z"
      }
    },
    {
      "cell_type": "code",
      "source": [
        "names = {'mary':10999, 'sams':2111, 'aimy':9778, 'tom':20245, 'michale':27115, 'bob':5887, 'kelly':7855}\n",
        "vals = names.values()\n",
        "print(vals)\n",
        "\n",
        "vals_list = list(vals)\n",
        "ret = sum(vals_list)\n",
        "print('출생아 수 총계: %d' %ret)"
      ],
      "metadata": {
        "colab": {
          "base_uri": "https://localhost:8080/"
        },
        "id": "i70xb4acctyj",
        "outputId": "7d5ed441-dd0c-4e40-9db9-5343bb11becf"
      },
      "execution_count": 7,
      "outputs": [
        {
          "output_type": "stream",
          "name": "stdout",
          "text": [
            "dict_values([10999, 2111, 9778, 20245, 27115, 5887, 7855])\n",
            "출생아 수 총계: 83990\n"
          ]
        }
      ]
    },
    {
      "cell_type": "markdown",
      "source": [
        "###values()\n",
        "- 사전에서 값에 해당하는 요소를 리턴한다.\n"
      ],
      "metadata": {
        "id": "lToacco2dA61"
      }
    }
  ]
}