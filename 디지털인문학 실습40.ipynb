{
  "nbformat": 4,
  "nbformat_minor": 0,
  "metadata": {
    "colab": {
      "provenance": [],
      "authorship_tag": "ABX9TyPe7C3f2zNoSYRRMTeKPl5b",
      "include_colab_link": true
    },
    "kernelspec": {
      "name": "python3",
      "display_name": "Python 3"
    },
    "language_info": {
      "name": "python"
    }
  },
  "cells": [
    {
      "cell_type": "markdown",
      "metadata": {
        "id": "view-in-github",
        "colab_type": "text"
      },
      "source": [
        "<a href=\"https://colab.research.google.com/github/jgh0707/NLP_2023/blob/main/%EB%94%94%EC%A7%80%ED%84%B8%EC%9D%B8%EB%AC%B8%ED%95%99%20%EC%8B%A4%EC%8A%B540.ipynb\" target=\"_parent\"><img src=\"https://colab.research.google.com/assets/colab-badge.svg\" alt=\"Open In Colab\"/></a>"
      ]
    },
    {
      "cell_type": "markdown",
      "source": [
        "# **디지털인문학 실습 과제40**\n",
        "## 23.10.27\n",
        "\n",
        "## 초보자를 위한 파이썬 200제"
      ],
      "metadata": {
        "id": "_Fwlxfo3lHbb"
      }
    },
    {
      "cell_type": "markdown",
      "source": [
        "###클래스 이해하기(class)"
      ],
      "metadata": {
        "id": "iiWzERr-lKx_"
      }
    },
    {
      "cell_type": "code",
      "execution_count": 3,
      "metadata": {
        "colab": {
          "base_uri": "https://localhost:8080/"
        },
        "id": "m2q5hDf3lC40",
        "outputId": "6f99687f-8632-46ef-8b6c-36cb4e738e16"
      },
      "outputs": [
        {
          "output_type": "stream",
          "name": "stdout",
          "text": [
            "안녕하세요\n",
            "안녕하세요\n"
          ]
        }
      ],
      "source": [
        "class myclass:\n",
        "  var = '안녕하세요'\n",
        "  def sayhello(self):\n",
        "     print(self.var)\n",
        "\n",
        "obj = myclass()\n",
        "print(obj.var)\n",
        "obj.sayhello()"
      ]
    },
    {
      "cell_type": "markdown",
      "source": [
        "###클래스(class)\n",
        " - 프로그래머가 지정한 이름으로 만든 하나의 독립된 공간 =>이름공간이라 부름\n",
        " - 구성하는 주요 요소는 변수 역할의 클래스 멤버, 함수의 역할을 하는 클래스 메소드가 있다.\n",
        " - 클래스는 다음과 같이 정의할 수 있다.\n",
        "  - class 클래스 이름:\n",
        "  - 클래스 멤버 정의\n",
        "  - 클래스 메소드 정의"
      ],
      "metadata": {
        "id": "E2mr2AbUlkJy"
      }
    },
    {
      "cell_type": "markdown",
      "source": [
        "###클래스 멤버와 인스턴스 멤버 이해하기"
      ],
      "metadata": {
        "id": "LzjUZnwJmHcC"
      }
    },
    {
      "cell_type": "code",
      "source": [
        "class Myclass:\n",
        "  var = '안녕하세요'\n",
        "  def sayhello(self):\n",
        "     param1='안녕'\n",
        "     self.param2='하이'\n",
        "     print(param1)\n",
        "     print(self.var)\n",
        "#교재에서는 위의 print로 인하여 안녕과 안녕하세요도 출력되어야 하지만 오류인지 출력이 안됨\n",
        "#확인 후 수정 예정\n",
        "obj = Myclass()\n",
        "print(obj.var)"
      ],
      "metadata": {
        "colab": {
          "base_uri": "https://localhost:8080/"
        },
        "id": "spirMv64mKvL",
        "outputId": "493fc1cc-33d9-41a7-adf6-8e9e4158bd22"
      },
      "execution_count": 11,
      "outputs": [
        {
          "output_type": "stream",
          "name": "stdout",
          "text": [
            "안녕하세요\n"
          ]
        }
      ]
    },
    {
      "cell_type": "markdown",
      "source": [
        "클래스 멤버와 인스턴스 멤버는 클래스에서 선언되는 변수이며\n",
        "클래스 멤버는 다음과 같이 참조가 가능하다.\n",
        "- self.var 클래스 메소드 내에서 var를 참조할 경우\n",
        "- Myclass.var 클래스 밖에서 클래스 이름만으로 참조할 경우(별로 안쓰임)\n",
        "- obj.var Myclass의 인스턴스 객체 obj에서 var를 참조할 경우"
      ],
      "metadata": {
        "id": "ioypQEXRoAgN"
      }
    }
  ]
}