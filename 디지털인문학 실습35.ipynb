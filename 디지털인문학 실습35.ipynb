{
  "nbformat": 4,
  "nbformat_minor": 0,
  "metadata": {
    "colab": {
      "provenance": [],
      "authorship_tag": "ABX9TyMnrGTGmUCYZwP4CBj87cKq",
      "include_colab_link": true
    },
    "kernelspec": {
      "name": "python3",
      "display_name": "Python 3"
    },
    "language_info": {
      "name": "python"
    }
  },
  "cells": [
    {
      "cell_type": "markdown",
      "metadata": {
        "id": "view-in-github",
        "colab_type": "text"
      },
      "source": [
        "<a href=\"https://colab.research.google.com/github/jgh0707/NLP_2023/blob/main/%EB%94%94%EC%A7%80%ED%84%B8%EC%9D%B8%EB%AC%B8%ED%95%99%20%EC%8B%A4%EC%8A%B535.ipynb\" target=\"_parent\"><img src=\"https://colab.research.google.com/assets/colab-badge.svg\" alt=\"Open In Colab\"/></a>"
      ]
    },
    {
      "cell_type": "markdown",
      "source": [
        "# **디지털인문학 실습 과제35**\n",
        "## 23.10.22\n",
        "\n",
        "## 초보자를 위한 파이썬 200제"
      ],
      "metadata": {
        "id": "sr8K3XO9MFPh"
      }
    },
    {
      "cell_type": "markdown",
      "source": [
        "###파이썬 모듈 이해하기"
      ],
      "metadata": {
        "id": "hNH9IFrWNATM"
      }
    },
    {
      "cell_type": "code",
      "execution_count": 1,
      "metadata": {
        "colab": {
          "base_uri": "https://localhost:8080/"
        },
        "id": "LsXjzkSmMA0R",
        "outputId": "1d384dd7-022b-460f-dec1-4b300c89b930"
      },
      "outputs": [
        {
          "output_type": "stream",
          "name": "stdout",
          "text": [
            "5초간 프로그램을 정지합니다\n",
            "5초가 지나갔습니다\n"
          ]
        }
      ],
      "source": [
        "import time\n",
        "\n",
        "print('5초간 프로그램을 정지합니다')\n",
        "time.sleep(5)\n",
        "print('5초가 지나갔습니다')"
      ]
    },
    {
      "cell_type": "markdown",
      "source": [
        "###모듈\n",
        " - 이미 만들어져 있고 안정성이 검증된 함수들을 성격에 맞게 묶어 만들어 놓은 것\n",
        " - 외부 모듈이 있는 함수를 사용하기 위해서는 import를 이용한다\n"
      ],
      "metadata": {
        "id": "b5WCs97SOjvW"
      }
    },
    {
      "cell_type": "markdown",
      "source": [
        "###파이썬 모듈 임포트 이해하기1(import)"
      ],
      "metadata": {
        "id": "fq_fGZXvS15u"
      }
    },
    {
      "cell_type": "code",
      "source": [
        "import time #파이썬 내장 모듈인 time을 임포트\n",
        "import mylib #s내가 작성한 mylib 임포트\n",
        "import mypackage.mylib #mypackage에 있는 mylib 임포트"
      ],
      "metadata": {
        "id": "ql27cueAUYVd"
      },
      "execution_count": null,
      "outputs": []
    },
    {
      "cell_type": "markdown",
      "source": [
        "모듈을 임포트하는 일반적인 방법은 다음과 같다.\n",
        " - 모듈을 임포트하는 법\n",
        "   - import 모듈이름\n",
        "   - import 패키지이름.모듈이름\n",
        " - 존재하지 않는 모듈을 임포트하면 다음과 같은 오류 발생\n",
        "   - ImportError:NO module named '모듈이름'"
      ],
      "metadata": {
        "id": "fdUPoHWZUY_Y"
      }
    }
  ]
}