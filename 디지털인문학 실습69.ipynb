{
  "nbformat": 4,
  "nbformat_minor": 0,
  "metadata": {
    "colab": {
      "provenance": [],
      "authorship_tag": "ABX9TyMomzpRcPdczJPeKlpo2UkH",
      "include_colab_link": true
    },
    "kernelspec": {
      "name": "python3",
      "display_name": "Python 3"
    },
    "language_info": {
      "name": "python"
    }
  },
  "cells": [
    {
      "cell_type": "markdown",
      "metadata": {
        "id": "view-in-github",
        "colab_type": "text"
      },
      "source": [
        "<a href=\"https://colab.research.google.com/github/jgh0707/NLP_2023/blob/main/%EB%94%94%EC%A7%80%ED%84%B8%EC%9D%B8%EB%AC%B8%ED%95%99%20%EC%8B%A4%EC%8A%B569.ipynb\" target=\"_parent\"><img src=\"https://colab.research.google.com/assets/colab-badge.svg\" alt=\"Open In Colab\"/></a>"
      ]
    },
    {
      "cell_type": "markdown",
      "source": [
        "#디지털인문학 실습 과제69\n",
        "##23.12.01\n",
        "##초보자를 위한 파이썬 200제"
      ],
      "metadata": {
        "id": "S2PNlT1TBJXc"
      }
    },
    {
      "cell_type": "markdown",
      "source": [
        "###순차적인 정수 리스트 만들기(range)"
      ],
      "metadata": {
        "id": "-MWSLRmmD8xg"
      }
    },
    {
      "cell_type": "code",
      "execution_count": 1,
      "metadata": {
        "id": "gdCWEFnsBIMe",
        "outputId": "deeb091a-639f-454b-ddcf-625546f5c6a6",
        "colab": {
          "base_uri": "https://localhost:8080/"
        }
      },
      "outputs": [
        {
          "output_type": "stream",
          "name": "stdout",
          "text": [
            "[0, 1, 2, 3, 4, 5, 6, 7, 8, 9]\n",
            "[10, 11, 12, 13, 14, 15, 16, 17, 18, 19]\n"
          ]
        }
      ],
      "source": [
        "range1 = range(10)\n",
        "range2 = range(10, 20)\n",
        "print(list(range1))\n",
        "print(list(range2))"
      ]
    },
    {
      "cell_type": "markdown",
      "source": [
        "###range()\n",
        "- 순차적인 정수 리스트를 만드는 가장 간단한 방법"
      ],
      "metadata": {
        "id": "6KTGYbqLEHVP"
      }
    },
    {
      "cell_type": "markdown",
      "source": [
        "###리스트에서 특정 위치의 요소 얻기"
      ],
      "metadata": {
        "id": "fGpXIKKuEdng"
      }
    },
    {
      "cell_type": "code",
      "source": [
        "listdata = [1, 2, 'a', 'b', 'c', [4, 5, 6]]\n",
        "val1 = listdata[-1]\n",
        "val2 = listdata[3]\n",
        "val3 = listdata[5][1]\n",
        "print(val1)\n",
        "print(val2)\n",
        "print(val3)"
      ],
      "metadata": {
        "id": "3IaVH7ssEgQ9",
        "outputId": "bb740b26-1dd0-4153-f1f9-2f9fb3ed817f",
        "colab": {
          "base_uri": "https://localhost:8080/"
        }
      },
      "execution_count": 3,
      "outputs": [
        {
          "output_type": "stream",
          "name": "stdout",
          "text": [
            "[4, 5, 6]\n",
            "b\n",
            "5\n"
          ]
        }
      ]
    },
    {
      "cell_type": "markdown",
      "source": [
        "- 인덱싱을 이용하여 특정 위치에 요소값을 구함(음수도 가능)"
      ],
      "metadata": {
        "id": "kvVj5yaqEvAA"
      }
    }
  ]
}