{
  "nbformat": 4,
  "nbformat_minor": 0,
  "metadata": {
    "colab": {
      "provenance": [],
      "authorship_tag": "ABX9TyMhKln9WfmfDYgvi9z2SEEQ",
      "include_colab_link": true
    },
    "kernelspec": {
      "name": "python3",
      "display_name": "Python 3"
    },
    "language_info": {
      "name": "python"
    }
  },
  "cells": [
    {
      "cell_type": "markdown",
      "metadata": {
        "id": "view-in-github",
        "colab_type": "text"
      },
      "source": [
        "<a href=\"https://colab.research.google.com/github/jgh0707/NLP_2023/blob/main/%EB%94%94%EC%A7%80%ED%84%B8%EC%9D%B8%EB%AC%B8%ED%95%99%20%EC%8B%A4%EC%8A%B577.ipynb\" target=\"_parent\"><img src=\"https://colab.research.google.com/assets/colab-badge.svg\" alt=\"Open In Colab\"/></a>"
      ]
    },
    {
      "cell_type": "markdown",
      "source": [
        "#디지털인문학 실습 과제77\n",
        "##23.12.09\n",
        "##초보자를 위한 파이썬 200제"
      ],
      "metadata": {
        "id": "njmI_ZnNBiBb"
      }
    },
    {
      "cell_type": "markdown",
      "source": [
        "###리스트의 특정 위치에 요소 삽입하기(insert)"
      ],
      "metadata": {
        "id": "Fs4DAfcLBqbv"
      }
    },
    {
      "cell_type": "code",
      "execution_count": 2,
      "metadata": {
        "colab": {
          "base_uri": "https://localhost:8080/"
        },
        "id": "gy08PLUCBf8d",
        "outputId": "eb21794d-a774-46fc-dfcb-46190340b179"
      },
      "outputs": [
        {
          "output_type": "stream",
          "name": "stdout",
          "text": [
            "['태양', '수성', '금성', '지구', '화성', '소행성', '목성', '토성', '천왕성', '해왕성']\n"
          ]
        }
      ],
      "source": [
        "solarsys = ['태양', '수성', '금성', '지구', '화성', '목성', '토성', '천왕성', '해왕성']\n",
        "pos = solarsys.index('목성')\n",
        "solarsys.insert(pos,'소행성')\n",
        "print(solarsys)"
      ]
    },
    {
      "cell_type": "markdown",
      "source": [
        "###insert()\n",
        "- 리스트의 특정 위치에 새로운 요소를 삽입하는 메소드\n",
        "- 목성 위치에 소행성이 삽입되고 목성 이후의 요소는 한칸 씩 밀린다\n"
      ],
      "metadata": {
        "id": "SiKAjYJCCeSj"
      }
    },
    {
      "cell_type": "markdown",
      "source": [
        "###리스트의 특정 위치에 요소 제거하기(del)"
      ],
      "metadata": {
        "id": "5lSbzhlpDGCW"
      }
    },
    {
      "cell_type": "code",
      "source": [
        "solarsys = ['태양', '수성', '금성', '지구', '화성', '목성', '토성', '천왕성', '해왕성']\n",
        "del solarsys[0]\n",
        "print(solarsys)\n",
        "del solarsys[-2]\n",
        "print(solarsys)"
      ],
      "metadata": {
        "colab": {
          "base_uri": "https://localhost:8080/"
        },
        "id": "UhMOjEu1DM0s",
        "outputId": "c5f040b9-df68-4689-b4e4-57aee4ce67a7"
      },
      "execution_count": 3,
      "outputs": [
        {
          "output_type": "stream",
          "name": "stdout",
          "text": [
            "['수성', '금성', '지구', '화성', '목성', '토성', '천왕성', '해왕성']\n",
            "['수성', '금성', '지구', '화성', '목성', '토성', '해왕성']\n"
          ]
        }
      ]
    },
    {
      "cell_type": "markdown",
      "source": [
        "##del\n",
        "- 인덱스를 통해 특정 위치에 요소를 제거한다."
      ],
      "metadata": {
        "id": "6l8_PYs-Dimy"
      }
    }
  ]
}