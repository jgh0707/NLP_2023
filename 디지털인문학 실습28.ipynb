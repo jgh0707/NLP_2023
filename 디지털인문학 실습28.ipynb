{
  "nbformat": 4,
  "nbformat_minor": 0,
  "metadata": {
    "colab": {
      "provenance": [],
      "authorship_tag": "ABX9TyOVi+MRCV0jEZpF/afVRr4f",
      "include_colab_link": true
    },
    "kernelspec": {
      "name": "python3",
      "display_name": "Python 3"
    },
    "language_info": {
      "name": "python"
    }
  },
  "cells": [
    {
      "cell_type": "markdown",
      "metadata": {
        "id": "view-in-github",
        "colab_type": "text"
      },
      "source": [
        "<a href=\"https://colab.research.google.com/github/jgh0707/NLP_2023/blob/main/%EB%94%94%EC%A7%80%ED%84%B8%EC%9D%B8%EB%AC%B8%ED%95%99%20%EC%8B%A4%EC%8A%B528.ipynb\" target=\"_parent\"><img src=\"https://colab.research.google.com/assets/colab-badge.svg\" alt=\"Open In Colab\"/></a>"
      ]
    },
    {
      "cell_type": "markdown",
      "source": [
        "# **디지털인문학 실습 과제28**\n",
        "## 23.10.15\n",
        "\n",
        "## 초보자를 위한 파이썬 200제\n",
        "\n",
        "\n"
      ],
      "metadata": {
        "id": "LKJpMWt18Nj6"
      }
    },
    {
      "cell_type": "markdown",
      "source": [
        "###멤버체크 이해하기(in)"
      ],
      "metadata": {
        "id": "ZYmazK_68PXI"
      }
    },
    {
      "cell_type": "code",
      "execution_count": 1,
      "metadata": {
        "colab": {
          "base_uri": "https://localhost:8080/"
        },
        "id": "HtSnO0zF8JQQ",
        "outputId": "8099848d-4489-4fe3-ae24-6acd675491cf"
      },
      "outputs": [
        {
          "output_type": "stream",
          "name": "stdout",
          "text": [
            "False\n",
            "True\n",
            "True\n",
            "False\n"
          ]
        }
      ],
      "source": [
        "list1 = [1,2,3,4]\n",
        "r1 = 5 in list1\n",
        "r2 = 4 in list1\n",
        "print(r1); print(r2)\n",
        "strdata = 'abcde'\n",
        "r3 = 'c' in strdata\n",
        "r4 = '1' in strdata\n",
        "print(r3); print(r4)"
      ]
    },
    {
      "cell_type": "markdown",
      "source": [
        " - in은 자료에 어떤 값이 있는지 확인하는 키워드\n",
        " - 활용 방법 - <값> in <자료>\n",
        " - 값이 자료에 있다면 true, 없다면 false로 나타낸다."
      ],
      "metadata": {
        "id": "uaMkyU6E9W2R"
      }
    },
    {
      "cell_type": "markdown",
      "source": [
        "### 문자열 이해하기"
      ],
      "metadata": {
        "id": "JNINMTFT96so"
      }
    },
    {
      "cell_type": "code",
      "source": [
        "str1 = '나는 파이썬 프로그래머다'\n",
        "str2 = 'you are a programmer'\n",
        "str3 = \"\"\"i love\n",
        "  python. you love\n",
        "python too!\n",
        "\"\"\"\n",
        "str4 = \"my son's name is john\"\n",
        "str5 = '문자열 \"abc\"의 길이는 3입니다'"
      ],
      "metadata": {
        "id": "_9KxNgZj98FN"
      },
      "execution_count": 3,
      "outputs": []
    },
    {
      "cell_type": "markdown",
      "source": [
        " - str1, str2는 각각의 문자열을 따움표, 쌍따움표로 문자열을 정의\n",
        " - str3의 경우 \"\"\" \"\"\"를 사용하였으며 이것은 줄바꿈이 있더라도 안에 있는 모든 것을 문자열로 정의\n",
        " - str4는 문자열 안에 '이 있으면 \"\"를 이용해서 구분\n",
        " - str5는 str4와 반대로 문자열 안에 \"\"이 있기에 ''를 사용하여 구분"
      ],
      "metadata": {
        "id": "9GLmVPpt_Y8s"
      }
    }
  ]
}