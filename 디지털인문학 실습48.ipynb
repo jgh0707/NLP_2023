{
  "nbformat": 4,
  "nbformat_minor": 0,
  "metadata": {
    "colab": {
      "provenance": [],
      "authorship_tag": "ABX9TyMABvpvVAxNQLrspwAEe/wL",
      "include_colab_link": true
    },
    "kernelspec": {
      "name": "python3",
      "display_name": "Python 3"
    },
    "language_info": {
      "name": "python"
    }
  },
  "cells": [
    {
      "cell_type": "markdown",
      "metadata": {
        "id": "view-in-github",
        "colab_type": "text"
      },
      "source": [
        "<a href=\"https://colab.research.google.com/github/jgh0707/NLP_2023/blob/main/%EB%94%94%EC%A7%80%ED%84%B8%EC%9D%B8%EB%AC%B8%ED%95%99%20%EC%8B%A4%EC%8A%B548.ipynb\" target=\"_parent\"><img src=\"https://colab.research.google.com/assets/colab-badge.svg\" alt=\"Open In Colab\"/></a>"
      ]
    },
    {
      "cell_type": "markdown",
      "source": [
        "#디지털인문학 실습 과제48\n",
        "##23.11.05\n",
        "\n",
        "###초보자를 위한 파이썬 200제"
      ],
      "metadata": {
        "id": "jspIPfyU9jnt"
      }
    },
    {
      "cell_type": "markdown",
      "source": [
        "### 사용자 입력받기(input)"
      ],
      "metadata": {
        "id": "LyykT_3n9mLp"
      }
    },
    {
      "cell_type": "code",
      "execution_count": 12,
      "metadata": {
        "colab": {
          "base_uri": "https://localhost:8080/"
        },
        "id": "vB2wFjx49haY",
        "outputId": "3b0da82b-89e5-494e-a6e9-ec07fab46024"
      },
      "outputs": [
        {
          "output_type": "stream",
          "name": "stdout",
          "text": [
            "<값>을 입력하세요.안녕하세요 파이썬\n",
            "당신이 입력한 값은 <안녕하세요 파이썬>입니다.\n"
          ]
        }
      ],
      "source": [
        "k = input('<값>을 입력하세요.')\n",
        "print('당신이 입력한 값은 <' + k + '>입니다.')"
      ]
    },
    {
      "cell_type": "markdown",
      "source": [
        "###input\n",
        " - 사용자가 키보드로 입력한 값을 문자열로 리턴하는 함수\n",
        " - 안내 문구나 힌트 등으로 표시된다.\n",
        ""
      ],
      "metadata": {
        "id": "s9pgyAz8-vSw"
      }
    },
    {
      "cell_type": "markdown",
      "source": [
        "###자료형 확인하기(type)"
      ],
      "metadata": {
        "id": "QVKAzW0M-33c"
      }
    },
    {
      "cell_type": "code",
      "source": [
        "numdata = 57\n",
        "strdata = '파이썬'\n",
        "listdata = [1,2,3]\n",
        "dictdata = {'a':1,'b':2}\n",
        "\n",
        "def func():\n",
        "  print('안녕하세요')\n",
        "\n",
        "print(type(numdata))\n",
        "print(type(strdata))\n",
        "print(type(listdata))\n",
        "print(type(dictdata))\n",
        "print(type(func))"
      ],
      "metadata": {
        "colab": {
          "base_uri": "https://localhost:8080/"
        },
        "id": "csOSyYLQ-65z",
        "outputId": "bcacd7cd-0f25-476b-c410-7053ea20ab4c"
      },
      "execution_count": 13,
      "outputs": [
        {
          "output_type": "stream",
          "name": "stdout",
          "text": [
            "<class 'int'>\n",
            "<class 'str'>\n",
            "<class 'list'>\n",
            "<class 'dict'>\n",
            "<class 'function'>\n"
          ]
        }
      ]
    },
    {
      "cell_type": "markdown",
      "source": [
        "###type\n",
        "- 숫자나 문자,문자열 리스트, 튜플 사전, 함수 등의 클래스를 type을 통하여 어떤 클래스인지 쉽게 확인이 가능하다."
      ],
      "metadata": {
        "id": "9RGQiWUn_cix"
      }
    }
  ]
}