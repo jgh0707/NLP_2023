{
  "nbformat": 4,
  "nbformat_minor": 0,
  "metadata": {
    "colab": {
      "provenance": [],
      "authorship_tag": "ABX9TyPR2Pp136tcRe+xIWW36krC",
      "include_colab_link": true
    },
    "kernelspec": {
      "name": "python3",
      "display_name": "Python 3"
    },
    "language_info": {
      "name": "python"
    }
  },
  "cells": [
    {
      "cell_type": "markdown",
      "metadata": {
        "id": "view-in-github",
        "colab_type": "text"
      },
      "source": [
        "<a href=\"https://colab.research.google.com/github/jgh0707/NLP_2023/blob/main/%EB%94%94%EC%A7%80%ED%84%B8%EC%9D%B8%EB%AC%B8%ED%95%99%20%EC%8B%A4%EC%8A%B587.ipynb\" target=\"_parent\"><img src=\"https://colab.research.google.com/assets/colab-badge.svg\" alt=\"Open In Colab\"/></a>"
      ]
    },
    {
      "cell_type": "markdown",
      "source": [
        "#디지털인문학 실습 과제87\n",
        "##23.12.20\n",
        "##초보자를 위한 파이썬 200제"
      ],
      "metadata": {
        "id": "oP0hJn8KqjoX"
      }
    },
    {
      "cell_type": "markdown",
      "source": [
        "###사전 요소를 모두 추출하기(items)"
      ],
      "metadata": {
        "id": "eB9vqqyTqmSI"
      }
    },
    {
      "cell_type": "code",
      "execution_count": 1,
      "metadata": {
        "colab": {
          "base_uri": "https://localhost:8080/"
        },
        "id": "PyU139odqh9V",
        "outputId": "43925d0c-142e-4230-f083-24502c2f8ca9"
      },
      "outputs": [
        {
          "output_type": "stream",
          "name": "stdout",
          "text": [
            "dict_items([('mary', 10999), ('sams', 2111), ('aimy', 9778), ('tom', 20245), ('michale', 27115), ('bob', 5887), ('kelly', 7855)])\n",
            "('mary', 10999)\n",
            "('sams', 2111)\n",
            "('aimy', 9778)\n",
            "('tom', 20245)\n",
            "('michale', 27115)\n",
            "('bob', 5887)\n",
            "('kelly', 7855)\n"
          ]
        }
      ],
      "source": [
        "names = {'mary':10999, 'sams':2111, 'aimy':9778, 'tom':20245, 'michale':27115, 'bob':5887, 'kelly':7855}\n",
        "items = names.items()\n",
        "print(items)\n",
        "\n",
        "for item in items:\n",
        "  print(item)"
      ]
    },
    {
      "cell_type": "markdown",
      "source": [
        "###item()\n",
        " - 사전에서 키와 값을 모두 추출할 수 있다."
      ],
      "metadata": {
        "id": "AxONyxPtq0un"
      }
    },
    {
      "cell_type": "markdown",
      "source": [
        "###사전에서 특정 키가 존재하는지 확인하기(in)"
      ],
      "metadata": {
        "id": "ExxZvPQxrBLb"
      }
    },
    {
      "cell_type": "code",
      "source": [
        "names = {'mary':10999, 'sams':2111, 'aimy':9778, 'tom':20245, 'michale':27115, 'bob':5887, 'kelly':7855}\n",
        "k = input('이름을 입력하세요: ')\n",
        "if k in names:\n",
        "  print('이름이 <%s>인 출생아 수는 <%d>명입니다.' %(k, names[k]))\n",
        "else:\n",
        "  print('자료에 <%s>인 이름이 존재하지 않습니다.'%k)"
      ],
      "metadata": {
        "colab": {
          "base_uri": "https://localhost:8080/"
        },
        "id": "1z_rReYkrD6P",
        "outputId": "d8463584-85d8-4b71-be01-e859137a63f6"
      },
      "execution_count": 2,
      "outputs": [
        {
          "output_type": "stream",
          "name": "stdout",
          "text": [
            "이름을 입력하세요: mary\n",
            "이름이 <mary>인 출생아 수는 <10999>명입니다.\n"
          ]
        }
      ]
    },
    {
      "cell_type": "markdown",
      "source": [
        "###in()\n",
        " - k에 해당하는 키가 있는지 없는지 확인하는 방법\n",
        " - if문을 사용하여 이용자에게 질문을 받아 안에 키가 있다면 true, 없다면 false에 해당하는 답을 한다."
      ],
      "metadata": {
        "id": "cHht6qwgrsWF"
      }
    }
  ]
}