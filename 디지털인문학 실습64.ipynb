{
  "nbformat": 4,
  "nbformat_minor": 0,
  "metadata": {
    "colab": {
      "provenance": [],
      "authorship_tag": "ABX9TyMbbKCXsfDjlAg2CdVT+Vmc",
      "include_colab_link": true
    },
    "kernelspec": {
      "name": "python3",
      "display_name": "Python 3"
    },
    "language_info": {
      "name": "python"
    }
  },
  "cells": [
    {
      "cell_type": "markdown",
      "metadata": {
        "id": "view-in-github",
        "colab_type": "text"
      },
      "source": [
        "<a href=\"https://colab.research.google.com/github/jgh0707/NLP_2023/blob/main/%EB%94%94%EC%A7%80%ED%84%B8%EC%9D%B8%EB%AC%B8%ED%95%99%20%EC%8B%A4%EC%8A%B564.ipynb\" target=\"_parent\"><img src=\"https://colab.research.google.com/assets/colab-badge.svg\" alt=\"Open In Colab\"/></a>"
      ]
    },
    {
      "cell_type": "markdown",
      "source": [
        "#디지털인문학 실습 과제64\n",
        "##23.11.26\n",
        "##초보자를 위한 파이썬 200제"
      ],
      "metadata": {
        "id": "KxiRsKXmCQbS"
      }
    },
    {
      "cell_type": "markdown",
      "source": [
        "###문자열을 특정 문자(열)로 분리하기(split)"
      ],
      "metadata": {
        "id": "xy-dghOeCTny"
      }
    },
    {
      "cell_type": "code",
      "execution_count": 1,
      "metadata": {
        "colab": {
          "base_uri": "https://localhost:8080/"
        },
        "id": "7YwzF0gyCMX8",
        "outputId": "ab976d6f-1872-427d-b238-00ba1b79c88b"
      },
      "outputs": [
        {
          "output_type": "stream",
          "name": "stdout",
          "text": [
            "['http:', '', 'www.naver.com', 'news', 'todays=20160831']\n",
            "name -> 홍길동\n",
            "age -> 17\n",
            "sex -> 남자\n",
            "nation -> 조선\n"
          ]
        }
      ],
      "source": [
        "url = 'http://www.naver.com/news/todays=20160831'\n",
        "log = 'name:홍길동 age:17 sex:남자 nation:조선'\n",
        "\n",
        "ret1 = url.split('/')\n",
        "print(ret1)\n",
        "\n",
        "ret2 = log.split( )\n",
        "for data in ret2:\n",
        "  d1, d2 = data.split(':')\n",
        "  print('%s -> %s' %(d1, d2))"
      ]
    },
    {
      "cell_type": "markdown",
      "source": [
        "###split()\n",
        "- 구분자를 기준으로 문자열을 쉽게 분리하여 파싱할 수 있는 객체\n",
        "- 위의 있는 url 예재처럼 콜론을 구분자로 분리하였고 log 예재는 공백과 콜론으로 구분하여 정의하였다."
      ],
      "metadata": {
        "id": "loaWT0N6C3c-"
      }
    },
    {
      "cell_type": "markdown",
      "source": [
        "###문자열을 특정 문자(열)로 결합하기(join)"
      ],
      "metadata": {
        "id": "ykZ69jufDPBm"
      }
    },
    {
      "cell_type": "code",
      "source": [
        "loglist = ['2016/08/29 10:12:11', '200', 'OK', '이 또한 지나가리라']\n",
        "bond = ';'\n",
        "log = bond.join(loglist)\n",
        "print(log)"
      ],
      "metadata": {
        "colab": {
          "base_uri": "https://localhost:8080/"
        },
        "id": "79do88FgDSgq",
        "outputId": "496cf134-534b-4006-de54-6bc53a43e32e"
      },
      "execution_count": 2,
      "outputs": [
        {
          "output_type": "stream",
          "name": "stdout",
          "text": [
            "2016/08/29 10:12:11;200;OK;이 또한 지나가리라\n"
          ]
        }
      ]
    },
    {
      "cell_type": "markdown",
      "source": [
        "###join()\n",
        "- split()과는 반대로 리스트를 인자로 받아 리스트 모든 요소를 특정 문자열로 연결하여 새로운 문자열로 만들어 리턴하는 메소드\n",
        "- join()의 인자는 문자열이 아니라 문자열을 요소로 가지는 리스트"
      ],
      "metadata": {
        "id": "OBI61R60Dldf"
      }
    }
  ]
}