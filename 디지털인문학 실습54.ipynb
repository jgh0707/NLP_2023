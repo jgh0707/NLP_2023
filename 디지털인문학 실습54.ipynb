{
  "nbformat": 4,
  "nbformat_minor": 0,
  "metadata": {
    "colab": {
      "provenance": [],
      "authorship_tag": "ABX9TyMX0N3wPqlGklfAZ99bMzmf",
      "include_colab_link": true
    },
    "kernelspec": {
      "name": "python3",
      "display_name": "Python 3"
    },
    "language_info": {
      "name": "python"
    }
  },
  "cells": [
    {
      "cell_type": "markdown",
      "metadata": {
        "id": "view-in-github",
        "colab_type": "text"
      },
      "source": [
        "<a href=\"https://colab.research.google.com/github/jgh0707/NLP_2023/blob/main/%EB%94%94%EC%A7%80%ED%84%B8%EC%9D%B8%EB%AC%B8%ED%95%99%20%EC%8B%A4%EC%8A%B554.ipynb\" target=\"_parent\"><img src=\"https://colab.research.google.com/assets/colab-badge.svg\" alt=\"Open In Colab\"/></a>"
      ]
    },
    {
      "cell_type": "markdown",
      "source": [
        "#디지털인문학 실습 과제54\n",
        "\n",
        "##23.11.13\n",
        "##초보자를 위한 파이썬 200제"
      ],
      "metadata": {
        "id": "tUw-TmfvBzKy"
      }
    },
    {
      "cell_type": "markdown",
      "source": [
        "###정수리스트에서 소수만 걸러내기(filiter)"
      ],
      "metadata": {
        "id": "KrFisBCSB1zU"
      }
    },
    {
      "cell_type": "code",
      "execution_count": 5,
      "metadata": {
        "colab": {
          "base_uri": "https://localhost:8080/"
        },
        "id": "10WsHShoByx9",
        "outputId": "e7c7ebce-3719-4a21-a48e-79278474e872"
      },
      "outputs": [
        {
          "output_type": "stream",
          "name": "stdout",
          "text": [
            "[11113, 11119]\n"
          ]
        }
      ],
      "source": [
        "def getPrime(x):\n",
        "  for i in range(2,x-1):\n",
        "    if x % i == 0:\n",
        "      break\n",
        "  else:\n",
        "    return x\n",
        "\n",
        "listdata = [117, 119, 1113, 11113, 11119]\n",
        "ret = filter(getPrime, listdata)\n",
        "print(list(ret))"
      ]
    },
    {
      "cell_type": "markdown",
      "source": [
        "###filter()\n",
        "- 리스트와 같이 반복 가능한 자료에서 특정 조건을 만족하는 값만 추출할 수 있는 내장함수\n",
        "- 첫 번째 인자에서는 특정 조건의 값을 추출하는 함수의 입력, 두 번째 인자는 리스트와 같은 반복 가능한 자료 입력"
      ],
      "metadata": {
        "id": "bGfO-8IpCOO6"
      }
    },
    {
      "cell_type": "markdown",
      "source": [
        "최대값, 최소값 구하기(max, min)"
      ],
      "metadata": {
        "id": "Y1EL-JMmHIdm"
      }
    },
    {
      "cell_type": "code",
      "source": [
        "listdata = [9.96, 1.27, 5.07, 6.45, 8.38, 9.29, 4.93, 7.73, 3.71, 0.93]\n",
        "maxval = max(listdata)\n",
        "minval = min(listdata)\n",
        "print(maxval)\n",
        "print(minval)\n",
        "\n",
        "txt = 'alotofthingsoccureachday'\n",
        "maxval = max(txt)\n",
        "minval = min(txt)\n",
        "print(maxval);\n",
        "print(minval)\n",
        "\n",
        "maxval = max(2+3, 2*3, 2**3, 3**2)\n",
        "minval = min('abz', 'a12')\n",
        "print(maxval)\n",
        "print(minval)"
      ],
      "metadata": {
        "colab": {
          "base_uri": "https://localhost:8080/"
        },
        "id": "5ilZ0-0fHPa5",
        "outputId": "3e7b5de4-fc6d-49d4-d0ea-19ba0d008b3c"
      },
      "execution_count": 7,
      "outputs": [
        {
          "output_type": "stream",
          "name": "stdout",
          "text": [
            "9.96\n",
            "0.93\n",
            "y\n",
            "a\n",
            "9\n",
            "a12\n"
          ]
        }
      ]
    },
    {
      "cell_type": "markdown",
      "source": [
        "###max(), min()\n",
        "- 인자로 입력된 자료에서 최대, 최소값을 구해주는 함수\n",
        "- 숫자에서는 높은 값과 낮은 값을, 문자에서는 코드값이 가장 큰 문자와 작은 문자를 구한다."
      ],
      "metadata": {
        "id": "J2Vmb9c7II6c"
      }
    }
  ]
}