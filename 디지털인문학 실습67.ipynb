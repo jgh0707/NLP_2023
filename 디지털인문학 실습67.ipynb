{
  "nbformat": 4,
  "nbformat_minor": 0,
  "metadata": {
    "colab": {
      "provenance": [],
      "authorship_tag": "ABX9TyOminGAEU3vLYl1FVN8ZYTU",
      "include_colab_link": true
    },
    "kernelspec": {
      "name": "python3",
      "display_name": "Python 3"
    },
    "language_info": {
      "name": "python"
    }
  },
  "cells": [
    {
      "cell_type": "markdown",
      "metadata": {
        "id": "view-in-github",
        "colab_type": "text"
      },
      "source": [
        "<a href=\"https://colab.research.google.com/github/jgh0707/NLP_2023/blob/main/%EB%94%94%EC%A7%80%ED%84%B8%EC%9D%B8%EB%AC%B8%ED%95%99%20%EC%8B%A4%EC%8A%B567.ipynb\" target=\"_parent\"><img src=\"https://colab.research.google.com/assets/colab-badge.svg\" alt=\"Open In Colab\"/></a>"
      ]
    },
    {
      "cell_type": "markdown",
      "source": [
        "#디지털인문학 실습 과제67\n",
        "##23.11.29\n",
        "##초보자를 위한 파이썬 200제"
      ],
      "metadata": {
        "id": "acsaAF5AfhFr"
      }
    },
    {
      "cell_type": "markdown",
      "source": [
        "###바이트 객체를 문자열로 바꾸기(decode)"
      ],
      "metadata": {
        "id": "Z8S0rJjnfn8X"
      }
    },
    {
      "cell_type": "code",
      "execution_count": 1,
      "metadata": {
        "colab": {
          "base_uri": "https://localhost:8080/"
        },
        "id": "LEBD1V7Sfe-7",
        "outputId": "02b5e446-a782-4128-abba-a83e43b83f64"
      },
      "outputs": [
        {
          "output_type": "stream",
          "name": "stdout",
          "text": [
            "a lot of things occur each day.\n"
          ]
        }
      ],
      "source": [
        "b_txt = b'a lot of things occur each day.'\n",
        "u_txt = b_txt.decode()\n",
        "print(u_txt)"
      ]
    },
    {
      "cell_type": "markdown",
      "source": [
        "###decode()\n",
        "- 바이트 객체를 유니코드 문자열로 변환해주는 메소드"
      ],
      "metadata": {
        "id": "phrpI-z_f4CU"
      }
    },
    {
      "cell_type": "markdown",
      "source": [
        "###문자열을 정렬하기(sorted, join)\n"
      ],
      "metadata": {
        "id": "tyurkWoygEnU"
      }
    },
    {
      "cell_type": "code",
      "source": [
        "strdata = input('정렬할 문자열을 입력하세요 : ')\n",
        "ret1 = sorted(strdata)\n",
        "ret2 = sorted(strdata, reverse = True)\n",
        "print(ret1)\n",
        "print(ret2)\n",
        "ret1 = ''.join(ret1)\n",
        "ret2 = ''.join(ret2)\n",
        "print('오름차순으로 정렬된 문자열은 <' + ret1 + '>입니다.')\n",
        "print('내림차순으로 정렬된 문자열은 <' + ret2 + '>입니다.')"
      ],
      "metadata": {
        "colab": {
          "base_uri": "https://localhost:8080/"
        },
        "id": "hXUos6tEgIND",
        "outputId": "ef68e4f0-aac4-40b3-b885-579b4c758b3a"
      },
      "execution_count": 2,
      "outputs": [
        {
          "output_type": "stream",
          "name": "stdout",
          "text": [
            "정렬할 문자열을 입력하세요 : 가나다라마바사\n",
            "['가', '나', '다', '라', '마', '바', '사']\n",
            "['사', '바', '마', '라', '다', '나', '가']\n",
            "오름차순으로 정렬된 문자열은 <가나다라마바사>입니다.\n",
            "내림차순으로 정렬된 문자열은 <사바마라다나가>입니다.\n"
          ]
        }
      ]
    },
    {
      "cell_type": "markdown",
      "source": [
        "###sorted()\n",
        "- sorted()는 인자로 입력된 문자열을 오름차 순으로 정렬하고 각, 문자를 리스트로 리턴하는 내장함수\n",
        "- 두번째에서는 정렬된 문자열을 reverse하였기에 내림차순으로 변경"
      ],
      "metadata": {
        "id": "SEARn6CNgpwb"
      }
    }
  ]
}