{
  "nbformat": 4,
  "nbformat_minor": 0,
  "metadata": {
    "colab": {
      "provenance": [],
      "authorship_tag": "ABX9TyPQU/Wi2mqffMWcZndwA4dd",
      "include_colab_link": true
    },
    "kernelspec": {
      "name": "python3",
      "display_name": "Python 3"
    },
    "language_info": {
      "name": "python"
    }
  },
  "cells": [
    {
      "cell_type": "markdown",
      "metadata": {
        "id": "view-in-github",
        "colab_type": "text"
      },
      "source": [
        "<a href=\"https://colab.research.google.com/github/jgh0707/NLP_2023/blob/main/%EB%94%94%EC%A7%80%ED%84%B8%EC%9D%B8%EB%AC%B8%ED%95%99%20%EC%8B%A4%EC%8A%B582.ipynb\" target=\"_parent\"><img src=\"https://colab.research.google.com/assets/colab-badge.svg\" alt=\"Open In Colab\"/></a>"
      ]
    },
    {
      "cell_type": "markdown",
      "source": [
        "#디지털인문학 실습 과제82\n",
        "##23.12.14\n",
        "##초보자를 위한 파이썬 200제\n"
      ],
      "metadata": {
        "id": "6aOCJ_ZDxjW2"
      }
    },
    {
      "cell_type": "markdown",
      "source": [
        "###리스트 요소 무작위로 섞기(shuffle)"
      ],
      "metadata": {
        "id": "6fkeW3YCxriM"
      }
    },
    {
      "cell_type": "code",
      "execution_count": 1,
      "metadata": {
        "colab": {
          "base_uri": "https://localhost:8080/"
        },
        "id": "Be0xfoWNxhy_",
        "outputId": "77d77318-d454-43be-ef9e-c4cba0086689"
      },
      "outputs": [
        {
          "output_type": "stream",
          "name": "stdout",
          "text": [
            "[2, 10, 5, 4, 9, 8, 1, 3, 6, 7]\n",
            "[8, 2, 7, 1, 3, 10, 6, 9, 5, 4]\n",
            "[5, 4, 6, 2, 8, 7, 10, 1, 9, 3]\n"
          ]
        }
      ],
      "source": [
        "from random import shuffle\n",
        "\n",
        "listdata = list(range(1,11))\n",
        "for i in range(3):\n",
        "  shuffle(listdata)\n",
        "  print(listdata)"
      ]
    },
    {
      "cell_type": "markdown",
      "source": [
        "###shuffle()\n",
        "- 리스트의 요소를 무작위로 섞는데 활용되는 모듈"
      ],
      "metadata": {
        "id": "hGhU5LJ9x8zH"
      }
    },
    {
      "cell_type": "markdown",
      "source": [
        "###리스트의 모든 요소를 인덱스와 쌍으로 추출하기(enumerate)"
      ],
      "metadata": {
        "id": "v_cE4rwZyDeu"
      }
    },
    {
      "cell_type": "code",
      "source": [
        "solarsys = ['태양', '수성', '금성', '지구', '화성', '목성', '토성', '천왕성', '해왕성']\n",
        "ret = list(enumerate(solarsys))\n",
        "print(ret)\n",
        "\n",
        "for i, body in enumerate(solarsys):\n",
        "  print('태양계의 %d번째 천체: %s' %(i,body))"
      ],
      "metadata": {
        "colab": {
          "base_uri": "https://localhost:8080/"
        },
        "id": "aeW9cpQDyMwK",
        "outputId": "3232b08e-0d43-44c3-dc5c-0da7d1fccff0"
      },
      "execution_count": 2,
      "outputs": [
        {
          "output_type": "stream",
          "name": "stdout",
          "text": [
            "[(0, '태양'), (1, '수성'), (2, '금성'), (3, '지구'), (4, '화성'), (5, '목성'), (6, '토성'), (7, '천왕성'), (8, '해왕성')]\n",
            "태양계의 0번째 천체: 태양\n",
            "태양계의 1번째 천체: 수성\n",
            "태양계의 2번째 천체: 금성\n",
            "태양계의 3번째 천체: 지구\n",
            "태양계의 4번째 천체: 화성\n",
            "태양계의 5번째 천체: 목성\n",
            "태양계의 6번째 천체: 토성\n",
            "태양계의 7번째 천체: 천왕성\n",
            "태양계의 8번째 천체: 해왕성\n"
          ]
        }
      ]
    },
    {
      "cell_type": "markdown",
      "source": [
        "### enumerate()\n",
        " - 시퀸스 자료형을 인자로 받아 각 요소를 인덱스와 함께 쌍으로 추출할 수 있는 반복 가능한 자료로 리턴하는 내장함수"
      ],
      "metadata": {
        "id": "d64yCOySyeM8"
      }
    }
  ]
}