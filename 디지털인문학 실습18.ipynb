{
  "nbformat": 4,
  "nbformat_minor": 0,
  "metadata": {
    "colab": {
      "provenance": [],
      "authorship_tag": "ABX9TyNfBYu81M5uS+UJrhk9nfRC",
      "include_colab_link": true
    },
    "kernelspec": {
      "name": "python3",
      "display_name": "Python 3"
    },
    "language_info": {
      "name": "python"
    }
  },
  "cells": [
    {
      "cell_type": "markdown",
      "metadata": {
        "id": "view-in-github",
        "colab_type": "text"
      },
      "source": [
        "<a href=\"https://colab.research.google.com/github/jgh0707/NLP_2023/blob/main/%EB%94%94%EC%A7%80%ED%84%B8%EC%9D%B8%EB%AC%B8%ED%95%99%20%EC%8B%A4%EC%8A%B518.ipynb\" target=\"_parent\"><img src=\"https://colab.research.google.com/assets/colab-badge.svg\" alt=\"Open In Colab\"/></a>"
      ]
    },
    {
      "cell_type": "markdown",
      "source": [
        "# **디지털인문학 실습 과제18**\n",
        "## 23.10.04\n",
        "\n",
        "## 복습"
      ],
      "metadata": {
        "id": "bEBLyssFrILw"
      }
    },
    {
      "cell_type": "markdown",
      "source": [
        "###if문\n"
      ],
      "metadata": {
        "id": "xdRMC6kFrMrh"
      }
    },
    {
      "cell_type": "code",
      "execution_count": null,
      "metadata": {
        "colab": {
          "base_uri": "https://localhost:8080/"
        },
        "id": "zOy3EkIfrHgv",
        "outputId": "1b3a2d93-b660-4224-d405-dfd31e75384f"
      },
      "outputs": [
        {
          "output_type": "stream",
          "name": "stdout",
          "text": [
            "x is greater than y\n"
          ]
        }
      ],
      "source": [
        "x = 100\n",
        "y = 95\n",
        "\n",
        "if x > y :\n",
        " print('x is greater than y')"
      ]
    },
    {
      "cell_type": "code",
      "source": [
        "x = 95\n",
        "y = 100\n",
        "\n",
        "if x > y :\n",
        " print('x is greater than y')\n",
        "\n",
        "else :\n",
        "  print('x is smaller than y')"
      ],
      "metadata": {
        "colab": {
          "base_uri": "https://localhost:8080/"
        },
        "id": "93Dz3OTdtzkA",
        "outputId": "8e47fe71-6357-464e-df97-124704fa5c52"
      },
      "execution_count": null,
      "outputs": [
        {
          "output_type": "stream",
          "name": "stdout",
          "text": [
            "x is smaller than y\n"
          ]
        }
      ]
    },
    {
      "cell_type": "code",
      "source": [
        "x = 0\n",
        "y = 0\n",
        "\n",
        "if x > y :\n",
        "  print('x is greater than y')\n",
        "\n",
        "else :\n",
        " print('x is smaller than or equal to y')"
      ],
      "metadata": {
        "colab": {
          "base_uri": "https://localhost:8080/"
        },
        "id": "GbqtfK-buAOe",
        "outputId": "d477832a-2e20-4360-de3d-b85c8ff889b4"
      },
      "execution_count": null,
      "outputs": [
        {
          "output_type": "stream",
          "name": "stdout",
          "text": [
            "x is smaller than or equal to y\n"
          ]
        }
      ]
    },
    {
      "cell_type": "code",
      "source": [
        "listdata = ['a', 'b', 'c']\n",
        "\n",
        "if 'a' in listdata :\n",
        "  print('a가 listdata 안에 있습니다.')\n",
        "  print(listdata)"
      ],
      "metadata": {
        "colab": {
          "base_uri": "https://localhost:8080/"
        },
        "id": "bwBK8IxLuPQv",
        "outputId": "7c5a124d-f3a6-43b5-f136-b8e174b4c39a"
      },
      "execution_count": null,
      "outputs": [
        {
          "output_type": "stream",
          "name": "stdout",
          "text": [
            "a가 listdata 안에 있습니다.\n",
            "['a', 'b', 'c']\n"
          ]
        }
      ]
    }
  ]
}