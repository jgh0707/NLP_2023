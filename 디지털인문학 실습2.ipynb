{
  "nbformat": 4,
  "nbformat_minor": 0,
  "metadata": {
    "colab": {
      "provenance": [],
      "authorship_tag": "ABX9TyNRRbP6SalCg/HuPTXKrPXs",
      "include_colab_link": true
    },
    "kernelspec": {
      "name": "python3",
      "display_name": "Python 3"
    },
    "language_info": {
      "name": "python"
    }
  },
  "cells": [
    {
      "cell_type": "markdown",
      "metadata": {
        "id": "view-in-github",
        "colab_type": "text"
      },
      "source": [
        "<a href=\"https://colab.research.google.com/github/jgh0707/NLP_2023/blob/main/23.%2009-14.ipynb\" target=\"_parent\"><img src=\"https://colab.research.google.com/assets/colab-badge.svg\" alt=\"Open In Colab\"/></a>"
      ]
    },
    {
      "cell_type": "markdown",
      "source": [
        "# **디지털인문학 실습 과제2**\n",
        "## 23.09.14\n",
        "\n",
        "- #(우물 정)에 갯수에 반비례하여 글자의 크기 변경 가능\n",
        "# 하나만 있을 경우 제일 큰 글자 크기\n",
        "###### 최대 6개 사용 가능하며 이 때 크기가 제일 작음\n",
        "\n",
        "- *에 갯수에 따라 글자의 폰트 변경 가능\n",
        "- **고딕체는 *2개이며 제일 자주 사용**\n",
        "* **한개는 기울인 글자이며 이 외에도 다양하게 활용 가능*\n",
        "\n",
        "\n",
        "| # | 명칭 | 기호 |\n",
        "|:--:|:--:|:--:|\n",
        "| 1 | smiley | 😃 |\n",
        "| 2 | snowflake | ❄️ |\n",
        "| 3 | four_leaf_clover | 🍀 |\n",
        "| 4 | art | 🎨 |\n",
        "| 5 | rainbow | 🌈 |\n",
        "\n",
        "- [github 이모티콘 링크](https://gist.github.com/rxaviers/7360908)\n"
      ],
      "metadata": {
        "id": "lDur4leq2vmS"
      }
    }
  ]
}
