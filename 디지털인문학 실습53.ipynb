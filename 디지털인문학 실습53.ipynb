{
  "nbformat": 4,
  "nbformat_minor": 0,
  "metadata": {
    "colab": {
      "provenance": [],
      "authorship_tag": "ABX9TyOsRj2BEgnmAJmwlunvLDJj",
      "include_colab_link": true
    },
    "kernelspec": {
      "name": "python3",
      "display_name": "Python 3"
    },
    "language_info": {
      "name": "python"
    }
  },
  "cells": [
    {
      "cell_type": "markdown",
      "metadata": {
        "id": "view-in-github",
        "colab_type": "text"
      },
      "source": [
        "<a href=\"https://colab.research.google.com/github/jgh0707/NLP_2023/blob/main/%EB%94%94%EC%A7%80%ED%84%B8%EC%9D%B8%EB%AC%B8%ED%95%99%20%EC%8B%A4%EC%8A%B553.ipynb\" target=\"_parent\"><img src=\"https://colab.research.google.com/assets/colab-badge.svg\" alt=\"Open In Colab\"/></a>"
      ]
    },
    {
      "cell_type": "markdown",
      "source": [
        "#디지털인문학 실습 과제53\n",
        "##23.11.12\n",
        "\n",
        "##초보자를 위한 파이썬 200제"
      ],
      "metadata": {
        "id": "jmSLsCrE7Uz3"
      }
    },
    {
      "cell_type": "markdown",
      "source": [
        "실수형 자료를 정수형 자료로 변환하기(int)"
      ],
      "metadata": {
        "id": "0uPDKdlb7kom"
      }
    },
    {
      "cell_type": "code",
      "source": [
        "idata1 = int(-5.4)\n",
        "idata2 = int(1.78e1)\n",
        "idata3 = int(171.56)\n",
        "print(idata1)\n",
        "print(idata2)\n",
        "print(idata3)"
      ],
      "metadata": {
        "colab": {
          "base_uri": "https://localhost:8080/"
        },
        "id": "XZei86-B7ohc",
        "outputId": "d1f65bb1-8b1d-4d8e-e289-a4acd05acf73"
      },
      "execution_count": 1,
      "outputs": [
        {
          "output_type": "stream",
          "name": "stdout",
          "text": [
            "-5\n",
            "17\n",
            "171\n"
          ]
        }
      ]
    },
    {
      "cell_type": "markdown",
      "source": [
        "###int()\n",
        "- 실수형 자료를 정수형 자료로 변환해주는 내장 함수\n",
        "- 입력된 실수형 자료의 소수부분은 버리고 정수부분만 취하여 정수값을 리턴"
      ],
      "metadata": {
        "id": "MFl8Zx7z70-y"
      }
    },
    {
      "cell_type": "markdown",
      "source": [
        "정수형 자료를 실수형 자료로 변환하기(float)"
      ],
      "metadata": {
        "id": "ChtWzt3e7gPe"
      }
    },
    {
      "cell_type": "code",
      "execution_count": 2,
      "metadata": {
        "colab": {
          "base_uri": "https://localhost:8080/"
        },
        "id": "PV1ZO92U7UcT",
        "outputId": "3178cca6-2192-4169-9c8d-0dfae0c74c52"
      },
      "outputs": [
        {
          "output_type": "stream",
          "name": "stdout",
          "text": [
            "10.0\n"
          ]
        }
      ],
      "source": [
        "fdata = float(10)\n",
        "print(fdata)"
      ]
    },
    {
      "cell_type": "markdown",
      "source": [
        "###float()\n",
        "- 정수형 자료를 실수형 자료로 변환해주는 내장함수\n",
        "- 그렇기에 위에 코드에서도 정수인 10이 아닌 소수점 한자리를 붙여서 10.0으로 리턴하였다."
      ],
      "metadata": {
        "id": "KAzEdc5e8NKj"
      }
    }
  ]
}