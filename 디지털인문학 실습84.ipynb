{
  "nbformat": 4,
  "nbformat_minor": 0,
  "metadata": {
    "colab": {
      "provenance": [],
      "authorship_tag": "ABX9TyNJvUM263K8wQsPGLDdbyZX",
      "include_colab_link": true
    },
    "kernelspec": {
      "name": "python3",
      "display_name": "Python 3"
    },
    "language_info": {
      "name": "python"
    }
  },
  "cells": [
    {
      "cell_type": "markdown",
      "metadata": {
        "id": "view-in-github",
        "colab_type": "text"
      },
      "source": [
        "<a href=\"https://colab.research.google.com/github/jgh0707/NLP_2023/blob/main/%EB%94%94%EC%A7%80%ED%84%B8%EC%9D%B8%EB%AC%B8%ED%95%99%20%EC%8B%A4%EC%8A%B584.ipynb\" target=\"_parent\"><img src=\"https://colab.research.google.com/assets/colab-badge.svg\" alt=\"Open In Colab\"/></a>"
      ]
    },
    {
      "cell_type": "markdown",
      "source": [
        "#디지털인문학 실습 과제84\n",
        "##23.12.17\n",
        "##초보자를 위한 파이썬 200제"
      ],
      "metadata": {
        "id": "9G-Siv16E9CI"
      }
    },
    {
      "cell_type": "markdown",
      "source": [
        "###사전에 요소 추가하기\n"
      ],
      "metadata": {
        "id": "1GSsU02dIHDx"
      }
    },
    {
      "cell_type": "code",
      "execution_count": 2,
      "metadata": {
        "colab": {
          "base_uri": "https://localhost:8080/"
        },
        "id": "icdL_B_SE8g1",
        "outputId": "9a0deabc-17eb-4286-a32f-811764479ac6"
      },
      "outputs": [
        {
          "output_type": "stream",
          "name": "stdout",
          "text": [
            "{'태양': 'sun', '수성': 'mercury', '금성': 'venus', '지구': 'earth', '화성': 'mars', '목성': 'jupiter', '토성': 'saturn', '천왕성': 'uranus', '해왕성': 'neptune'}\n"
          ]
        }
      ],
      "source": [
        "solar1 = ['태양', '수성', '금성', '지구', '화성', '목성', '토성', '천왕성', '해왕성']\n",
        "solar2 = ['sun', 'mercury', 'venus', 'earth', 'mars', 'jupiter', 'saturn', 'uranus', 'neptune']\n",
        "solardict = { }\n",
        "for i, k in enumerate(solar1):\n",
        "  val = solar2[i]\n",
        "  solardict[k] = val\n",
        "\n",
        "print(solardict)"
      ]
    },
    {
      "cell_type": "markdown",
      "source": [
        " - 사전은 키:값이 요소인 순서가 없는 자료형이기에 인덱스가 아닌 키로 해당 요소의 값을 접근할 수 있다.\n",
        "- (dict[k2] = val2)가 그 예시"
      ],
      "metadata": {
        "id": "SUCcTE15IGG5"
      }
    },
    {
      "cell_type": "markdown",
      "source": [
        "###사전의 특정 요소값 변경하기"
      ],
      "metadata": {
        "id": "5DdEu6NmKVHu"
      }
    },
    {
      "cell_type": "code",
      "source": [
        "names = {'mary':10999, 'sams':2111, 'aimy':9778, 'tom':20245, 'michale':27115, 'bob':5887, 'kelly':7855}\n",
        "names['aimy'] = 10000\n",
        "print(names)"
      ],
      "metadata": {
        "colab": {
          "base_uri": "https://localhost:8080/"
        },
        "id": "4wLxqYwfKX-L",
        "outputId": "2bb97225-20af-45de-f99e-e2c202670515"
      },
      "execution_count": 4,
      "outputs": [
        {
          "output_type": "stream",
          "name": "stdout",
          "text": [
            "{'mary': 10999, 'sams': 2111, 'aimy': 10000, 'tom': 20245, 'michale': 27115, 'bob': 5887, 'kelly': 7855}\n"
          ]
        }
      ]
    },
    {
      "cell_type": "markdown",
      "source": [
        "사전에 요소 추가하기와 같은 방법으로 안에 있는 요소를 바꿀 수 있다."
      ],
      "metadata": {
        "id": "bkElunIJOWdR"
      }
    }
  ]
}