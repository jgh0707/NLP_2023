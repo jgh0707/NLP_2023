{
  "nbformat": 4,
  "nbformat_minor": 0,
  "metadata": {
    "colab": {
      "provenance": [],
      "authorship_tag": "ABX9TyNndC7gosmA3APGwjlSCJRi",
      "include_colab_link": true
    },
    "kernelspec": {
      "name": "python3",
      "display_name": "Python 3"
    },
    "language_info": {
      "name": "python"
    }
  },
  "cells": [
    {
      "cell_type": "markdown",
      "metadata": {
        "id": "view-in-github",
        "colab_type": "text"
      },
      "source": [
        "<a href=\"https://colab.research.google.com/github/jgh0707/NLP_2023/blob/main/%EB%94%94%EC%A7%80%ED%84%B8%EC%9D%B8%EB%AC%B8%ED%95%99%20%EC%8B%A4%EC%8A%B529.ipynb\" target=\"_parent\"><img src=\"https://colab.research.google.com/assets/colab-badge.svg\" alt=\"Open In Colab\"/></a>"
      ]
    },
    {
      "cell_type": "markdown",
      "source": [
        "# **디지털인문학 실습 과제29**\n",
        "## 23.10.16\n",
        "\n",
        "## 초보자를 위한 파이썬 200제"
      ],
      "metadata": {
        "id": "C3kSPvtC5rvg"
      }
    },
    {
      "cell_type": "markdown",
      "source": [
        "### 문자열 포맷팅 이해하기"
      ],
      "metadata": {
        "id": "UnYvdOTn5uXb"
      }
    },
    {
      "cell_type": "code",
      "execution_count": 1,
      "metadata": {
        "colab": {
          "base_uri": "https://localhost:8080/"
        },
        "id": "AxAO-FXX5pDx",
        "outputId": "8a7141cc-c803-4a1e-a0ce-e2ac4608ed73"
      },
      "outputs": [
        {
          "output_type": "stream",
          "name": "stdout",
          "text": [
            "나는 자바보다 파이썬에 더 익숙합니다.\n",
            "파이썬은 자바보다 5배 더 쉽습니다\n",
            "5 + 10 = 15\n",
            "작년 사계 경제 성장률은 전년에 비해 5% 포인트 증가했다.\n"
          ]
        }
      ],
      "source": [
        "txt1 = '자바'; txt2 = '파이썬'\n",
        "num1 = 5; num2 = 10\n",
        "print('나는 %s보다 %s에 더 익숙합니다.'%(txt1, txt2))\n",
        "print('%s은 %s보다 %d배 더 쉽습니다'%(txt2, txt1, num1))\n",
        "print('%d + %d = %d'%(num1, num2, num1 + num2))\n",
        "print('작년 사계 경제 성장률은 전년에 비해 %d%% 포인트 증가했다.'%num1)"
      ]
    },
    {
      "cell_type": "markdown",
      "source": [
        "###문자열 포맷팅\n",
        " - 변하는 값을 포함하는 문자열을 표현하기 위해 하나의 양식으로 문자열을 만드는 것\n",
        " - 이에 사용하는 기호를 포맷 문자열이라 함\n",
        "\n",
        "| 포맷문자열 | 설명 |\n",
        "|:--:|:--:|\n",
        "| %s | 문자열에 대응됨 |\n",
        "| %c | 문자나 기호 한 개에 대응됨 |\n",
        "| %f | 실수에 대응됨 |\n",
        "| %d | 정수에 대응됨 |\n",
        "| %% | '%'라는 기호 자체를 표시함 |"
      ],
      "metadata": {
        "id": "0MICCIB_6fn3"
      }
    }
  ]
}