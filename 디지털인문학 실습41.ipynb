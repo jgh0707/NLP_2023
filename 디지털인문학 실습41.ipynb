{
  "nbformat": 4,
  "nbformat_minor": 0,
  "metadata": {
    "colab": {
      "provenance": [],
      "authorship_tag": "ABX9TyMnBnislknfP+AspnAiwDrb",
      "include_colab_link": true
    },
    "kernelspec": {
      "name": "python3",
      "display_name": "Python 3"
    },
    "language_info": {
      "name": "python"
    }
  },
  "cells": [
    {
      "cell_type": "markdown",
      "metadata": {
        "id": "view-in-github",
        "colab_type": "text"
      },
      "source": [
        "<a href=\"https://colab.research.google.com/github/jgh0707/NLP_2023/blob/main/%EB%94%94%EC%A7%80%ED%84%B8%EC%9D%B8%EB%AC%B8%ED%95%99%20%EC%8B%A4%EC%8A%B541.ipynb\" target=\"_parent\"><img src=\"https://colab.research.google.com/assets/colab-badge.svg\" alt=\"Open In Colab\"/></a>"
      ]
    },
    {
      "cell_type": "markdown",
      "source": [
        "# **디지털인문학 실습 과제41**\n",
        "## 23.10.28\n",
        "\n",
        "## 초보자를 위한 파이썬 200제"
      ],
      "metadata": {
        "id": "r2_nPa1jeBxl"
      }
    },
    {
      "cell_type": "markdown",
      "source": [
        "###클래스 메소드 이해하기"
      ],
      "metadata": {
        "id": "AgsYHOcIeDgt"
      }
    },
    {
      "cell_type": "code",
      "execution_count": 1,
      "metadata": {
        "colab": {
          "base_uri": "https://localhost:8080/"
        },
        "id": "Mr4nYT1geBDp",
        "outputId": "ad6ff1ee-074a-4c3a-b20b-c062b94be985"
      },
      "outputs": [
        {
          "output_type": "stream",
          "name": "stdout",
          "text": [
            "안녕하세요\n",
            "철수! 다음에 보자!\n"
          ]
        }
      ],
      "source": [
        "class myclass:\n",
        "  def sayhello(self):\n",
        "    print('안녕하세요')\n",
        "\n",
        "  def saybye(self, name):\n",
        "    print('%s! 다음에 보자!' %name)\n",
        "\n",
        "obj = myclass()\n",
        "obj.sayhello()\n",
        "obj.saybye('철수')"
      ]
    },
    {
      "cell_type": "markdown",
      "source": [
        "###클래스 메소드\n",
        " - 클래스 메서드의 첫번째 인자는 반드시 self여야 한다.\n",
        " - 클래스 메소드에 인자가 필요할 경우 두 번째 인자부터 정의하면 된다.\n"
      ],
      "metadata": {
        "id": "FiOkCa4feguD"
      }
    },
    {
      "cell_type": "markdown",
      "source": [
        "###클래스 생성자 이해하기"
      ],
      "metadata": {
        "id": "0eXK24hoetRn"
      }
    },
    {
      "cell_type": "code",
      "source": [
        "class Myclass:\n",
        "  def __init__(self): #def와 __사이에 띄어쓰기는 필수\n",
        "    self.var = '안녕하세요!'\n",
        "    print('Myclass 인스턴스 객체가 생성되었습니다.')\n",
        "\n",
        "obj = Myclass()\n",
        "print(obj.var)\n",
        "#def __init__(slef,*args)"
      ],
      "metadata": {
        "colab": {
          "base_uri": "https://localhost:8080/"
        },
        "id": "A8jNoEzMe2b8",
        "outputId": "fa7bb1b7-7867-4430-c260-ecdd0ade63db"
      },
      "execution_count": 9,
      "outputs": [
        {
          "output_type": "stream",
          "name": "stdout",
          "text": [
            "Myclass 인스턴스 객체가 생성되었습니다.\n",
            "안녕하세요!\n"
          ]
        }
      ]
    },
    {
      "cell_type": "markdown",
      "source": [
        "###클래스 생성자\n",
        " - 인스턴스 객체가 생성될 때 자동적으로 호출되는 메소드\n",
        " - 형식은 위와 같다.(코드)\n",
        ""
      ],
      "metadata": {
        "id": "aF5RlPzXfxVm"
      }
    }
  ]
}