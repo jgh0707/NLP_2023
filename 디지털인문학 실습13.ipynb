{
  "nbformat": 4,
  "nbformat_minor": 0,
  "metadata": {
    "colab": {
      "provenance": [],
      "authorship_tag": "ABX9TyOL15iM/xoCcElxTPohMhiu",
      "include_colab_link": true
    },
    "kernelspec": {
      "name": "python3",
      "display_name": "Python 3"
    },
    "language_info": {
      "name": "python"
    }
  },
  "cells": [
    {
      "cell_type": "markdown",
      "metadata": {
        "id": "view-in-github",
        "colab_type": "text"
      },
      "source": [
        "<a href=\"https://colab.research.google.com/github/jgh0707/NLP_2023/blob/main/%EB%94%94%EC%A7%80%ED%84%B8%EC%9D%B8%EB%AC%B8%ED%95%99%20%EC%8B%A4%EC%8A%B513.ipynb\" target=\"_parent\"><img src=\"https://colab.research.google.com/assets/colab-badge.svg\" alt=\"Open In Colab\"/></a>"
      ]
    },
    {
      "cell_type": "markdown",
      "source": [
        "# **디지털인문학 실습 과제13**\n",
        "## 23.09.28\n",
        "\n",
        "## 복습"
      ],
      "metadata": {
        "id": "G27Z0MXKY10S"
      }
    },
    {
      "cell_type": "markdown",
      "source": [
        "## 시퀸스 자료 연결, 반복, 이해하기"
      ],
      "metadata": {
        "id": "iwJvPQsaY4Mf"
      }
    },
    {
      "cell_type": "code",
      "execution_count": 4,
      "metadata": {
        "colab": {
          "base_uri": "https://localhost:8080/"
        },
        "id": "PlU0AdqXY0wy",
        "outputId": "81d1e042-7bd0-4d1b-977d-3c7613c2b328"
      },
      "outputs": [
        {
          "output_type": "stream",
          "name": "stdout",
          "text": [
            "I lovePython\n",
            "I love  Python\n",
            "I love Python\n"
          ]
        }
      ],
      "source": [
        "str1 = 'I love'; str2='Python'\n",
        "print (str1 + str2)\n",
        "str3 = 'I love '; str4=' Python'\n",
        "print (str3 + str4)\n",
        "str5 = 'I love'; str6='Python' ; space = ' '\n",
        "print (str5 + space + str6)"
      ]
    },
    {
      "cell_type": "code",
      "source": [
        "str7 = 'BTS' ; str8 = 'sings' ; str9 = 'butter' ; space = ' '\n",
        "sum1 = str7 + str8 + str9\n",
        "print(sum1)\n",
        "sum2 = str7 + space + str8 + space + str9\n",
        "print(sum2)\n",
        "sum3 = str7 + space + str8 + space + str9 * 3\n",
        "print(sum3)"
      ],
      "metadata": {
        "colab": {
          "base_uri": "https://localhost:8080/"
        },
        "id": "eK7ba5LhZgmG",
        "outputId": "a3538791-8be9-4b40-9084-6420fae07a12"
      },
      "execution_count": 7,
      "outputs": [
        {
          "output_type": "stream",
          "name": "stdout",
          "text": [
            "BTSsingsbutter\n",
            "BTS sings butter\n",
            "BTS sings butterbutterbutter\n"
          ]
        }
      ]
    },
    {
      "cell_type": "code",
      "source": [
        "str10 = 'i love python'\n",
        "print(len(str10))"
      ],
      "metadata": {
        "colab": {
          "base_uri": "https://localhost:8080/"
        },
        "id": "0MwDc0i5a3Bn",
        "outputId": "98688097-fdc4-4f62-872f-d9ac373e6bb1"
      },
      "execution_count": 8,
      "outputs": [
        {
          "output_type": "stream",
          "name": "stdout",
          "text": [
            "13\n"
          ]
        }
      ]
    }
  ]
}