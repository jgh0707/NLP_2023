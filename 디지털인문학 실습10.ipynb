{
  "nbformat": 4,
  "nbformat_minor": 0,
  "metadata": {
    "colab": {
      "provenance": [],
      "authorship_tag": "ABX9TyOWoSsIqSbugLg6ox0HnWN1",
      "include_colab_link": true
    },
    "kernelspec": {
      "name": "python3",
      "display_name": "Python 3"
    },
    "language_info": {
      "name": "python"
    }
  },
  "cells": [
    {
      "cell_type": "markdown",
      "metadata": {
        "id": "view-in-github",
        "colab_type": "text"
      },
      "source": [
        "<a href=\"https://colab.research.google.com/github/jgh0707/NLP_2023/blob/main/%EB%94%94%EC%A7%80%ED%84%B8%EC%9D%B8%EB%AC%B8%ED%95%99%20%EC%8B%A4%EC%8A%B510.ipynb\" target=\"_parent\"><img src=\"https://colab.research.google.com/assets/colab-badge.svg\" alt=\"Open In Colab\"/></a>"
      ]
    },
    {
      "cell_type": "markdown",
      "source": [
        "# **디지털인문학 실습 과제10**\n",
        "## 23.09.25\n",
        "\n",
        "## 초보자를 위한 파이썬 200제"
      ],
      "metadata": {
        "id": "pEdOoW1BDs5S"
      }
    },
    {
      "cell_type": "markdown",
      "source": [
        "## 실수형 자료 이해하기"
      ],
      "metadata": {
        "id": "GG2_o9gRDtx6"
      }
    },
    {
      "cell_type": "code",
      "execution_count": 1,
      "metadata": {
        "colab": {
          "base_uri": "https://localhost:8080/"
        },
        "id": "uwlIgLciDr2f",
        "outputId": "a17022c1-7cda-4de7-8a9a-15bc57360ae3"
      },
      "outputs": [
        {
          "output_type": "stream",
          "name": "stdout",
          "text": [
            "1.0\n",
            "3.14\n",
            "1560.0\n",
            "-7e-05\n"
          ]
        }
      ],
      "source": [
        "f1 = 1.0\n",
        "f2 = 3.14\n",
        "f3 = 1.56e3\n",
        "f4 = -0.7e-4\n",
        "print(f1)\n",
        "print(f2)\n",
        "print(f3)\n",
        "print(f4)"
      ]
    },
    {
      "cell_type": "markdown",
      "source": [
        "- 변수에 소수로 표현한 값을 대입하면 그 변수는 실수형 자료로 취급된다.\n",
        "- 또 다른 실수형 상수 표현은 e를 사용하는 것으로 e는 10의 거듭제곱을 의미한다.\n"
      ],
      "metadata": {
        "id": "JemzMIUcD7DA"
      }
    }
  ]
}