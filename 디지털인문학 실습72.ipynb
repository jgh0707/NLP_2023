{
  "nbformat": 4,
  "nbformat_minor": 0,
  "metadata": {
    "colab": {
      "provenance": [],
      "authorship_tag": "ABX9TyNBMsslqHLZu3wJ6wPOlRCP",
      "include_colab_link": true
    },
    "kernelspec": {
      "name": "python3",
      "display_name": "Python 3"
    },
    "language_info": {
      "name": "python"
    }
  },
  "cells": [
    {
      "cell_type": "markdown",
      "metadata": {
        "id": "view-in-github",
        "colab_type": "text"
      },
      "source": [
        "<a href=\"https://colab.research.google.com/github/jgh0707/NLP_2023/blob/main/%EB%94%94%EC%A7%80%ED%84%B8%EC%9D%B8%EB%AC%B8%ED%95%99%20%EC%8B%A4%EC%8A%B572.ipynb\" target=\"_parent\"><img src=\"https://colab.research.google.com/assets/colab-badge.svg\" alt=\"Open In Colab\"/></a>"
      ]
    },
    {
      "cell_type": "markdown",
      "source": [
        "#디지털인문학 실습 과제72\n",
        "##23.12.04\n",
        "##초보자를 위한 파이썬 200제"
      ],
      "metadata": {
        "id": "QCxhqKsYSPZ8"
      }
    },
    {
      "cell_type": "markdown",
      "source": [
        "###리스트 요소 순서를 역순으로 만들기1(reverse)"
      ],
      "metadata": {
        "id": "duCyQ7D7Sa8m"
      }
    },
    {
      "cell_type": "code",
      "source": [
        "listdata = list(range(5))\n",
        "listdata.reverse()\n",
        "print(listdata)"
      ],
      "metadata": {
        "colab": {
          "base_uri": "https://localhost:8080/"
        },
        "id": "SRb5DoX8SQJ3",
        "outputId": "a787af9a-74e5-47c7-ba81-0f7ff1f4ecf6"
      },
      "execution_count": 1,
      "outputs": [
        {
          "output_type": "stream",
          "name": "stdout",
          "text": [
            "[4, 3, 2, 1, 0]\n"
          ]
        }
      ]
    },
    {
      "cell_type": "markdown",
      "source": [
        "###reverse()\n",
        "- 리스트의 모든 요소 순서를 거꾸로 만든다\n",
        "- 원본 리스트 자체가 변경되는 것"
      ],
      "metadata": {
        "id": "1cj3anjGSesg"
      }
    },
    {
      "cell_type": "markdown",
      "source": [
        "###리스트 요소 순서를 역순으로 만들기1(reversed)"
      ],
      "metadata": {
        "id": "iWKXwGmXSnZA"
      }
    },
    {
      "cell_type": "code",
      "source": [
        "listdata = list(range(5))\n",
        "ret1 = reversed(listdata)\n",
        "print('원본리스트 ', end='');print(listdata);\n",
        "print('역순리스트 ', end='');print(list(ret1))\n",
        "\n",
        "ret2 = listdata[::-1]\n",
        "print('슬라이싱 이용 ', end='');print(ret2)"
      ],
      "metadata": {
        "colab": {
          "base_uri": "https://localhost:8080/"
        },
        "id": "F_FqxNQgSrND",
        "outputId": "01c770dc-daba-41e6-b94a-271db4afcbb9"
      },
      "execution_count": 4,
      "outputs": [
        {
          "output_type": "stream",
          "name": "stdout",
          "text": [
            "원본리스트 [0, 1, 2, 3, 4]\n",
            "역순리스트 [4, 3, 2, 1, 0]\n",
            "슬라이싱 이용 [4, 3, 2, 1, 0]\n"
          ]
        }
      ]
    },
    {
      "cell_type": "markdown",
      "source": [
        "###reversed()\n",
        " - 역순으로 만드는 또 다른 방법으로 reverse()와는 다르게 원본 변경이 없다\n",
        " - 내장함수를 이용하는 방법이 아닌 슬라이싱을 통해서도 역순이 가능하다"
      ],
      "metadata": {
        "id": "jnTWJRf9TH-N"
      }
    }
  ]
}