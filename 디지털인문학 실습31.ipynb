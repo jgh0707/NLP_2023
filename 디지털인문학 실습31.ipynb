{
  "nbformat": 4,
  "nbformat_minor": 0,
  "metadata": {
    "colab": {
      "provenance": [],
      "authorship_tag": "ABX9TyOU5438TNjq/vMVfivYtmZM",
      "include_colab_link": true
    },
    "kernelspec": {
      "name": "python3",
      "display_name": "Python 3"
    },
    "language_info": {
      "name": "python"
    }
  },
  "cells": [
    {
      "cell_type": "markdown",
      "metadata": {
        "id": "view-in-github",
        "colab_type": "text"
      },
      "source": [
        "<a href=\"https://colab.research.google.com/github/jgh0707/NLP_2023/blob/main/%EB%94%94%EC%A7%80%ED%84%B8%EC%9D%B8%EB%AC%B8%ED%95%99%20%EC%8B%A4%EC%8A%B531.ipynb\" target=\"_parent\"><img src=\"https://colab.research.google.com/assets/colab-badge.svg\" alt=\"Open In Colab\"/></a>"
      ]
    },
    {
      "cell_type": "markdown",
      "source": [
        "# **디지털인문학 실습 과제31**\n",
        "## 23.10.18\n",
        "\n",
        "## 초보자를 위한 파이썬 200제"
      ],
      "metadata": {
        "id": "xiczS7VJRwMA"
      }
    },
    {
      "cell_type": "markdown",
      "source": [
        "###튜플 이해하기(())"
      ],
      "metadata": {
        "id": "OpzbJ5jSR27r"
      }
    },
    {
      "cell_type": "code",
      "execution_count": 4,
      "metadata": {
        "colab": {
          "base_uri": "https://localhost:8080/"
        },
        "id": "bVJMvjaLRv13",
        "outputId": "daed9a78-c0d8-4ccd-b8cd-a28aebcd55e3"
      },
      "outputs": [
        {
          "output_type": "stream",
          "name": "stdout",
          "text": [
            "안녕하세요\n"
          ]
        }
      ],
      "source": [
        "tuple1 = (1,2,3,4,5)\n",
        "tuple2 = ('a','b','c')\n",
        "tuple3 = (1,'a','abc',[1,2,3,4,5],['a','b','c'])\n",
        "#tuple1[0] = 6\n",
        "\n",
        "def myfunc():\n",
        "  print('안녕하세요')\n",
        "\n",
        "tuple4 = (1,2, myfunc)\n",
        "tuple4[2]()"
      ]
    },
    {
      "cell_type": "markdown",
      "source": [
        "### 튜플\n",
        " - 리스트와 비슷한 성질을 지녔지만 요소의 값을 변경할 수 없다.\n",
        " - 리스트와 마찬가지로 임의의 객체를 요소로 가질 수 있는 시퀸스 자료형\n",
        " - 그렇기에 위에 tuple1[0] = 6으로 인한 변경에서 오류가 발생한다."
      ],
      "metadata": {
        "id": "NuwKXXk_YIRF"
      }
    },
    {
      "cell_type": "markdown",
      "source": [
        "###사전 이해하기({})"
      ],
      "metadata": {
        "id": "UCqtOfq8YXmX"
      }
    },
    {
      "cell_type": "code",
      "source": [
        "dict1 = {'a':1,'b':2,'c':3}\n",
        "print(dict1['a'])\n",
        "dict1['d'] = 4\n",
        "print(dict1)\n",
        "dict1['b'] = 7\n",
        "print(dict1)\n",
        "print(len(dict1))"
      ],
      "metadata": {
        "colab": {
          "base_uri": "https://localhost:8080/"
        },
        "id": "sH9kbLjyYaVT",
        "outputId": "dbdb37e9-bda4-46d5-c177-d8ec6a5ff409"
      },
      "execution_count": 5,
      "outputs": [
        {
          "output_type": "stream",
          "name": "stdout",
          "text": [
            "1\n",
            "{'a': 1, 'b': 2, 'c': 3, 'd': 4}\n",
            "{'a': 1, 'b': 7, 'c': 3, 'd': 4}\n",
            "4\n"
          ]
        }
      ]
    },
    {
      "cell_type": "markdown",
      "source": [
        "### 사전\n",
        " - 키와 값을 하나의 요소로 하는 순서 없는 집합(시퀸스 자료형 X, 인덱싱 X)\n",
        " - 키:값이 하나의 요소로 임의의 객체가 존재한다.\n",
        " - 크기(len)는 요소들의 개수이다(콤마로 구분)"
      ],
      "metadata": {
        "id": "hR8IGjQdYrIR"
      }
    }
  ]
}