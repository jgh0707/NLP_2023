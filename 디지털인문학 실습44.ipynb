{
  "nbformat": 4,
  "nbformat_minor": 0,
  "metadata": {
    "colab": {
      "provenance": [],
      "authorship_tag": "ABX9TyPBMSrLMjwBV2cunKcQy+ql",
      "include_colab_link": true
    },
    "kernelspec": {
      "name": "python3",
      "display_name": "Python 3"
    },
    "language_info": {
      "name": "python"
    }
  },
  "cells": [
    {
      "cell_type": "markdown",
      "metadata": {
        "id": "view-in-github",
        "colab_type": "text"
      },
      "source": [
        "<a href=\"https://colab.research.google.com/github/jgh0707/NLP_2023/blob/main/%EB%94%94%EC%A7%80%ED%84%B8%EC%9D%B8%EB%AC%B8%ED%95%99%20%EC%8B%A4%EC%8A%B544.ipynb\" target=\"_parent\"><img src=\"https://colab.research.google.com/assets/colab-badge.svg\" alt=\"Open In Colab\"/></a>"
      ]
    },
    {
      "cell_type": "markdown",
      "source": [
        "# **디지털인문학 실습 과제44**\n",
        "## 23.11.01\n",
        "\n",
        "## 초보자를 위한 파이썬 200제"
      ],
      "metadata": {
        "id": "4w0xAa8Be0k3"
      }
    },
    {
      "cell_type": "markdown",
      "source": [
        "###예외처리 이해하기 1(try ~ except)"
      ],
      "metadata": {
        "id": "8UCbVZYofMrB"
      }
    },
    {
      "cell_type": "code",
      "execution_count": 2,
      "metadata": {
        "colab": {
          "base_uri": "https://localhost:8080/"
        },
        "id": "o4svAK34evT-",
        "outputId": "1ffe1533-5d80-4b81-af99-d5c9c5863346"
      },
      "outputs": [
        {
          "output_type": "stream",
          "name": "stdout",
          "text": [
            "안녕하세요\n",
            "예외가 발생했습니다!\n"
          ]
        }
      ],
      "source": [
        "try:\n",
        "  print('안녕하세요')\n",
        "  print(param)\n",
        "except:\n",
        "  print('예외가 발생했습니다!')"
      ]
    },
    {
      "cell_type": "markdown",
      "source": [
        "###예외\n",
        "- 프로그램이 실행되는 동안 오류가 발생하여 프로그램이 더 이상 진행될 수 없는 상태\n",
        "- 예외가 발생하여도 프로그램을 중단시키지 않고 진행하도록 하는 구문이 바로 try ~ except\n",
        "- 예외가 발생하였을 때 except 부분에서 적절한 처리를 한다."
      ],
      "metadata": {
        "id": "vNP2UMwNhwJT"
      }
    },
    {
      "cell_type": "markdown",
      "source": [
        "###예외처리 이해하기 2(try ~ except~else)"
      ],
      "metadata": {
        "id": "quaVeDiL2AuK"
      }
    },
    {
      "cell_type": "code",
      "source": [
        "try:\n",
        "  print('안녕하세요')\n",
        "  print(param)\n",
        "except:\n",
        "  print('예외가 발생했습니다.')\n",
        "else:\n",
        "  print('예외가 발생하지 않았습니다.')\n",
        "\n",
        "print('----------------------------')\n",
        "\n",
        "try:\n",
        "  print('안녕하세요')\n",
        "  #print(param)\n",
        "except:\n",
        "  print('예외가 발생했습니다.')\n",
        "else:\n",
        "  print('예외가 발생하지 않았습니다.')"
      ],
      "metadata": {
        "colab": {
          "base_uri": "https://localhost:8080/"
        },
        "id": "FeSGDmNs2DQS",
        "outputId": "3080eb4c-680a-4d6f-d82f-23857c160e81"
      },
      "execution_count": 4,
      "outputs": [
        {
          "output_type": "stream",
          "name": "stdout",
          "text": [
            "안녕하세요\n",
            "예외가 발생했습니다.\n",
            "----------------------------\n",
            "안녕하세요\n",
            "예외가 발생하지 않았습니다.\n"
          ]
        }
      ]
    },
    {
      "cell_type": "markdown",
      "source": [
        "- 오류 상황이 아닐 경우에만 어떤 작업을 수행하는 코드가 바로 try ~ except~else 구문이다\n",
        "- 첫 번째에서는 예외가 발생하였기에 except를 통한 적절한 처리를 하였고, 두 번째에서는 예외가 발생하지 않았기에 else를 통한 처리가 이루어졌다."
      ],
      "metadata": {
        "id": "8WtXsUCf2VJE"
      }
    },
    {
      "cell_type": "markdown",
      "source": [
        "###예외처리 이해하기 3(try ~ except~finally)"
      ],
      "metadata": {
        "id": "W8O3VtMO2rh6"
      }
    },
    {
      "cell_type": "code",
      "source": [
        "try:\n",
        "  print('안녕하세요')\n",
        "  print(param)\n",
        "except:\n",
        "  print('예외가 발생했습니다.')\n",
        "finally:\n",
        "  print('무조건 실행하는 코드')"
      ],
      "metadata": {
        "colab": {
          "base_uri": "https://localhost:8080/"
        },
        "id": "06Jma2zK2vmI",
        "outputId": "9794c0f2-e91b-4b94-eb8c-67b6b70ed5c1"
      },
      "execution_count": 5,
      "outputs": [
        {
          "output_type": "stream",
          "name": "stdout",
          "text": [
            "안녕하세요\n",
            "예외가 발생했습니다.\n",
            "무조건 실행하는 코드\n"
          ]
        }
      ]
    },
    {
      "cell_type": "markdown",
      "source": [
        "- 오류와 상관없이 어떤 코드를 무조건 실행하기 위해서는 try ~ except~finally 구문을 활용해야 한다.\n",
        "- 그렇기에 param이라는 예외가 발생하였어도 finally에서는 무조건 실행하는 코드가 출력되었다."
      ],
      "metadata": {
        "id": "CLaUagnZ211x"
      }
    }
  ]
}