{
  "nbformat": 4,
  "nbformat_minor": 0,
  "metadata": {
    "colab": {
      "provenance": [],
      "authorship_tag": "ABX9TyMDz1xpBaeEvftCF2aaueXd",
      "include_colab_link": true
    },
    "kernelspec": {
      "name": "python3",
      "display_name": "Python 3"
    },
    "language_info": {
      "name": "python"
    }
  },
  "cells": [
    {
      "cell_type": "markdown",
      "metadata": {
        "id": "view-in-github",
        "colab_type": "text"
      },
      "source": [
        "<a href=\"https://colab.research.google.com/github/jgh0707/NLP_2023/blob/main/%EB%94%94%EC%A7%80%ED%84%B8%EC%9D%B8%EB%AC%B8%ED%95%99%20%EC%8B%A4%EC%8A%B585.ipynb\" target=\"_parent\"><img src=\"https://colab.research.google.com/assets/colab-badge.svg\" alt=\"Open In Colab\"/></a>"
      ]
    },
    {
      "cell_type": "markdown",
      "source": [
        "#디지털인문학 실습 과제85\n",
        "##23.12.18\n",
        "##초보자를 위한 파이썬 200제"
      ],
      "metadata": {
        "id": "oJjoY8755_wB"
      }
    },
    {
      "cell_type": "markdown",
      "source": [
        "###사전의 특정 요소 제거하기(del)"
      ],
      "metadata": {
        "id": "9WStQC2s6Do5"
      }
    },
    {
      "cell_type": "code",
      "execution_count": 1,
      "metadata": {
        "colab": {
          "base_uri": "https://localhost:8080/"
        },
        "id": "dCfQJ78958b0",
        "outputId": "87f5ced4-ab62-4173-8e20-54fd416fcd1e"
      },
      "outputs": [
        {
          "output_type": "stream",
          "name": "stdout",
          "text": [
            "{'mary': 10999, 'aimy': 9778, 'tom': 20245, 'michale': 27115, 'bob': 5887, 'kelly': 7855}\n"
          ]
        }
      ],
      "source": [
        "names = {'mary':10999, 'sams':2111, 'aimy':9778, 'tom':20245, 'michale':27115, 'bob':5887, 'kelly':7855}\n",
        "del names['sams']\n",
        "print(names)"
      ]
    },
    {
      "cell_type": "markdown",
      "source": [
        "###del *dict[k]\n",
        " - 사전 dict에서 특정 요소(k)를 제거하는 방법\n"
      ],
      "metadata": {
        "id": "LSj65a5F6N8M"
      }
    },
    {
      "cell_type": "markdown",
      "source": [
        "###사전의 모든 요소 제거하기(clear)"
      ],
      "metadata": {
        "id": "B8c1WRm86Yq-"
      }
    },
    {
      "cell_type": "code",
      "source": [
        "names = {'mary':10999, 'sams':2111, 'aimy':9778, 'tom':20245, 'michale':27115, 'bob':5887, 'kelly':7855}\n",
        "names.clear()\n",
        "print(names)"
      ],
      "metadata": {
        "colab": {
          "base_uri": "https://localhost:8080/"
        },
        "id": "ZJg2QXfq6bYG",
        "outputId": "afa7ebc0-5106-4f7d-fd0b-71a731b09364"
      },
      "execution_count": 2,
      "outputs": [
        {
          "output_type": "stream",
          "name": "stdout",
          "text": [
            "{}\n"
          ]
        }
      ]
    },
    {
      "cell_type": "markdown",
      "source": [
        "###clear()\n",
        " - 사전의 모든 요소를 제거하는 메소드\n",
        " - 리스트를 제거할 때 (del)과는 다르게 오류가 발생하지 않고 빈 사전만  나온다."
      ],
      "metadata": {
        "id": "fCW0RkWT6f5q"
      }
    }
  ]
}