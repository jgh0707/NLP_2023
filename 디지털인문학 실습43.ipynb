{
  "nbformat": 4,
  "nbformat_minor": 0,
  "metadata": {
    "colab": {
      "provenance": [],
      "authorship_tag": "ABX9TyOZ7rDrpIUaCRVAP4OlJVUZ",
      "include_colab_link": true
    },
    "kernelspec": {
      "name": "python3",
      "display_name": "Python 3"
    },
    "language_info": {
      "name": "python"
    }
  },
  "cells": [
    {
      "cell_type": "markdown",
      "metadata": {
        "id": "view-in-github",
        "colab_type": "text"
      },
      "source": [
        "<a href=\"https://colab.research.google.com/github/jgh0707/NLP_2023/blob/main/%EB%94%94%EC%A7%80%ED%84%B8%EC%9D%B8%EB%AC%B8%ED%95%99%20%EC%8B%A4%EC%8A%B543.ipynb\" target=\"_parent\"><img src=\"https://colab.research.google.com/assets/colab-badge.svg\" alt=\"Open In Colab\"/></a>"
      ]
    },
    {
      "cell_type": "markdown",
      "source": [
        "# **디지털인문학 실습 과제43**\n",
        "## 23.10.31\n",
        "\n",
        "## 복습"
      ],
      "metadata": {
        "id": "za3VFhmGJKW3"
      }
    },
    {
      "cell_type": "code",
      "execution_count": 1,
      "metadata": {
        "colab": {
          "base_uri": "https://localhost:8080/"
        },
        "id": "Zwt2cDXWIKjn",
        "outputId": "d9c6b3ac-c95c-44e6-d298-fd41ef3ad899"
      },
      "outputs": [
        {
          "output_type": "stream",
          "name": "stdout",
          "text": [
            "match : 123 m\n",
            "match : 5 a\n"
          ]
        }
      ],
      "source": [
        "import re\n",
        "\n",
        "text = '123 main street and 5 avenue'\n",
        "pattern = r'\\d+\\s\\w'\n",
        "\n",
        "matches = re.findall(pattern, text)\n",
        "\n",
        "for i in matches:\n",
        "  print('match :', i)"
      ]
    },
    {
      "cell_type": "code",
      "source": [
        "import re\n",
        "\n",
        "text = '123 main street and 5 avenue'\n",
        "pattern = r'\\d+\\s\\w+'\n",
        "\n",
        "matches = re.findall(pattern, text)\n",
        "\n",
        "for i in matches:\n",
        "  print('match :', i)"
      ],
      "metadata": {
        "colab": {
          "base_uri": "https://localhost:8080/"
        },
        "id": "lVUG0dMjJhvP",
        "outputId": "02a3a126-b1fe-45e2-ed95-ff33f05c2133"
      },
      "execution_count": 2,
      "outputs": [
        {
          "output_type": "stream",
          "name": "stdout",
          "text": [
            "match : 123 main\n",
            "match : 5 avenue\n"
          ]
        }
      ]
    },
    {
      "cell_type": "code",
      "source": [
        "#function 함수 문자열 인자\n",
        "def add_txt(t1, t2):\n",
        "  print(t1 + t2)\n",
        "\n",
        "def add_txt(t1, t2):\n",
        "  result = t1 + t2\n",
        "  return result\n",
        "#숫자 인자\n",
        "def add_number(n1, n2):\n",
        "  print(n1 + n2)\n",
        "\n",
        "def add_number(n1, n2):\n",
        "  result = n1 + n2\n",
        "  return result"
      ],
      "metadata": {
        "id": "RR74ybGPJ7LP"
      },
      "execution_count": null,
      "outputs": []
    },
    {
      "cell_type": "code",
      "source": [
        "#예시1\n",
        "def add_txt(t1, t2):\n",
        "  result = t1 + t2\n",
        "  return result\n",
        "\n",
        "text1 = 'fail '\n",
        "text2 = 'semester'\n",
        "\n",
        "combined_text = add_txt(text1, text2)\n",
        "\n",
        "print(combined_text)"
      ],
      "metadata": {
        "id": "BnxLeozSJ8Mt"
      },
      "execution_count": null,
      "outputs": []
    },
    {
      "cell_type": "code",
      "source": [
        "#자리표시자\n",
        "\n",
        "name = 'alice'\n",
        "score = 95\n",
        "age = 18\n",
        "\n",
        "test_result = 'you scored %d on the test' %score\n",
        "print(test_result)\n",
        "\n",
        "greeting = 'hello, %s! you turn to finally %d years old finally.' %(name, age)\n",
        "print(greeting)\n",
        "\n",
        "print('you scored %d on the test' %score)\n",
        "print('hello, %s! you turn to finally %d years old finally.' %(name, age))"
      ],
      "metadata": {
        "colab": {
          "base_uri": "https://localhost:8080/"
        },
        "id": "guRrZ9fLKXOb",
        "outputId": "31f1b69b-4b6d-4394-865e-aa6c4962e503"
      },
      "execution_count": 3,
      "outputs": [
        {
          "output_type": "stream",
          "name": "stdout",
          "text": [
            "you scored 95 on the test\n",
            "hello, alice! you turn to finally 18 years old finally.\n",
            "you scored 95 on the test\n",
            "hello, alice! you turn to finally 18 years old finally.\n"
          ]
        }
      ]
    },
    {
      "cell_type": "code",
      "source": [
        "#응용\n",
        "name = \"Alice\"\n",
        "score = 95\n",
        "age = 18\n",
        "\n",
        "test_result = \"my name is %s.\" % name\n",
        "print(test_result)\n",
        "\n",
        "print(\"my name is %s.\" % name)"
      ],
      "metadata": {
        "colab": {
          "base_uri": "https://localhost:8080/"
        },
        "id": "N3CFuH80Km3o",
        "outputId": "d085f89a-7d92-4611-99c5-12771ef5bb72"
      },
      "execution_count": 4,
      "outputs": [
        {
          "output_type": "stream",
          "name": "stdout",
          "text": [
            "my name is Alice.\n",
            "my name is Alice.\n"
          ]
        }
      ]
    },
    {
      "cell_type": "code",
      "source": [
        "#예시\n",
        "def add(a, b):\n",
        "  result = a + b\n",
        "  return result\n",
        "\n",
        "num1 = 950\n",
        "num2 = 3442\n",
        "\n",
        "sum_result = add(num1, num2)\n",
        "\n",
        "print('the sum of %d and %d is %d'%(num1, num2, sum_result))"
      ],
      "metadata": {
        "colab": {
          "base_uri": "https://localhost:8080/"
        },
        "id": "dOLRYuOLKpH0",
        "outputId": "7a166d4d-9d96-4171-bebb-4aa07613e55b"
      },
      "execution_count": 5,
      "outputs": [
        {
          "output_type": "stream",
          "name": "stdout",
          "text": [
            "the sum of 950 and 3442 is 4392\n"
          ]
        }
      ]
    },
    {
      "cell_type": "code",
      "source": [
        "#함수 호출\n",
        "def add_txt1(t1, t2 ='python'):\n",
        "  print(t1 + ':' + t2)\n",
        "\n",
        "add_txt1('best')\n",
        "add_txt1(t1 = 'mt friend', t2 = 'python')\n",
        "add_txt1(t1 = 'mynuddy')"
      ],
      "metadata": {
        "colab": {
          "base_uri": "https://localhost:8080/"
        },
        "id": "lyil83YRKxPj",
        "outputId": "31d69120-9bad-4953-fd3a-8e7b10b71b8f"
      },
      "execution_count": 6,
      "outputs": [
        {
          "output_type": "stream",
          "name": "stdout",
          "text": [
            "best:python\n",
            "mt friend:python\n",
            "mynuddy:python\n"
          ]
        }
      ]
    },
    {
      "cell_type": "code",
      "source": [
        "#가변인자\n",
        "def func_uncertain(*args):\n",
        "  print(args)\n",
        "\n",
        "func_uncertain()\n",
        "\n",
        "func_uncertain(1, 2, 3)\n",
        "func_uncertain('apple', 'banana', 'cherry', 'data')\n",
        "func_uncertain(True)"
      ],
      "metadata": {
        "colab": {
          "base_uri": "https://localhost:8080/"
        },
        "id": "xy74d1oQKy2e",
        "outputId": "d5735f16-a39f-4097-e733-550121a4d97b"
      },
      "execution_count": 7,
      "outputs": [
        {
          "output_type": "stream",
          "name": "stdout",
          "text": [
            "()\n",
            "(1, 2, 3)\n",
            "('apple', 'banana', 'cherry', 'data')\n",
            "(True,)\n"
          ]
        }
      ]
    },
    {
      "cell_type": "code",
      "source": [
        "#키워드 가변인자\n",
        "\n",
        "def func_kwa(width, height, **kwargs):\n",
        "  print(kwargs)\n",
        "\n",
        "func_kwa(10, 20)\n",
        "func_kwa(10, 20, depth = 30, color = 'blue')"
      ],
      "metadata": {
        "colab": {
          "base_uri": "https://localhost:8080/"
        },
        "id": "JwXlKsS1K20i",
        "outputId": "c2fa0b05-78c4-4720-949f-eeceeb52fc70"
      },
      "execution_count": 9,
      "outputs": [
        {
          "output_type": "stream",
          "name": "stdout",
          "text": [
            "{}\n",
            "{'depth': 30, 'color': 'blue'}\n"
          ]
        }
      ]
    },
    {
      "cell_type": "code",
      "source": [
        "#리스트의 한 요소가 function함수일 경우\n",
        "def myfunction():\n",
        "  print('hello world!')\n",
        "\n",
        "list = [1, 2, myfunction]\n",
        "\n",
        "list[2]()\n",
        "myfunction()"
      ],
      "metadata": {
        "colab": {
          "base_uri": "https://localhost:8080/"
        },
        "id": "qpibt9CsK5HV",
        "outputId": "1e602ee9-e700-459e-fc33-82ac7b7d7359"
      },
      "execution_count": 8,
      "outputs": [
        {
          "output_type": "stream",
          "name": "stdout",
          "text": [
            "hello world!\n",
            "hello world!\n"
          ]
        }
      ]
    }
  ]
}