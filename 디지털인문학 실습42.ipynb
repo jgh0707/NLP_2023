{
  "nbformat": 4,
  "nbformat_minor": 0,
  "metadata": {
    "colab": {
      "provenance": [],
      "authorship_tag": "ABX9TyMUB2/N5WkuaeFFzCleQmAc",
      "include_colab_link": true
    },
    "kernelspec": {
      "name": "python3",
      "display_name": "Python 3"
    },
    "language_info": {
      "name": "python"
    }
  },
  "cells": [
    {
      "cell_type": "markdown",
      "metadata": {
        "id": "view-in-github",
        "colab_type": "text"
      },
      "source": [
        "<a href=\"https://colab.research.google.com/github/jgh0707/NLP_2023/blob/main/%EB%94%94%EC%A7%80%ED%84%B8%EC%9D%B8%EB%AC%B8%ED%95%99%20%EC%8B%A4%EC%8A%B542.ipynb\" target=\"_parent\"><img src=\"https://colab.research.google.com/assets/colab-badge.svg\" alt=\"Open In Colab\"/></a>"
      ]
    },
    {
      "cell_type": "markdown",
      "source": [
        "# **디지털인문학 실습 과제42**\n",
        "## 23.10.30\n",
        "\n",
        "## 초보자를 위한 파이썬 200제"
      ],
      "metadata": {
        "id": "a3thiUyKAeBN"
      }
    },
    {
      "cell_type": "markdown",
      "source": [
        "###클래스 소멸자 이해하기"
      ],
      "metadata": {
        "id": "_9kuObddAn3E"
      }
    },
    {
      "cell_type": "code",
      "execution_count": 2,
      "metadata": {
        "colab": {
          "base_uri": "https://localhost:8080/"
        },
        "id": "fM0yCrbQAViH",
        "outputId": "4dd9f119-bbf8-4a0e-a0a9-8f74512b60be"
      },
      "outputs": [
        {
          "output_type": "stream",
          "name": "stdout",
          "text": [
            "myclass 인스턴스 객체가 메모리에서 제거됩니다.\n"
          ]
        }
      ],
      "source": [
        "class myclass:\n",
        "  def __del__(self):\n",
        "    print('myclass 인스턴스 객체가 메모리에서 제거됩니다.')\n",
        "#__del__(self):\n",
        "obj = myclass()\n",
        "del obj"
      ]
    },
    {
      "cell_type": "markdown",
      "source": [
        "- 인스턴스 객체가 메모리에서 제거될 때 자동으로 호출되는 클래스\n",
        "- 다음과 같은 이름을 가진다.(코드 셀 설명)\n",
        "\n"
      ],
      "metadata": {
        "id": "Zdsg3JdVA_5M"
      }
    },
    {
      "cell_type": "markdown",
      "source": [
        "###클래스 상속 이해하기"
      ],
      "metadata": {
        "id": "G7W1NjOdCjJQ"
      }
    },
    {
      "cell_type": "code",
      "source": [
        "class add:\n",
        "  def add(self, n1, n2):\n",
        "    return n1 + n2\n",
        "\n",
        "class calculator(add):\n",
        "  def sub(self, n1, n2):\n",
        "    return n1 - n2\n",
        "\n",
        "obj = calculator()\n",
        "print(obj.add(1,2))\n",
        "print(obj.sub(1,2))"
      ],
      "metadata": {
        "colab": {
          "base_uri": "https://localhost:8080/"
        },
        "id": "C_gY3YZbCkcj",
        "outputId": "082bbd8b-b14a-4db7-c060-b9bbc845c199"
      },
      "execution_count": 3,
      "outputs": [
        {
          "output_type": "stream",
          "name": "stdout",
          "text": [
            "3\n",
            "-1\n"
          ]
        }
      ]
    },
    {
      "cell_type": "markdown",
      "source": [
        "###클래스 상속(특성을 가진 이름공간)\n",
        "- 어떤 클래스가 가지고 있는 모든 멤버나 메소드를상속받는 클래스 모두 사용할 수 있는 것\n",
        "- 상속을 해주는 클래스를 **부모클래스** 또는 **슈퍼클래스**라 부르며 상속 받는 클래스를 **자식클래스** 또는 **서브클래스**라 한다.\n",
        "- 정의는 다음과 같다.\n",
        " - class 자식클래스(부모클래스):\n",
        "- 자식클래스는 부모클래스에서 정의된 모든 멤버나 메소드를 그대로 상속 받는다.\n",
        "- 만약 자식클래스와 부모클래스의 멤버나 메소드가 동일한 이름이라면 자식클래스에 것이 우선시 된다."
      ],
      "metadata": {
        "id": "xRiNm1tDDN1D"
      }
    }
  ]
}