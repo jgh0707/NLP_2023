{
  "nbformat": 4,
  "nbformat_minor": 0,
  "metadata": {
    "colab": {
      "provenance": [],
      "authorship_tag": "ABX9TyN/NujhQKgahZSrS97lG7GK",
      "include_colab_link": true
    },
    "kernelspec": {
      "name": "python3",
      "display_name": "Python 3"
    },
    "language_info": {
      "name": "python"
    }
  },
  "cells": [
    {
      "cell_type": "markdown",
      "metadata": {
        "id": "view-in-github",
        "colab_type": "text"
      },
      "source": [
        "<a href=\"https://colab.research.google.com/github/jgh0707/NLP_2023/blob/main/%EB%94%94%EC%A7%80%ED%84%B8%EC%9D%B8%EB%AC%B8%ED%95%99%20%EC%8B%A4%EC%8A%B55.ipynb\" target=\"_parent\"><img src=\"https://colab.research.google.com/assets/colab-badge.svg\" alt=\"Open In Colab\"/></a>"
      ]
    },
    {
      "cell_type": "markdown",
      "source": [
        "# **디지털인문학 실습 과제5**\n",
        "## 23.09.18\n",
        "\n",
        "## 초보자를 위한 파이썬 200제\n",
        "\n",
        "### 코드 중간에 사용되는 **<font color = 'red'>print('----')</font>**는 경계선으로 구분"
      ],
      "metadata": {
        "id": "6IKOsYQXiW40"
      }
    },
    {
      "cell_type": "markdown",
      "source": [
        "## **while문 개념 배우기 2<font color = 'red'>(while~ continue~ break)</font> 예제**"
      ],
      "metadata": {
        "id": "ZKbm_T2nigl8"
      }
    },
    {
      "cell_type": "code",
      "source": [
        "a = 0\n",
        "while a < 10:\n",
        "  a = a + 1\n",
        "  if a < 3:\n",
        "    continue\n",
        "  print(a)\n",
        "  if a > 7:\n",
        "    break\n",
        "print('----')\n",
        "b = 1\n",
        "total = 0\n",
        "while 1:\n",
        "  total = total + b\n",
        "  if total > 100000:\n",
        "   print(b)\n",
        "   print(total)\n",
        "   break\n",
        "  b = b + 1"
      ],
      "metadata": {
        "colab": {
          "base_uri": "https://localhost:8080/"
        },
        "id": "8QaZSgOLip7p",
        "outputId": "6d08a469-fcc9-4375-eed7-5dd9508dce30"
      },
      "execution_count": null,
      "outputs": [
        {
          "output_type": "stream",
          "name": "stdout",
          "text": [
            "3\n",
            "4\n",
            "5\n",
            "6\n",
            "7\n",
            "8\n",
            "----\n",
            "447\n",
            "100128\n"
          ]
        }
      ]
    },
    {
      "cell_type": "markdown",
      "source": [
        "## **None 개념 배우기**"
      ],
      "metadata": {
        "id": "ovGKMisFUMMs"
      }
    },
    {
      "cell_type": "code",
      "source": [
        "val = None\n",
        "condition = 1\n",
        "if condition == 1:\n",
        "  val = [1, 2, 3]\n",
        "else:\n",
        "  val = 'i love python'\n",
        "# None은 값을 가지고 있지 않은 변수이며 함수에서 아무런 값도 리턴하지 않고 끝낼 때 사용\n",
        "# 함수 로직에서 예외나 오류가 발생하여 None이 나온다면 실행 도중 오류가 발생해 비정상적 종료임을 알려준다."
      ],
      "metadata": {
        "id": "J0tZH-ImUWrp"
      },
      "execution_count": null,
      "outputs": []
    }
  ]
}