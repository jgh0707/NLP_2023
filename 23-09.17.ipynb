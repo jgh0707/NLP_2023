{
  "nbformat": 4,
  "nbformat_minor": 0,
  "metadata": {
    "colab": {
      "provenance": [],
      "authorship_tag": "ABX9TyOqM7QPGY7HX001IndHAJag",
      "include_colab_link": true
    },
    "kernelspec": {
      "name": "python3",
      "display_name": "Python 3"
    },
    "language_info": {
      "name": "python"
    }
  },
  "cells": [
    {
      "cell_type": "markdown",
      "metadata": {
        "id": "view-in-github",
        "colab_type": "text"
      },
      "source": [
        "<a href=\"https://colab.research.google.com/github/jgh0707/NLP_2023/blob/main/23-09.17.ipynb\" target=\"_parent\"><img src=\"https://colab.research.google.com/assets/colab-badge.svg\" alt=\"Open In Colab\"/></a>"
      ]
    },
    {
      "cell_type": "markdown",
      "source": [
        "# **디지털인문학 실습 과제4**\n",
        "## 23.09.17\n",
        "\n",
        "## 초보자를 위한 파이썬 200제\n",
        "\n",
        "### 코드 중간에 사용되는 **<font color = 'red'>print('----')</font>**는 경계선으로 구분"
      ],
      "metadata": {
        "id": "6IKOsYQXiW40"
      }
    },
    {
      "cell_type": "markdown",
      "source": [
        "## **for문 개념 배우기 2<font color = 'red'>(for~ continue~ break)</font> 예제 및 응용**"
      ],
      "metadata": {
        "id": "ZKbm_T2nigl8"
      }
    },
    {
      "cell_type": "code",
      "source": [
        "scope = [1, 2, 3, 4, 5]\n",
        "for a in scope:\n",
        "  print(a)\n",
        "  if a < 3:\n",
        "    continue\n",
        "  else:\n",
        "    break\n",
        "print('----')\n",
        "scope = [1, 2, 3, 4, 5]\n",
        "for b in scope:\n",
        "  print(b)\n",
        "  if b >= 3:\n",
        "    break\n",
        "print('----')\n",
        "scope = [1, 2, 3, 4, 5]\n",
        "for c in scope:\n",
        "  print(c)\n",
        "  if c > 3:\n",
        "    break"
      ],
      "metadata": {
        "colab": {
          "base_uri": "https://localhost:8080/"
        },
        "id": "8QaZSgOLip7p",
        "outputId": "68705217-099a-4a21-feab-defd7ca7a5ba"
      },
      "execution_count": 31,
      "outputs": [
        {
          "output_type": "stream",
          "name": "stdout",
          "text": [
            "1\n",
            "2\n",
            "3\n",
            "----\n",
            "1\n",
            "2\n",
            "3\n",
            "----\n",
            "1\n",
            "2\n",
            "3\n",
            "4\n"
          ]
        }
      ]
    },
    {
      "cell_type": "markdown",
      "source": [
        "## **for문 개념 배우기 3<font color = 'red'>(for~ else)</font> 응용**"
      ],
      "metadata": {
        "id": "wa6AbWsFjdC-"
      }
    },
    {
      "cell_type": "code",
      "source": [
        "scope = [1, 2, 3,]\n",
        "for a in scope:\n",
        "  print(a)\n",
        "  break\n",
        "else:\n",
        "  print('perfect')\n",
        "print('----')\n",
        "scope = [1, 2, 3,]\n",
        "for b in scope:\n",
        "  print(b)\n",
        "else:\n",
        "  print('perfect')\n",
        "print('----')\n",
        "scope = [1, 2, 3, 4, 5]\n",
        "for c in scope:\n",
        "  print(c)\n",
        "  if c <= 5:\n",
        "    continue\n",
        "  else:\n",
        "   break\n",
        "else:\n",
        "  print('perfect')"
      ],
      "metadata": {
        "colab": {
          "base_uri": "https://localhost:8080/"
        },
        "id": "0o_OL0ctjdzB",
        "outputId": "99f6b43d-3ffa-4aa1-f507-f68964518a7b"
      },
      "execution_count": 24,
      "outputs": [
        {
          "output_type": "stream",
          "name": "stdout",
          "text": [
            "1\n",
            "----\n",
            "1\n",
            "2\n",
            "3\n",
            "perfect\n",
            "----\n",
            "1\n",
            "2\n",
            "3\n",
            "4\n",
            "5\n",
            "perfect\n"
          ]
        }
      ]
    }
  ]
}