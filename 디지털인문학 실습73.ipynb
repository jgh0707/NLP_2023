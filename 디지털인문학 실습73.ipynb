{
  "nbformat": 4,
  "nbformat_minor": 0,
  "metadata": {
    "colab": {
      "provenance": [],
      "authorship_tag": "ABX9TyOFdx6xC/YsKBbhIacwIgLD",
      "include_colab_link": true
    },
    "kernelspec": {
      "name": "python3",
      "display_name": "Python 3"
    },
    "language_info": {
      "name": "python"
    }
  },
  "cells": [
    {
      "cell_type": "markdown",
      "metadata": {
        "id": "view-in-github",
        "colab_type": "text"
      },
      "source": [
        "<a href=\"https://colab.research.google.com/github/jgh0707/NLP_2023/blob/main/%EB%94%94%EC%A7%80%ED%84%B8%EC%9D%B8%EB%AC%B8%ED%95%99%20%EC%8B%A4%EC%8A%B573.ipynb\" target=\"_parent\"><img src=\"https://colab.research.google.com/assets/colab-badge.svg\" alt=\"Open In Colab\"/></a>"
      ]
    },
    {
      "cell_type": "markdown",
      "source": [
        "#디지털인문학 실습 과제73\n",
        "##23.12.05\n",
        "##복습"
      ],
      "metadata": {
        "id": "lTvAwtI8UeaA"
      }
    },
    {
      "cell_type": "code",
      "execution_count": 1,
      "metadata": {
        "colab": {
          "base_uri": "https://localhost:8080/"
        },
        "id": "b78qE7Y1Ubnh",
        "outputId": "70bdc959-65da-4371-b62e-9ba08e5ab356"
      },
      "outputs": [
        {
          "output_type": "stream",
          "name": "stdout",
          "text": [
            "Requirement already satisfied: nltk in /usr/local/lib/python3.10/dist-packages (3.8.1)\n",
            "Requirement already satisfied: click in /usr/local/lib/python3.10/dist-packages (from nltk) (8.1.7)\n",
            "Requirement already satisfied: joblib in /usr/local/lib/python3.10/dist-packages (from nltk) (1.3.2)\n",
            "Requirement already satisfied: regex>=2021.8.3 in /usr/local/lib/python3.10/dist-packages (from nltk) (2023.6.3)\n",
            "Requirement already satisfied: tqdm in /usr/local/lib/python3.10/dist-packages (from nltk) (4.66.1)\n"
          ]
        },
        {
          "output_type": "stream",
          "name": "stderr",
          "text": [
            "[nltk_data] Downloading package punkt to /root/nltk_data...\n",
            "[nltk_data]   Unzipping tokenizers/punkt.zip.\n"
          ]
        },
        {
          "output_type": "execute_result",
          "data": {
            "text/plain": [
              "True"
            ]
          },
          "metadata": {},
          "execution_count": 1
        }
      ],
      "source": [
        "!pip install nltk\n",
        "import nltk\n",
        "nltk.download('punkt')"
      ]
    },
    {
      "cell_type": "code",
      "source": [
        "message = \"I'm actively looking for Ph.D. students, \\\n",
        "and you are a Ph.D student. \\\n",
        "Visit IP 192.168.56.31 \\\n",
        "and send the results to my email account. \\\n",
        "It's python@gmail.com.\"\n",
        "\n",
        "from nltk.tokenize import sent_tokenize\n",
        "sentence = sent_tokenize(message)\n",
        "print('문장 토큰화: %s' %sentence)"
      ],
      "metadata": {
        "colab": {
          "base_uri": "https://localhost:8080/"
        },
        "id": "4AqlR8ZMUoeG",
        "outputId": "eac3c02d-511e-4982-cb73-ec9594cd02d1"
      },
      "execution_count": 2,
      "outputs": [
        {
          "output_type": "stream",
          "name": "stdout",
          "text": [
            "문장 토큰화: [\"I'm actively looking for Ph.D. students, and you are a Ph.D student.\", 'Visit IP 192.168.56.31 and send the results to my email account.', \"It's python@gmail.com.\"]\n"
          ]
        }
      ]
    },
    {
      "cell_type": "code",
      "source": [
        "text = 'Here’s to the crazy ones, the misfits, the rebels, the troublemakers, the round pegs in the square holes. \\\n",
        "The ones who see things differently — they’re not fond of rules. \\\n",
        "I wanted to pay with a twenty-dolloar bill; however, she couldn’t get cash. \\\n",
        "I like Brown’s East back pack,\\\n",
        "I’ve got a big trouble, but other people were having lots of fun. \\\n",
        "Anna likes Brown’s East back pack,\\\n",
        "but her brother doesn’t.'\n",
        "\n",
        "from nltk.tokenize import sent_tokenize\n",
        "sentence = sent_tokenize(text)\n",
        "print('문장 토큰화: %s' %sentence)"
      ],
      "metadata": {
        "colab": {
          "base_uri": "https://localhost:8080/"
        },
        "id": "2U-EgxQjUtQq",
        "outputId": "d3c8ab50-191c-48b6-9c6d-984cffc4d5e0"
      },
      "execution_count": 3,
      "outputs": [
        {
          "output_type": "stream",
          "name": "stdout",
          "text": [
            "문장 토큰화: ['Here’s to the crazy ones, the misfits, the rebels, the troublemakers, the round pegs in the square holes.', 'The ones who see things differently — they’re not fond of rules.', 'I wanted to pay with a twenty-dolloar bill; however, she couldn’t get cash.', 'I like Brown’s East back pack,I’ve got a big trouble, but other people were having lots of fun.', 'Anna likes Brown’s East back pack,but her brother doesn’t.']\n"
          ]
        }
      ]
    },
    {
      "cell_type": "code",
      "source": [
        "text = open('/content/sample_data/text_symbol_sample.txt', 'rt')"
      ],
      "metadata": {
        "id": "974-XuFWUu0i"
      },
      "execution_count": 4,
      "outputs": []
    },
    {
      "cell_type": "code",
      "source": [
        "temp = text.read()\n",
        "print(temp)"
      ],
      "metadata": {
        "colab": {
          "base_uri": "https://localhost:8080/"
        },
        "id": "wTC0Q5p7VCWx",
        "outputId": "d1c0d996-7c31-475a-bcb8-6e8dafb74deb"
      },
      "execution_count": 5,
      "outputs": [
        {
          "output_type": "stream",
          "name": "stdout",
          "text": [
            "Here’s to the crazy ones, the misfits, the rebels, the troublemakers, the round pegs in the square holes.\n",
            "The ones who see things differently — they’re not fond of rules. \n",
            "I wanted to pay with a twenti-dolloar bill; \n",
            "however, she couldn’t get cash. \n",
            "I’ve got a big trouble, but other people were having lots of fun. \n",
            "Anna likes Brown’s East back pack,\n",
            "but her brother doesn’t.\n"
          ]
        }
      ]
    },
    {
      "cell_type": "code",
      "source": [
        "obj = temp.replace('\\n', ' ')"
      ],
      "metadata": {
        "id": "rg8HmEA_VX41"
      },
      "execution_count": 7,
      "outputs": []
    },
    {
      "cell_type": "code",
      "source": [
        "print(obj)"
      ],
      "metadata": {
        "colab": {
          "base_uri": "https://localhost:8080/"
        },
        "id": "dh82vIDuVVxI",
        "outputId": "a6888068-1b4a-4a11-fc15-c1dfb94d9003"
      },
      "execution_count": 8,
      "outputs": [
        {
          "output_type": "stream",
          "name": "stdout",
          "text": [
            "Here’s to the crazy ones, the misfits, the rebels, the troublemakers, the round pegs in the square holes. The ones who see things differently — they’re not fond of rules.  I wanted to pay with a twenti-dolloar bill;  however, she couldn’t get cash.  I’ve got a big trouble, but other people were having lots of fun.  Anna likes Brown’s East back pack, but her brother doesn’t.\n"
          ]
        }
      ]
    },
    {
      "cell_type": "code",
      "source": [
        "obj.split()"
      ],
      "metadata": {
        "colab": {
          "base_uri": "https://localhost:8080/"
        },
        "id": "P3ZkVFTWVaDe",
        "outputId": "6a7fd6ff-27d4-4678-f996-74d217da4376"
      },
      "execution_count": 9,
      "outputs": [
        {
          "output_type": "execute_result",
          "data": {
            "text/plain": [
              "['Here’s',\n",
              " 'to',\n",
              " 'the',\n",
              " 'crazy',\n",
              " 'ones,',\n",
              " 'the',\n",
              " 'misfits,',\n",
              " 'the',\n",
              " 'rebels,',\n",
              " 'the',\n",
              " 'troublemakers,',\n",
              " 'the',\n",
              " 'round',\n",
              " 'pegs',\n",
              " 'in',\n",
              " 'the',\n",
              " 'square',\n",
              " 'holes.',\n",
              " 'The',\n",
              " 'ones',\n",
              " 'who',\n",
              " 'see',\n",
              " 'things',\n",
              " 'differently',\n",
              " '—',\n",
              " 'they’re',\n",
              " 'not',\n",
              " 'fond',\n",
              " 'of',\n",
              " 'rules.',\n",
              " 'I',\n",
              " 'wanted',\n",
              " 'to',\n",
              " 'pay',\n",
              " 'with',\n",
              " 'a',\n",
              " 'twenti-dolloar',\n",
              " 'bill;',\n",
              " 'however,',\n",
              " 'she',\n",
              " 'couldn’t',\n",
              " 'get',\n",
              " 'cash.',\n",
              " 'I’ve',\n",
              " 'got',\n",
              " 'a',\n",
              " 'big',\n",
              " 'trouble,',\n",
              " 'but',\n",
              " 'other',\n",
              " 'people',\n",
              " 'were',\n",
              " 'having',\n",
              " 'lots',\n",
              " 'of',\n",
              " 'fun.',\n",
              " 'Anna',\n",
              " 'likes',\n",
              " 'Brown’s',\n",
              " 'East',\n",
              " 'back',\n",
              " 'pack,',\n",
              " 'but',\n",
              " 'her',\n",
              " 'brother',\n",
              " 'doesn’t.']"
            ]
          },
          "metadata": {},
          "execution_count": 9
        }
      ]
    },
    {
      "cell_type": "code",
      "source": [
        "text = open ('/content/sample_data/text_symbol_sample.txt', 'rt')\n",
        "obj = text.read().replace('\\n', ' ')\n",
        "obj.split()"
      ],
      "metadata": {
        "colab": {
          "base_uri": "https://localhost:8080/"
        },
        "id": "Ku9wJrZzVcHA",
        "outputId": "3158dfba-53fd-46c7-b323-199633ac826d"
      },
      "execution_count": 10,
      "outputs": [
        {
          "output_type": "execute_result",
          "data": {
            "text/plain": [
              "['Here’s',\n",
              " 'to',\n",
              " 'the',\n",
              " 'crazy',\n",
              " 'ones,',\n",
              " 'the',\n",
              " 'misfits,',\n",
              " 'the',\n",
              " 'rebels,',\n",
              " 'the',\n",
              " 'troublemakers,',\n",
              " 'the',\n",
              " 'round',\n",
              " 'pegs',\n",
              " 'in',\n",
              " 'the',\n",
              " 'square',\n",
              " 'holes.',\n",
              " 'The',\n",
              " 'ones',\n",
              " 'who',\n",
              " 'see',\n",
              " 'things',\n",
              " 'differently',\n",
              " '—',\n",
              " 'they’re',\n",
              " 'not',\n",
              " 'fond',\n",
              " 'of',\n",
              " 'rules.',\n",
              " 'I',\n",
              " 'wanted',\n",
              " 'to',\n",
              " 'pay',\n",
              " 'with',\n",
              " 'a',\n",
              " 'twenti-dolloar',\n",
              " 'bill;',\n",
              " 'however,',\n",
              " 'she',\n",
              " 'couldn’t',\n",
              " 'get',\n",
              " 'cash.',\n",
              " 'I’ve',\n",
              " 'got',\n",
              " 'a',\n",
              " 'big',\n",
              " 'trouble,',\n",
              " 'but',\n",
              " 'other',\n",
              " 'people',\n",
              " 'were',\n",
              " 'having',\n",
              " 'lots',\n",
              " 'of',\n",
              " 'fun.',\n",
              " 'Anna',\n",
              " 'likes',\n",
              " 'Brown’s',\n",
              " 'East',\n",
              " 'back',\n",
              " 'pack,',\n",
              " 'but',\n",
              " 'her',\n",
              " 'brother',\n",
              " 'doesn’t.']"
            ]
          },
          "metadata": {},
          "execution_count": 10
        }
      ]
    },
    {
      "cell_type": "code",
      "source": [
        "from nltk.tokenize import word_tokenize\n",
        "import nltk\n",
        "nltk.download('punkt')\n",
        "\n",
        "print('Tokenizing Word and Punctuation:',word_tokenize(obj))"
      ],
      "metadata": {
        "colab": {
          "base_uri": "https://localhost:8080/"
        },
        "id": "3r84LMBGVfGl",
        "outputId": "c0ff8d10-a437-4c26-bd56-a91c3b9c0836"
      },
      "execution_count": 11,
      "outputs": [
        {
          "output_type": "stream",
          "name": "stdout",
          "text": [
            "Tokenizing Word and Punctuation: ['Here', '’', 's', 'to', 'the', 'crazy', 'ones', ',', 'the', 'misfits', ',', 'the', 'rebels', ',', 'the', 'troublemakers', ',', 'the', 'round', 'pegs', 'in', 'the', 'square', 'holes', '.', 'The', 'ones', 'who', 'see', 'things', 'differently', '—', 'they', '’', 're', 'not', 'fond', 'of', 'rules', '.', 'I', 'wanted', 'to', 'pay', 'with', 'a', 'twenti-dolloar', 'bill', ';', 'however', ',', 'she', 'couldn', '’', 't', 'get', 'cash', '.', 'I', '’', 've', 'got', 'a', 'big', 'trouble', ',', 'but', 'other', 'people', 'were', 'having', 'lots', 'of', 'fun', '.', 'Anna', 'likes', 'Brown', '’', 's', 'East', 'back', 'pack', ',', 'but', 'her', 'brother', 'doesn', '’', 't', '.']\n"
          ]
        },
        {
          "output_type": "stream",
          "name": "stderr",
          "text": [
            "[nltk_data] Downloading package punkt to /root/nltk_data...\n",
            "[nltk_data]   Package punkt is already up-to-date!\n"
          ]
        }
      ]
    },
    {
      "cell_type": "code",
      "source": [
        "from pprint import pprint\n",
        "from nltk.tokenize import word_tokenize\n",
        "import nltk\n",
        "nltk.download('punkt')\n",
        "result1 = word_tokenize(obj)\n",
        "\n",
        "print('Tokenizing Word and Punctuation: %s' %result1)"
      ],
      "metadata": {
        "colab": {
          "base_uri": "https://localhost:8080/"
        },
        "id": "MEk99eEVWgRD",
        "outputId": "0390a808-b513-4cb5-cff0-ef5d78721d57"
      },
      "execution_count": 12,
      "outputs": [
        {
          "output_type": "stream",
          "name": "stdout",
          "text": [
            "Tokenizing Word and Punctuation: ['Here', '’', 's', 'to', 'the', 'crazy', 'ones', ',', 'the', 'misfits', ',', 'the', 'rebels', ',', 'the', 'troublemakers', ',', 'the', 'round', 'pegs', 'in', 'the', 'square', 'holes', '.', 'The', 'ones', 'who', 'see', 'things', 'differently', '—', 'they', '’', 're', 'not', 'fond', 'of', 'rules', '.', 'I', 'wanted', 'to', 'pay', 'with', 'a', 'twenti-dolloar', 'bill', ';', 'however', ',', 'she', 'couldn', '’', 't', 'get', 'cash', '.', 'I', '’', 've', 'got', 'a', 'big', 'trouble', ',', 'but', 'other', 'people', 'were', 'having', 'lots', 'of', 'fun', '.', 'Anna', 'likes', 'Brown', '’', 's', 'East', 'back', 'pack', ',', 'but', 'her', 'brother', 'doesn', '’', 't', '.']\n"
          ]
        },
        {
          "output_type": "stream",
          "name": "stderr",
          "text": [
            "[nltk_data] Downloading package punkt to /root/nltk_data...\n",
            "[nltk_data]   Package punkt is already up-to-date!\n"
          ]
        }
      ]
    },
    {
      "cell_type": "code",
      "source": [
        "from nltk.tokenize import WordPunctTokenizer\n",
        "\n",
        "print('Tokenizing Words and Punctuations:', WordPunctTokenizer().tokenize(obj))"
      ],
      "metadata": {
        "colab": {
          "base_uri": "https://localhost:8080/"
        },
        "id": "D76ifIkfWiNm",
        "outputId": "95461d0a-216a-401a-c277-2250958460e1"
      },
      "execution_count": 13,
      "outputs": [
        {
          "output_type": "stream",
          "name": "stdout",
          "text": [
            "Tokenizing Words and Punctuations: ['Here', '’', 's', 'to', 'the', 'crazy', 'ones', ',', 'the', 'misfits', ',', 'the', 'rebels', ',', 'the', 'troublemakers', ',', 'the', 'round', 'pegs', 'in', 'the', 'square', 'holes', '.', 'The', 'ones', 'who', 'see', 'things', 'differently', '—', 'they', '’', 're', 'not', 'fond', 'of', 'rules', '.', 'I', 'wanted', 'to', 'pay', 'with', 'a', 'twenti', '-', 'dolloar', 'bill', ';', 'however', ',', 'she', 'couldn', '’', 't', 'get', 'cash', '.', 'I', '’', 've', 'got', 'a', 'big', 'trouble', ',', 'but', 'other', 'people', 'were', 'having', 'lots', 'of', 'fun', '.', 'Anna', 'likes', 'Brown', '’', 's', 'East', 'back', 'pack', ',', 'but', 'her', 'brother', 'doesn', '’', 't', '.']\n"
          ]
        }
      ]
    },
    {
      "cell_type": "code",
      "source": [
        "from nltk.tokenize import WordPunctTokenizer\n",
        "result2 = WordPunctTokenizer().tokenize(obj)\n",
        "\n",
        "print('Tokenizing Words and Punctuations: %s' %result2)"
      ],
      "metadata": {
        "colab": {
          "base_uri": "https://localhost:8080/"
        },
        "id": "IXDdkZUTWs8F",
        "outputId": "5458c037-3584-40e5-a7e6-caa33153e8b0"
      },
      "execution_count": 14,
      "outputs": [
        {
          "output_type": "stream",
          "name": "stdout",
          "text": [
            "Tokenizing Words and Punctuations: ['Here', '’', 's', 'to', 'the', 'crazy', 'ones', ',', 'the', 'misfits', ',', 'the', 'rebels', ',', 'the', 'troublemakers', ',', 'the', 'round', 'pegs', 'in', 'the', 'square', 'holes', '.', 'The', 'ones', 'who', 'see', 'things', 'differently', '—', 'they', '’', 're', 'not', 'fond', 'of', 'rules', '.', 'I', 'wanted', 'to', 'pay', 'with', 'a', 'twenti', '-', 'dolloar', 'bill', ';', 'however', ',', 'she', 'couldn', '’', 't', 'get', 'cash', '.', 'I', '’', 've', 'got', 'a', 'big', 'trouble', ',', 'but', 'other', 'people', 'were', 'having', 'lots', 'of', 'fun', '.', 'Anna', 'likes', 'Brown', '’', 's', 'East', 'back', 'pack', ',', 'but', 'her', 'brother', 'doesn', '’', 't', '.']\n"
          ]
        }
      ]
    },
    {
      "cell_type": "code",
      "source": [
        "from tensorflow.keras.preprocessing.text import text_to_word_sequence\n",
        "\n",
        "print('Tokenizing Words after Cleaning Punctuations:', text_to_word_sequence(obj))"
      ],
      "metadata": {
        "colab": {
          "base_uri": "https://localhost:8080/"
        },
        "id": "bDBNGRtLWufP",
        "outputId": "ae6a699e-e1a5-41ca-b562-307290ea5aba"
      },
      "execution_count": 15,
      "outputs": [
        {
          "output_type": "stream",
          "name": "stdout",
          "text": [
            "Tokenizing Words after Cleaning Punctuations: ['here’s', 'to', 'the', 'crazy', 'ones', 'the', 'misfits', 'the', 'rebels', 'the', 'troublemakers', 'the', 'round', 'pegs', 'in', 'the', 'square', 'holes', 'the', 'ones', 'who', 'see', 'things', 'differently', '—', 'they’re', 'not', 'fond', 'of', 'rules', 'i', 'wanted', 'to', 'pay', 'with', 'a', 'twenti', 'dolloar', 'bill', 'however', 'she', 'couldn’t', 'get', 'cash', 'i’ve', 'got', 'a', 'big', 'trouble', 'but', 'other', 'people', 'were', 'having', 'lots', 'of', 'fun', 'anna', 'likes', 'brown’s', 'east', 'back', 'pack', 'but', 'her', 'brother', 'doesn’t']\n"
          ]
        }
      ]
    },
    {
      "cell_type": "code",
      "source": [
        "from tensorflow.keras.preprocessing.text import text_to_word_sequence\n",
        "result3 = text_to_word_sequence(obj)\n",
        "\n",
        "print('Tokenizing Words after Cleaning Punctuations: %s' %result3)"
      ],
      "metadata": {
        "colab": {
          "base_uri": "https://localhost:8080/"
        },
        "id": "abgqf_coWwXl",
        "outputId": "815fba73-33b4-4b8a-89ad-8cdd8c58a07e"
      },
      "execution_count": 16,
      "outputs": [
        {
          "output_type": "stream",
          "name": "stdout",
          "text": [
            "Tokenizing Words after Cleaning Punctuations: ['here’s', 'to', 'the', 'crazy', 'ones', 'the', 'misfits', 'the', 'rebels', 'the', 'troublemakers', 'the', 'round', 'pegs', 'in', 'the', 'square', 'holes', 'the', 'ones', 'who', 'see', 'things', 'differently', '—', 'they’re', 'not', 'fond', 'of', 'rules', 'i', 'wanted', 'to', 'pay', 'with', 'a', 'twenti', 'dolloar', 'bill', 'however', 'she', 'couldn’t', 'get', 'cash', 'i’ve', 'got', 'a', 'big', 'trouble', 'but', 'other', 'people', 'were', 'having', 'lots', 'of', 'fun', 'anna', 'likes', 'brown’s', 'east', 'back', 'pack', 'but', 'her', 'brother', 'doesn’t']\n"
          ]
        }
      ]
    }
  ]
}