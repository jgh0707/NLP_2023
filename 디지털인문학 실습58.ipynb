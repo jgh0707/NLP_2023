{
  "nbformat": 4,
  "nbformat_minor": 0,
  "metadata": {
    "colab": {
      "provenance": [],
      "authorship_tag": "ABX9TyOz/AWb6bAp5K/9mVPFl8N7",
      "include_colab_link": true
    },
    "kernelspec": {
      "name": "python3",
      "display_name": "Python 3"
    },
    "language_info": {
      "name": "python"
    }
  },
  "cells": [
    {
      "cell_type": "markdown",
      "metadata": {
        "id": "view-in-github",
        "colab_type": "text"
      },
      "source": [
        "<a href=\"https://colab.research.google.com/github/jgh0707/NLP_2023/blob/main/%EB%94%94%EC%A7%80%ED%84%B8%EC%9D%B8%EB%AC%B8%ED%95%99%20%EC%8B%A4%EC%8A%B558.ipynb\" target=\"_parent\"><img src=\"https://colab.research.google.com/assets/colab-badge.svg\" alt=\"Open In Colab\"/></a>"
      ]
    },
    {
      "cell_type": "markdown",
      "source": [
        "#디지털인문학 실습 과제58\n",
        "##23.11.19\n",
        "##초보자를 위한 파이썬 200제"
      ],
      "metadata": {
        "id": "Ik6pNyizp4Xc"
      }
    },
    {
      "cell_type": "markdown",
      "source": [
        "###문자열에서 특정 문자/문자열이 있는지 확인하기(in)"
      ],
      "metadata": {
        "id": "YrtuHcbFp4Sq"
      }
    },
    {
      "cell_type": "code",
      "execution_count": 5,
      "metadata": {
        "colab": {
          "base_uri": "https://localhost:8080/"
        },
        "id": "jVV7OcTpp3AJ",
        "outputId": "ed394cfa-2563-4493-bbcd-814713625f31"
      },
      "outputs": [
        {
          "output_type": "stream",
          "name": "stdout",
          "text": [
            "임의의 문장을 입력하세요 :abdce\n",
            "당신이 입력한 문장에는 a가 있습니다.\n",
            "임의의 문장을 입력하세요 :it is water\n",
            "당신이 입력한 문장에는 is가 있습니다.\n"
          ]
        }
      ],
      "source": [
        "msg = input('임의의 문장을 입력하세요 :')\n",
        "if 'a' in msg:\n",
        "  print('당신이 입력한 문장에는 a가 있습니다.')\n",
        "else:\n",
        "  print('당신이 입력한 문장에는 a가 없습니다.')\n",
        "msg = input('임의의 문장을 입력하세요 :')\n",
        "if 'is' in msg:\n",
        "  print('당신이 입력한 문장에는 is가 있습니다.')\n",
        "else:\n",
        "  print('당신이 입력한 문장에는 is가 없습니다.')"
      ]
    },
    {
      "cell_type": "markdown",
      "source": [
        "### in\n",
        "- 특정 문자 혹은 문자열이 있는지 확인하기 위한 키워드\n",
        "- 예제에서는 input으로 문장을 입력받고 그 안에 알파벳 'a'와 문장 'is'가 있는지 확인하였다."
      ],
      "metadata": {
        "id": "MuX54A0Fqe3Z"
      }
    },
    {
      "cell_type": "markdown",
      "source": [
        "###문자열 길이 구하기 (len)"
      ],
      "metadata": {
        "id": "Gxb7mrEbrUOu"
      }
    },
    {
      "cell_type": "code",
      "source": [
        "msg = input('임의의 문장을 입력하세요 :')\n",
        "msglen = len(msg)\n",
        "print('당신이 입력한 문장의 길이는 <%d>입니다.' %msglen)"
      ],
      "metadata": {
        "colab": {
          "base_uri": "https://localhost:8080/"
        },
        "id": "Ev5jDbkIrXBH",
        "outputId": "9c35bfe9-7122-415b-ab6d-6ae22532ab7e"
      },
      "execution_count": 3,
      "outputs": [
        {
          "output_type": "stream",
          "name": "stdout",
          "text": [
            "임의의 문장을 입력하세요 :abcde\n",
            "당신이 입력한 문장의 길이는 <5>입니다.\n"
          ]
        }
      ]
    },
    {
      "cell_type": "markdown",
      "source": [
        "###len()\n",
        "- 문자열의 길이를 구하는 함수로 사용자가 입력한 문장의 길이를 파악할 수 있다."
      ],
      "metadata": {
        "id": "cVgalyp7rpZX"
      }
    }
  ]
}