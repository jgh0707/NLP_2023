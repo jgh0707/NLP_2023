{
  "nbformat": 4,
  "nbformat_minor": 0,
  "metadata": {
    "colab": {
      "provenance": [],
      "authorship_tag": "ABX9TyNQasdhhDA0J+yVnkhDJjXP",
      "include_colab_link": true
    },
    "kernelspec": {
      "name": "python3",
      "display_name": "Python 3"
    },
    "language_info": {
      "name": "python"
    }
  },
  "cells": [
    {
      "cell_type": "markdown",
      "metadata": {
        "id": "view-in-github",
        "colab_type": "text"
      },
      "source": [
        "<a href=\"https://colab.research.google.com/github/jgh0707/NLP_2023/blob/main/%EB%94%94%EC%A7%80%ED%84%B8%EC%9D%B8%EB%AC%B8%ED%95%99%20%EC%8B%A4%EC%8A%B527.ipynb\" target=\"_parent\"><img src=\"https://colab.research.google.com/assets/colab-badge.svg\" alt=\"Open In Colab\"/></a>"
      ]
    },
    {
      "cell_type": "markdown",
      "source": [
        "# **디지털인문학 실습 과제27**\n",
        "## 23.10.14\n",
        "\n",
        "## 초보자를 위한 파이썬 200제"
      ],
      "metadata": {
        "id": "JtIyAKI3toMI"
      }
    },
    {
      "cell_type": "markdown",
      "source": [
        "### 시퀸스 자료 연결 이해하기(+)\n"
      ],
      "metadata": {
        "id": "ROlEo2ECttzT"
      }
    },
    {
      "cell_type": "code",
      "execution_count": 2,
      "metadata": {
        "colab": {
          "base_uri": "https://localhost:8080/"
        },
        "id": "CuWaLrzjtnP7",
        "outputId": "0f19dac9-68e3-4b1d-dd38-7b00cc5362b0"
      },
      "outputs": [
        {
          "output_type": "stream",
          "name": "stdout",
          "text": [
            "i lovepyhton\n",
            "i loveyou\n",
            "[1, 2, 3, 4, 5, 6]\n"
          ]
        }
      ],
      "source": [
        "a = 'i love'; b = 'pyhton'; c = 'you'\n",
        "\n",
        "list1 = [1, 2, 3]; list2 = [4, 5, 6]\n",
        "print(a + b)\n",
        "print(a + c)\n",
        "print(list1 + list2)"
      ]
    },
    {
      "cell_type": "markdown",
      "source": [
        "- 동일한 2개의 시퀸스 자료는 +연산자로 연결이 가능하다\n",
        "- 즉, 문자열 + 문자열, 리스트 + 리스트, 튜플 + 튜플은 가능하나 리스트 + 문자열같이 동일하지 않은 시퀸스 자료는 연결할 수"
      ],
      "metadata": {
        "id": "X9jHirA4u_O5"
      }
    },
    {
      "cell_type": "markdown",
      "source": [
        "###시퀸스 자료 반복 이해하기(*)"
      ],
      "metadata": {
        "id": "FjA_OjV9vaDP"
      }
    },
    {
      "cell_type": "code",
      "source": [
        "d = '빅뱅'\n",
        "e = '뱅~'\n",
        "dispdata = d + '이 부르는 ' + e*3\n",
        "print(dispdata)"
      ],
      "metadata": {
        "colab": {
          "base_uri": "https://localhost:8080/"
        },
        "id": "2Jye9cRqvgug",
        "outputId": "557f29c8-9aef-426a-f97d-5c170436cce7"
      },
      "execution_count": 4,
      "outputs": [
        {
          "output_type": "stream",
          "name": "stdout",
          "text": [
            "빅뱅이 부르는 뱅~뱅~뱅~\n"
          ]
        }
      ]
    },
    {
      "cell_type": "markdown",
      "source": [
        " - 동일한 시퀸스 자료를 반복하기 위해서는 * 연산자가 필요하다\n",
        " - *연산자와 함께 숫자(n)을 넣으면 n번만큼 반복하는 연산자가 생긴다."
      ],
      "metadata": {
        "id": "PSIUd9VkwtG-"
      }
    },
    {
      "cell_type": "markdown",
      "source": [
        "## 시퀸스 자료 크기 이해하기(len)"
      ],
      "metadata": {
        "id": "9VtsUy-S0Ih7"
      }
    },
    {
      "cell_type": "code",
      "source": [
        "x = 'i love python'\n",
        "y = '나는 파이썬을 사랑합니다'\n",
        "list3 = ['a', 'b', 'c', x, y]\n",
        "print(len(x))\n",
        "print(len(y))\n",
        "print(len(list3))\n",
        "print(len(list3[3]))"
      ],
      "metadata": {
        "colab": {
          "base_uri": "https://localhost:8080/"
        },
        "id": "cK2rO13Q0K-o",
        "outputId": "b2842322-6a9a-4a4e-e08d-aac7f46cf5c4"
      },
      "execution_count": 6,
      "outputs": [
        {
          "output_type": "stream",
          "name": "stdout",
          "text": [
            "13\n",
            "13\n",
            "5\n",
            "13\n"
          ]
        }
      ]
    },
    {
      "cell_type": "markdown",
      "source": [
        " - 모든 시퀸스 자료는 고정된 길이, 혹은 크기를 가지고 있다.\n",
        " - 문자열은 문자의 개수, 리스트와 튜플은 객체의 개수로 구분되며 이것을 확인하기 위해서는 len을 사용해야 한다."
      ],
      "metadata": {
        "id": "25J6-oLt1rfV"
      }
    }
  ]
}