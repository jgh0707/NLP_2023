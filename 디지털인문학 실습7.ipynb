{
  "nbformat": 4,
  "nbformat_minor": 0,
  "metadata": {
    "colab": {
      "provenance": [],
      "include_colab_link": true
    },
    "kernelspec": {
      "name": "python3",
      "display_name": "Python 3"
    },
    "language_info": {
      "name": "python"
    }
  },
  "cells": [
    {
      "cell_type": "markdown",
      "metadata": {
        "id": "view-in-github",
        "colab_type": "text"
      },
      "source": [
        "<a href=\"https://colab.research.google.com/github/jgh0707/NLP_2023/blob/main/%EB%94%94%EC%A7%80%ED%84%B8%EC%9D%B8%EB%AC%B8%ED%95%99%20%EC%8B%A4%EC%8A%B57.ipynb\" target=\"_parent\"><img src=\"https://colab.research.google.com/assets/colab-badge.svg\" alt=\"Open In Colab\"/></a>"
      ]
    },
    {
      "cell_type": "markdown",
      "source": [
        "# **디지털인문학 실습 과제7**\n",
        "## 23.09.20\n",
        "\n",
        "- 복습"
      ],
      "metadata": {
        "id": "i6eQPSdLQtw-"
      }
    },
    {
      "cell_type": "markdown",
      "source": [
        "파이썬에 사용되는 다섯 가지 데이터타입\n",
        "\n",
        "    Nuber, String, List, Tuble, Dictionary\n",
        "\n",
        "Number- interger(정수), float(실수), complex(복소수)\n",
        "\n",
        "- interger 정수 : 140, 90, -61, 0, 31, 25, 1 etc.\n",
        "- float 실수 : 10.0, 90.0, -11.0, 0.0, 0.1 etc.\n",
        "- complex 복소수: 1 + 5j, 3 + 2i\n",
        "\n",
        "String\n",
        "\n",
        "- \"a\", \"b\", \"c\"\n",
        "- 'a', 'b', 'c'\n",
        "- \"32\", \"19.0\", \"2 + 5j\"\n",
        "- \"i love sam's python\"\n",
        "\n",
        "List\n",
        "\n",
        "- ['a', 'abc', '365', 'i love python']\n",
        "\n",
        "Tuple\n",
        "\n",
        "- ('a', 'bcd', '31', 'i love python')\n",
        "\n",
        "dictionary\n",
        "\n",
        "- {'a':'A', 'b':'B', 'c':'C'}\n",
        "- {'korea' : '한국', 'japan' : '일본', 'china' : '중국'}"
      ],
      "metadata": {
        "id": "kjYsSF2rRceS"
      }
    },
    {
      "cell_type": "markdown",
      "source": [
        "## **Nuber**"
      ],
      "metadata": {
        "id": "I7UInuoZWZAw"
      }
    },
    {
      "cell_type": "code",
      "source": [
        "x=2\n",
        "print(x)\n",
        "\n",
        "y=3\n",
        "print(y)\n",
        "\n",
        "print(x + y)"
      ],
      "metadata": {
        "id": "SDtAtZ9kRUfJ",
        "outputId": "31c380e7-d47d-40f1-b6e0-78324e7f8484",
        "colab": {
          "base_uri": "https://localhost:8080/"
        }
      },
      "execution_count": 3,
      "outputs": [
        {
          "output_type": "stream",
          "name": "stdout",
          "text": [
            "2\n",
            "3\n",
            "5\n"
          ]
        }
      ]
    },
    {
      "cell_type": "markdown",
      "source": [
        "## **String**"
      ],
      "metadata": {
        "id": "v4pOx9O1Wc65"
      }
    },
    {
      "cell_type": "code",
      "source": [
        "z = \"i love python\"\n",
        "print(z)"
      ],
      "metadata": {
        "id": "iFM-HXhwWgN8",
        "outputId": "4e5b2903-6613-41bb-a260-629d7ff56894",
        "colab": {
          "base_uri": "https://localhost:8080/"
        }
      },
      "execution_count": 4,
      "outputs": [
        {
          "output_type": "stream",
          "name": "stdout",
          "text": [
            "i love python\n"
          ]
        }
      ]
    },
    {
      "cell_type": "code",
      "source": [
        "a = 'lori'\n",
        "print(a)\n",
        "_b = 'sam'\n",
        "print(_b)\n",
        "a_b = 'ken'\n",
        "print(a_b)\n",
        "c_d = 'jen'\n",
        "print(c_d)\n",
        "\n",
        "a = 'emma'\n",
        "print(a)"
      ],
      "metadata": {
        "id": "DZQVoDv6Wut0",
        "outputId": "406ea725-d04e-4157-b1d1-cd9f4c49c488",
        "colab": {
          "base_uri": "https://localhost:8080/"
        }
      },
      "execution_count": 5,
      "outputs": [
        {
          "output_type": "stream",
          "name": "stdout",
          "text": [
            "lori\n",
            "sam\n",
            "ken\n",
            "jen\n",
            "emma\n"
          ]
        }
      ]
    },
