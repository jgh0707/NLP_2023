{
  "nbformat": 4,
  "nbformat_minor": 0,
  "metadata": {
    "colab": {
      "provenance": [],
      "include_colab_link": true
    },
    "kernelspec": {
      "name": "python3",
      "display_name": "Python 3"
    },
    "language_info": {
      "name": "python"
    }
  },
  "cells": [
    {
      "cell_type": "markdown",
      "metadata": {
        "id": "view-in-github",
        "colab_type": "text"
      },
      "source": [
        "<a href=\"https://colab.research.google.com/github/jgh0707/NLP_2023/blob/main/%EB%94%94%EC%A7%80%ED%84%B8%EC%9D%B8%EB%AC%B8%ED%95%99%20%EC%8B%A4%EC%8A%B57.ipynb\" target=\"_parent\"><img src=\"https://colab.research.google.com/assets/colab-badge.svg\" alt=\"Open In Colab\"/></a>"
      ]
    },
    {
      "cell_type": "markdown",
      "source": [
        "# **디지털인문학 실습 과제7**\n",
        "## 23.09.20\n",
        "\n",
        "- 복습"
      ],
      "metadata": {
        "id": "i6eQPSdLQtw-"
      }
    },
    {
      "cell_type": "markdown",
      "source": [
        "파이썬에 사용되는 다섯 가지 데이터타입\n",
        "\n",
        "    Nuber, String, List, Tuble, Dictionary\n",
        "\n",
        "Number- interger(정수), float(실수), complex(복소수)\n",
        "\n",
        "- interger 정수 : 140, 90, -61, 0, 31, 25, 1 etc.\n",
        "- float 실수 : 10.0, 90.0, -11.0, 0.0, 0.1 etc.\n",
        "- complex 복소수: 1 + 5j, 3 + 2i\n",
        "\n",
        "String\n",
        "\n",
        "- \"a\", \"b\", \"c\"\n",
        "- 'a', 'b', 'c'\n",
        "- \"32\", \"19.0\", \"2 + 5j\"\n",
        "- \"i love sam's python\"\n",
        "\n",
        "List\n",
        "\n",
        "- ['a', 'abc', '365', 'i love python']\n",
        "\n",
        "Tuple\n",
        "\n",
        "- ('a', 'bcd', '31', 'i love python')\n",
        "\n",
        "dictionary\n",
        "\n",
        "- {'a':'A', 'b':'B', 'c':'C'}\n",
        "- {'korea' : '한국', 'japan' : '일본', 'china' : '중국'}"
      ],
      "metadata": {
        "id": "kjYsSF2rRceS"
      }
    },
    {
      "cell_type": "code",
      "source": [
        "a=1\n",
        "print(a)\n",
        "\n",
        "b=2\n",
        "print(b)\n",
        "\n",
        "print(a + b)"
      ],
      "metadata": {
        "id": "SDtAtZ9kRUfJ"
      },
      "execution_count": null,
      "outputs": []
    }
  ]
}