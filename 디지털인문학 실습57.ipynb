{
  "nbformat": 4,
  "nbformat_minor": 0,
  "metadata": {
    "colab": {
      "provenance": [],
      "authorship_tag": "ABX9TyMP9yXXAAM1QOq9kLcDgpPY",
      "include_colab_link": true
    },
    "kernelspec": {
      "name": "python3",
      "display_name": "Python 3"
    },
    "language_info": {
      "name": "python"
    }
  },
  "cells": [
    {
      "cell_type": "markdown",
      "metadata": {
        "id": "view-in-github",
        "colab_type": "text"
      },
      "source": [
        "<a href=\"https://colab.research.google.com/github/jgh0707/NLP_2023/blob/main/%EB%94%94%EC%A7%80%ED%84%B8%EC%9D%B8%EB%AC%B8%ED%95%99%20%EC%8B%A4%EC%8A%B557.ipynb\" target=\"_parent\"><img src=\"https://colab.research.google.com/assets/colab-badge.svg\" alt=\"Open In Colab\"/></a>"
      ]
    },
    {
      "cell_type": "markdown",
      "source": [
        "#디지털인문학 실습 과제57\n",
        "##23.11.16\n",
        "##초보자를 위한 파이썬 200제"
      ],
      "metadata": {
        "id": "5DmN1uQkB4mg"
      }
    },
    {
      "cell_type": "markdown",
      "source": [
        "###문자열 거꾸로 만들기"
      ],
      "metadata": {
        "id": "nlDTfV6pB8fb"
      }
    },
    {
      "cell_type": "code",
      "execution_count": 1,
      "metadata": {
        "colab": {
          "base_uri": "https://localhost:8080/"
        },
        "id": "ckun7L0jBumc",
        "outputId": "edc379ca-a9fc-4fc5-a90f-047476137620"
      },
      "outputs": [
        {
          "output_type": "stream",
          "name": "stdout",
          "text": [
            "kjihgfedcba\n"
          ]
        }
      ],
      "source": [
        "txt = 'abcdefghijk'\n",
        "ret = txt[::-1]\n",
        "print(ret)"
      ]
    },
    {
      "cell_type": "markdown",
      "source": [
        "- 슬라이싱을 이용한 방법으로 방식은 [::-n]으로 활용한다.\n",
        "- 응용으로 거꾸로 된 순서로 홀수의 문자만 추출하고자 한다면 아래와 같으며\n",
        " - ret = txt[::-2]\n",
        "- 같은 방식으로 짝수의 문자만 추출하고자 한다면\n",
        " - ret = txt[-2::-2]의 식을 넣으면 된다"
      ],
      "metadata": {
        "id": "2iF4zXyxCGet"
      }
    },
    {
      "cell_type": "markdown",
      "source": [
        "###두 개의 문자열 합치기(+)"
      ],
      "metadata": {
        "id": "0keHKyuECqKK"
      }
    },
    {
      "cell_type": "code",
      "source": [
        "filename = input('저장할 파일이름을 입력하세요.')\n",
        "filename = filename + '.jpg'\n",
        "display_msg = '당신이 저장한 파일은 <' + filename + '>입니다.'\n",
        "print(display_msg)"
      ],
      "metadata": {
        "colab": {
          "base_uri": "https://localhost:8080/"
        },
        "id": "0duf6bKTCunh",
        "outputId": "da25890c-52ff-4c71-ff9a-c46a3a660442"
      },
      "execution_count": 2,
      "outputs": [
        {
          "output_type": "stream",
          "name": "stdout",
          "text": [
            "저장할 파일이름을 입력하세요.mypics\n",
            "당신이 저장한 파일은 <mypics.jpg>입니다.\n"
          ]
        }
      ]
    },
    {
      "cell_type": "markdown",
      "source": [
        "- 두 개의 문자열을 합치는 방식은 단순하게 문자열1 + 문자열2와 같은 방식을 이용하면 가능하다.\n",
        "- 이것을 응용하여 예제에서는 사용자가 파일 이름을 지정하고 프로그램에서 자동으로 확장자를 붙여주는 코드를 활용하였다."
      ],
      "metadata": {
        "id": "m7G74B1cDI3m"
      }
    },
    {
      "cell_type": "markdown",
      "source": [
        "###문자열을 반복해서 새로운 문자열로 만들기(*)"
      ],
      "metadata": {
        "id": "uzncxJZ0Dc7A"
      }
    },
    {
      "cell_type": "code",
      "source": [
        "msg1 = '여러분'\n",
        "msg2 = '파이팅!'\n",
        "display_msg = msg1 + ',' + msg2*3 + '~!'\n",
        "print(display_msg)"
      ],
      "metadata": {
        "colab": {
          "base_uri": "https://localhost:8080/"
        },
        "id": "i4T8L26pDgWb",
        "outputId": "1756f5dc-a472-40ab-ebde-06e5f3ae28f0"
      },
      "execution_count": 3,
      "outputs": [
        {
          "output_type": "stream",
          "name": "stdout",
          "text": [
            "여러분,파이팅!파이팅!파이팅!~!\n"
          ]
        }
      ]
    },
    {
      "cell_type": "markdown",
      "source": [
        "### 연산자 *\n",
        "- 반복하고자 하는 문자열 뒤에 연산자 *과 반복할 횟수를 합치면 지정한 횟수만큼 반복하는 문자열이 생긴다."
      ],
      "metadata": {
        "id": "zRXJANWQDvkg"
      }
    }
  ]
}