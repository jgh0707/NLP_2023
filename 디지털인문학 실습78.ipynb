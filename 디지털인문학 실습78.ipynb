{
  "nbformat": 4,
  "nbformat_minor": 0,
  "metadata": {
    "colab": {
      "provenance": [],
      "authorship_tag": "ABX9TyPmgXkDHA3+jT9rGxBx3gnZ",
      "include_colab_link": true
    },
    "kernelspec": {
      "name": "python3",
      "display_name": "Python 3"
    },
    "language_info": {
      "name": "python"
    }
  },
  "cells": [
    {
      "cell_type": "markdown",
      "metadata": {
        "id": "view-in-github",
        "colab_type": "text"
      },
      "source": [
        "<a href=\"https://colab.research.google.com/github/jgh0707/NLP_2023/blob/main/%EB%94%94%EC%A7%80%ED%84%B8%EC%9D%B8%EB%AC%B8%ED%95%99%20%EC%8B%A4%EC%8A%B578.ipynb\" target=\"_parent\"><img src=\"https://colab.research.google.com/assets/colab-badge.svg\" alt=\"Open In Colab\"/></a>"
      ]
    },
    {
      "cell_type": "markdown",
      "source": [
        "#디지털인문학 실습 과제78\n",
        "##23.12.10\n",
        "##초보자를 위한 파이썬 200제"
      ],
      "metadata": {
        "id": "rG0-zhPQxc-o"
      }
    },
    {
      "cell_type": "markdown",
      "source": [
        "###리스트의 특정 요소 제거하기(remove)"
      ],
      "metadata": {
        "id": "OyxMi9_ixlfr"
      }
    },
    {
      "cell_type": "code",
      "execution_count": 1,
      "metadata": {
        "colab": {
          "base_uri": "https://localhost:8080/"
        },
        "id": "z28iVgoxxa_P",
        "outputId": "0298dd4f-13c6-4d92-d992-34398ec856b4"
      },
      "outputs": [
        {
          "output_type": "stream",
          "name": "stdout",
          "text": [
            "['수성', '금성', '지구', '화성', '목성', '토성', '천왕성', '해왕성']\n"
          ]
        }
      ],
      "source": [
        "solarsys = ['태양', '수성', '금성', '지구', '화성', '목성', '토성', '천왕성', '해왕성']\n",
        "solarsys.remove('태양')\n",
        "print(solarsys)"
      ]
    },
    {
      "cell_type": "markdown",
      "source": [
        "###remove()\n",
        " - 특정 요소의 값을 알고 그 요소를 제거하고 싶을 때 사용하는 메소드"
      ],
      "metadata": {
        "id": "-LsQ4UOBx9xC"
      }
    },
    {
      "cell_type": "markdown",
      "source": [
        "###리스트에서 특정 구간에 있는 모든 요소 제거하기"
      ],
      "metadata": {
        "id": "M-b72n-CyE52"
      }
    },
    {
      "cell_type": "code",
      "source": [
        "solarsys = ['태양', '수성', '금성', '지구', '화성', '목성', '토성', '천왕성', '해왕성']\n",
        "del solarsys[1:3]\n",
        "print(solarsys)"
      ],
      "metadata": {
        "colab": {
          "base_uri": "https://localhost:8080/"
        },
        "id": "G35tMNrGyHqX",
        "outputId": "6caf85de-04ec-4cdd-ec3a-727acc85d2cd"
      },
      "execution_count": 2,
      "outputs": [
        {
          "output_type": "stream",
          "name": "stdout",
          "text": [
            "['태양', '지구', '화성', '목성', '토성', '천왕성', '해왕성']\n"
          ]
        }
      ]
    },
    {
      "cell_type": "markdown",
      "source": [
        "-특정 구간에 요소를 모두 지우기 위해서는 del과 슬라이싱을 활용하면 가능하다."
      ],
      "metadata": {
        "id": "fFfObABfyOTe"
      }
    }
  ]
}