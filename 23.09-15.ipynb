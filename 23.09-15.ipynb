{
  "nbformat": 4,
  "nbformat_minor": 0,
  "metadata": {
    "colab": {
      "provenance": [],
      "authorship_tag": "ABX9TyMrggHvxPaDvZtDdyFOVpDm",
      "include_colab_link": true
    },
    "kernelspec": {
      "name": "python3",
      "display_name": "Python 3"
    },
    "language_info": {
      "name": "python"
    }
  },
  "cells": [
    {
      "cell_type": "markdown",
      "metadata": {
        "id": "view-in-github",
        "colab_type": "text"
      },
      "source": [
        "<a href=\"https://colab.research.google.com/github/jgh0707/NLP_2023/blob/main/23.09-15.ipynb\" target=\"_parent\"><img src=\"https://colab.research.google.com/assets/colab-badge.svg\" alt=\"Open In Colab\"/></a>"
      ]
    },
    {
      "cell_type": "markdown",
      "source": [
        "# **디지털인문학 실습 과제2**\n",
        "## 23.09.15\n",
        "\n",
        "## 초보자를 위한 파이썬 200제"
      ],
      "metadata": {
        "id": "5ityRhrH8QuB"
      }
    },
    {
      "cell_type": "code",
      "source": [
        "a = 200\n",
        "msg = 'i love python'\n",
        "list_data = ['a', 'b', 'c']\n",
        "dict_data = {'a':97, 'b':98}\n",
        "print(a)\n",
        "print(list_data)\n",
        "print(list_data[0])\n",
        "print(dict_data)\n",
        "print(dict_data['b'])"
      ],
      "metadata": {
        "colab": {
          "base_uri": "https://localhost:8080/"
        },
        "id": "74onJ_R19dcY",
        "outputId": "469587f4-3387-415b-c858-59ebe361f2a1"
      },
      "execution_count": 21,
      "outputs": [
        {
          "output_type": "stream",
          "name": "stdout",
          "text": [
            "200\n",
            "['a', 'b', 'c']\n",
            "a\n",
            "{'a': 97, 'b': 98}\n",
            "98\n"
          ]
        }
      ]
    },
    {
      "cell_type": "code",
      "source": [
        "print('안녕하세요', end='')\n",
        "print(' 정근혁이라고 합니다.')"
      ],
      "metadata": {
        "colab": {
          "base_uri": "https://localhost:8080/"
        },
        "id": "kcu3ejZL-ndf",
        "outputId": "c983e53c-15ad-4e44-f60e-71cd4abd4d69"
      },
      "execution_count": 24,
      "outputs": [
        {
          "output_type": "stream",
          "name": "stdout",
          "text": [
            "안녕하세요 정근혁이라고 합니다.\n"
          ]
        }
      ]
    },
    {
      "cell_type": "code",
      "source": [
        "listdata = ['a', 'b', 'c']\n",
        "if 'a' in listdata:\n",
        "  print('a가 listdata에 있습니다')\n",
        "  print(listdata)\n",
        "else:\n",
        "  print('a가 listdata에 존재하지 않습니다.')\n",
        "if 'd' in listdata:\n",
        "  print('d가 listdata에 있습니다')\n",
        "  print(listdata)\n",
        "else:\n",
        "  print('d가 listdata에 존재하지 않습니다.')"
      ],
      "metadata": {
        "colab": {
          "base_uri": "https://localhost:8080/"
        },
        "id": "x65QlxGt-0J0",
        "outputId": "06cdef44-190b-45c4-bacb-5a7984f83e35"
      },
      "execution_count": 31,
      "outputs": [
        {
          "output_type": "stream",
          "name": "stdout",
          "text": [
            "a가 listdata에 있습니다\n",
            "['a', 'b', 'c']\n",
            "d가 listdata에 존재하지 않습니다.\n"
          ]
        }
      ]
    }
  ]
}