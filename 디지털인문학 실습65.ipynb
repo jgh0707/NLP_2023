{
  "nbformat": 4,
  "nbformat_minor": 0,
  "metadata": {
    "colab": {
      "provenance": [],
      "authorship_tag": "ABX9TyPwEs97o9MJSUVZ9LHRm0Bl",
      "include_colab_link": true
    },
    "kernelspec": {
      "name": "python3",
      "display_name": "Python 3"
    },
    "language_info": {
      "name": "python"
    }
  },
  "cells": [
    {
      "cell_type": "markdown",
      "metadata": {
        "id": "view-in-github",
        "colab_type": "text"
      },
      "source": [
        "<a href=\"https://colab.research.google.com/github/jgh0707/NLP_2023/blob/main/%EB%94%94%EC%A7%80%ED%84%B8%EC%9D%B8%EB%AC%B8%ED%95%99%20%EC%8B%A4%EC%8A%B565.ipynb\" target=\"_parent\"><img src=\"https://colab.research.google.com/assets/colab-badge.svg\" alt=\"Open In Colab\"/></a>"
      ]
    },
    {
      "cell_type": "markdown",
      "source": [
        "#디지털인문학 실습 과제65\n",
        "##23.11.27\n",
        "##초보자를 위한 파이썬 200제"
      ],
      "metadata": {
        "id": "XenRo_PR4D-Z"
      }
    },
    {
      "cell_type": "markdown",
      "source": [
        "###문자열에서 특정 문자(열)를 다른 문자(열)로 바꾸기(replace)"
      ],
      "metadata": {
        "id": "qPdIr85R42DA"
      }
    },
    {
      "cell_type": "code",
      "source": [
        "txt = 'my password is 1234'\n",
        "ret1 = txt.replace('1', '0')\n",
        "ret2 = txt.replace('i', 'python')\n",
        "print(ret1)\n",
        "print(ret2)\n",
        "\n",
        "txt = '매일 많은 일들이 일어납니다.'\n",
        "ret3 = txt.replace('매일', '항상')\n",
        "ret4 = ret3.replace('일', '사건')\n",
        "print(ret3)\n",
        "print(ret4)"
      ],
      "metadata": {
        "colab": {
          "base_uri": "https://localhost:8080/"
        },
        "id": "ZLhyMQ7D41vu",
        "outputId": "ea6f087a-45e7-40e0-af07-dde863441c12"
      },
      "execution_count": 3,
      "outputs": [
        {
          "output_type": "stream",
          "name": "stdout",
          "text": [
            "my password is 0234\n",
            "my password pythons 1234\n",
            "항상 많은 일들이 일어납니다.\n",
            "항상 많은 사건들이 사건어납니다.\n"
          ]
        }
      ]
    },
    {
      "cell_type": "markdown",
      "source": [
        "###replace()\n",
        "- 문자열에서 특정 문자나 문자열을 다른 문자나 문자열로 변경하는 메소드"
      ],
      "metadata": {
        "id": "cX18LMgz5YwC"
      }
    },
    {
      "cell_type": "markdown",
      "source": [
        "###문자열을 바이트 객체로 바꾸기(encode)"
      ],
      "metadata": {
        "id": "zmzuiIZG4KI6"
      }
    },
    {
      "cell_type": "code",
      "execution_count": 2,
      "metadata": {
        "colab": {
          "base_uri": "https://localhost:8080/"
        },
        "id": "qIZ0eGQs4B75",
        "outputId": "a3eba480-f434-40c3-c7fe-3499195e6163"
      },
      "outputs": [
        {
          "output_type": "stream",
          "name": "stdout",
          "text": [
            "I love python\n",
            "b'I love python'\n",
            "True\n",
            "False\n"
          ]
        }
      ],
      "source": [
        "u_txt = 'I love python'\n",
        "b_txt = u_txt.encode()\n",
        "print(u_txt)\n",
        "print(b_txt)\n",
        "\n",
        "ret1 = 'I' == u_txt[0]\n",
        "ret2 = 'I' == b_txt[0]\n",
        "print(ret1)\n",
        "print(ret2)"
      ]
    },
    {
      "cell_type": "markdown",
      "source": [
        "###encode()\n",
        "- 유니코드로 되더 있는 문자열을 인자로 지정된 인코딩 방식으로 인코딩해 바이트 객채로 변환하는 메소드"
      ],
      "metadata": {
        "id": "sJOenKPa4dcM"
      }
    }
  ]
}