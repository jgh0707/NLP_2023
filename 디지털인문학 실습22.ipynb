{
  "nbformat": 4,
  "nbformat_minor": 0,
  "metadata": {
    "colab": {
      "provenance": [],
      "authorship_tag": "ABX9TyNqZaLZNUJIPDfbiRPHhPTq",
      "include_colab_link": true
    },
    "kernelspec": {
      "name": "python3",
      "display_name": "Python 3"
    },
    "language_info": {
      "name": "python"
    }
  },
  "cells": [
    {
      "cell_type": "markdown",
      "metadata": {
        "id": "view-in-github",
        "colab_type": "text"
      },
      "source": [
        "<a href=\"https://colab.research.google.com/github/jgh0707/NLP_2023/blob/main/%EB%94%94%EC%A7%80%ED%84%B8%EC%9D%B8%EB%AC%B8%ED%95%99%20%EC%8B%A4%EC%8A%B522.ipynb\" target=\"_parent\"><img src=\"https://colab.research.google.com/assets/colab-badge.svg\" alt=\"Open In Colab\"/></a>"
      ]
    },
    {
      "cell_type": "markdown",
      "source": [
        "# **디지털인문학 실습 과제22**\n",
        "## 23.10.09\n",
        "\n",
        "## 초보자를 위한 파이썬 200제\n"
      ],
      "metadata": {
        "id": "13fHjUFP4zb_"
      }
    },
    {
      "cell_type": "markdown",
      "source": [
        "### 시퀸스 자료형 이해하기"
      ],
      "metadata": {
        "id": "d3I5jBkB41K5"
      }
    },
    {
      "cell_type": "code",
      "execution_count": 1,
      "metadata": {
        "id": "lXdmfAo24xcw"
      },
      "outputs": [],
      "source": [
        "strdata = 'abcde'\n",
        "listdata = [1, [2, 3], '안녕']\n",
        "tupledata = (100, 200, 300)\n",
        "#문자열, 리스트, 튜플은 모두 시퀸스 자료형이다."
      ]
    },
    {
      "cell_type": "markdown",
      "source": [
        "시퀸스 자료형은 어떤 객체가 순서를 가지고 나열되어 있는 것을 말한다.\n",
        "시퀸스 자료형에 대한 특성은 아래와 같다\n",
        "\n",
        "| 특성 | 설명 |\n",
        "|:--:|:--:|\n",
        "| 인덱싱 | 인덱스를 통해 해당 값 접근, 인덱스는 0부터 시작 |\n",
        "| 슬라이싱 | 특정 구간의 값을 취한다, 시작 인덱스와 끝 인덱스로 정의 |\n",
        "| 연결 | '+' 연산자를 통해 두 시퀸스를 연결해 새로운 시퀸스 생성 |\n",
        "| 반복 | '*' 연산자를 이용해 여러 번 반복하는 새로운 시퀸스 생성 |\n",
        "| 맴버체크 | 'in' 키워드를 사용해 특정 값이 시퀸스 자료에 있는지 확인 |\n",
        "| 크기정보 | len()을 이용해 시퀸스 크기를 확인, 문자열은 문자 개수/ 리스트와 튜플은 멤버 개수 |"
      ],
      "metadata": {
        "id": "2teloLk748HJ"
      }
    },
    {
      "cell_type": "markdown",
      "source": [
        "### 시퀸스 자료 인덱싱 이해하기"
      ],
      "metadata": {
        "id": "0b-JWVvj6U32"
      }
    },
    {
      "cell_type": "code",
      "source": [
        "a = 'time is money!!'\n",
        "b = [1, 2, [1, 2, 3]]\n",
        "print(a[5])\n",
        "print(a[-1])\n",
        "print(b[0])\n",
        "print(b[-1])\n",
        "print(b[2][-1])"
      ],
      "metadata": {
        "colab": {
          "base_uri": "https://localhost:8080/"
        },
        "id": "hQa_vksz6Wzy",
        "outputId": "38485666-7626-4cb2-cf3d-d9a08c4e0735"
      },
      "execution_count": 3,
      "outputs": [
        {
          "output_type": "stream",
          "name": "stdout",
          "text": [
            "i\n",
            "!\n",
            "1\n",
            "[1, 2, 3]\n",
            "3\n"
          ]
        }
      ]
    },
    {
      "cell_type": "markdown",
      "source": [
        "인덱싱은 시퀸스 자료형에서 인덱스를 통해 해당 값을 얻는 방법이다.\n",
        " - 'a'에 요소에서 인덱스를 표시하는 것은 다음과 같다.\n",
        "\n",
        "| strdata | t | i | m | e |   | i | s |   | m | o | n | e | y | ! | ! |\n",
        "|:---------|:--|:--|:--|:--|:--|:--|:--|:--|:--|:--|:--|:-|:-|:-:| :-: |\n",
        "| Forward Indexing | 0 | 1 | 2 | 3 | 4 | 5 | 6 | 7 | 8 | 9 | 10 | 11 | 12 |13 | 14 |\n",
        "| Backward Indexing| -15 | -14 | -13 | -12 | -11 | -10 | -9 | -8 | -7 | -6 | -5 | -4 | -3 | -2 | -1 |"
      ],
      "metadata": {
        "id": "7ivl2mk86yiU"
      }
    }
  ]
}