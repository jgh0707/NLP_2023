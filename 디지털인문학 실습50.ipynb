{
  "nbformat": 4,
  "nbformat_minor": 0,
  "metadata": {
    "colab": {
      "provenance": [],
      "authorship_tag": "ABX9TyPUgrTzcVmLa9f1JA1eomss",
      "include_colab_link": true
    },
    "kernelspec": {
      "name": "python3",
      "display_name": "Python 3"
    },
    "language_info": {
      "name": "python"
    }
  },
  "cells": [
    {
      "cell_type": "markdown",
      "metadata": {
        "id": "view-in-github",
        "colab_type": "text"
      },
      "source": [
        "<a href=\"https://colab.research.google.com/github/jgh0707/NLP_2023/blob/main/%EB%94%94%EC%A7%80%ED%84%B8%EC%9D%B8%EB%AC%B8%ED%95%99%20%EC%8B%A4%EC%8A%B550.ipynb\" target=\"_parent\"><img src=\"https://colab.research.google.com/assets/colab-badge.svg\" alt=\"Open In Colab\"/></a>"
      ]
    },
    {
      "cell_type": "markdown",
      "source": [
        "#디지털인문학 실습 과제48\n",
        "##23.11.05\n",
        "\n",
        "##초보자를 위한 파이썬 200제"
      ],
      "metadata": {
        "id": "hYYvYXCVTywT"
      }
    },
    {
      "cell_type": "markdown",
      "source": [
        "###나눗셈에서 나머지만 구하기(%)"
      ],
      "metadata": {
        "id": "skzm0W-xT8dS"
      }
    },
    {
      "cell_type": "code",
      "execution_count": 1,
      "metadata": {
        "colab": {
          "base_uri": "https://localhost:8080/"
        },
        "id": "yrfdM28JTwOD",
        "outputId": "c0d04719-2919-4d97-caa7-f8f2c62c19ab"
      },
      "outputs": [
        {
          "output_type": "stream",
          "name": "stdout",
          "text": [
            "<11113>를<23>로 나누면 <4>가 나머지로 남습니다.\n"
          ]
        }
      ],
      "source": [
        "a = 11113\n",
        "b = 23\n",
        "ret = a%b\n",
        "print('<%d>를<%d>로 나누면 <%d>가 나머지로 남습니다.' %(a, b, ret))"
      ]
    },
    {
      "cell_type": "markdown",
      "source": [
        "나누기 연산에서 나머지만 구하는 연산을 모듈로(modulo) 연산이라 하며 기호는 mod로 표시한다.\n"
      ],
      "metadata": {
        "id": "t--FLcQ6URck"
      }
    },
    {
      "cell_type": "markdown",
      "source": [
        "### 몫과 나머지 구하기(divmod)"
      ],
      "metadata": {
        "id": "8OiyB58QUdW8"
      }
    },
    {
      "cell_type": "code",
      "source": [
        "a = 11113\n",
        "b = 23\n",
        "ret1, ret2 = divmod(a, b)\n",
        "print('<%d/%d>는 몫이 <%d>, 나머지가 <%d>입니다.' %(a, b, ret1, ret2))"
      ],
      "metadata": {
        "colab": {
          "base_uri": "https://localhost:8080/"
        },
        "id": "9cjsipbQUjeP",
        "outputId": "ab717128-3e8a-4b69-b7d7-36af73286f54"
      },
      "execution_count": 2,
      "outputs": [
        {
          "output_type": "stream",
          "name": "stdout",
          "text": [
            "<11113/23>는 몫이 <483>, 나머지가 <4>입니다.\n"
          ]
        }
      ]
    },
    {
      "cell_type": "markdown",
      "source": [
        "###divmod\n",
        "- 두개의 정수를 인자로 받는다.\n",
        "- 첫 번째 인자를 두 번째 인자로 나눈 결과를 (몫과 나머지)와 같이 튜플로 리턴한다."
      ],
      "metadata": {
        "id": "51OxRw_5Uw8P"
      }
    }
  ]
}