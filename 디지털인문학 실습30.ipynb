{
  "nbformat": 4,
  "nbformat_minor": 0,
  "metadata": {
    "colab": {
      "provenance": [],
      "authorship_tag": "ABX9TyMU914H5QlS6bzORe1ONLTC",
      "include_colab_link": true
    },
    "kernelspec": {
      "name": "python3",
      "display_name": "Python 3"
    },
    "language_info": {
      "name": "python"
    }
  },
  "cells": [
    {
      "cell_type": "markdown",
      "metadata": {
        "id": "view-in-github",
        "colab_type": "text"
      },
      "source": [
        "<a href=\"https://colab.research.google.com/github/jgh0707/NLP_2023/blob/main/%EB%94%94%EC%A7%80%ED%84%B8%EC%9D%B8%EB%AC%B8%ED%95%99%20%EC%8B%A4%EC%8A%B530.ipynb\" target=\"_parent\"><img src=\"https://colab.research.google.com/assets/colab-badge.svg\" alt=\"Open In Colab\"/></a>"
      ]
    },
    {
      "cell_type": "markdown",
      "source": [
        "# **디지털인문학 실습 과제30**\n",
        "## 23.10.17\n",
        "\n",
        "## 초보자를 위한 파이썬 200제"
      ],
      "metadata": {
        "id": "nAtU5058_FKl"
      }
    },
    {
      "cell_type": "markdown",
      "source": [
        "###이스케이프 문자 이해하기"
      ],
      "metadata": {
        "id": "a6Qg2hR_ABZ-"
      }
    },
    {
      "cell_type": "code",
      "execution_count": 6,
      "metadata": {
        "colab": {
          "base_uri": "https://localhost:8080/"
        },
        "id": "NeXAivLz_D78",
        "outputId": "52199be1-bcd5-4345-fe82-8037850b4b89"
      },
      "outputs": [
        {
          "output_type": "stream",
          "name": "stdout",
          "text": [
            "나는 파이썬을 사랑합니다.\n",
            "파이썬은 자바보다 훨씬 쉽습니다.\n",
            "name : john smith\tsex : male\tage : 22\n",
            "이 문장은 화면폭에 비해 너무 길어 보기가 힘듭니다.그래서 \\enter키를 이용해 문장을 다음줄과 연속되도록 했습니다.\n",
            "작은따옴표(')와 큰 따옴표(\")는 문자열을 정의할 때 사용합니다\n"
          ]
        }
      ],
      "source": [
        "print('나는 파이썬을 사랑합니다.\\n파이썬은 자바보다 훨씬 쉽습니다.')\n",
        "print('name : john smith\\tsex : male\\tage : 22')\n",
        "print('이 문장은 화면폭에 비해 너무 길어 보기가 힘듭니다.\\\n",
        "그래서 \\\\enter키를 이용해 문장을 다음줄과 연속되도록 했습니다.')\n",
        "print('작은따옴표(\\')와 큰 따옴표(\")는 문자열을 정의할 때 사용합니다')"
      ]
    },
    {
      "cell_type": "markdown",
      "source": [
        "### 이스케이프 문자\n",
        "- 키보드로 입력하기 어려운 기호를 나타내기 위해 역슬래시'|'로 시작하는 문자\n",
        "\n",
        "| 이스케이프 문자 | 설명 |\n",
        "|:--:|:--:|\n",
        "| \\n | 줄 바꾸기 |\n",
        "| \\t | 탭 |\n",
        "| \\enter키 | 줄 계속(다음 줄도 계속되는 줄이라는 표시 |\n",
        "| \\ \\ | '|' 기호 자체 |\n",
        "| \\' 또는 \\\" | '기호 또는 \" 기호 자체 |"
      ],
      "metadata": {
        "id": "apGvWEop_IBf"
      }
    },
    {
      "cell_type": "markdown",
      "source": [
        "###리스트 이해하기([])"
      ],
      "metadata": {
        "id": "XIxdIiZyAxnz"
      }
    },
    {
      "cell_type": "code",
      "source": [
        "list1 = [1,2,3,4,5]\n",
        "list2 = ['a','b','c']\n",
        "list3 = [1,'a','abc',[1,2,3,4,5],['a','b','c']]\n",
        "list1[0] = 6\n",
        "print(list1)\n",
        "def myfunc():\n",
        "  print('안녕하세요')\n",
        "list4 = [1,2,myfunc]\n",
        "list4[2]()"
      ],
      "metadata": {
        "colab": {
          "base_uri": "https://localhost:8080/"
        },
        "id": "a_pXvBEJA0BR",
        "outputId": "a3fdf087-cfff-4666-e816-2257df3ff5a7"
      },
      "execution_count": 7,
      "outputs": [
        {
          "output_type": "stream",
          "name": "stdout",
          "text": [
            "[6, 2, 3, 4, 5]\n",
            "안녕하세요\n"
          ]
        }
      ]
    },
    {
      "cell_type": "markdown",
      "source": [
        "### 리스트\n",
        " - 가장 많이 활용되는 시퀸스 자료형 중 하나\n",
        " - []로 표시되며 콤마로 요소를 구분 및 순서를 나열\n",
        " - 숫자, 문자, 문자열, 리스트, 튜플, 사전 등에 임의의 객체로써 요소를 가짐"
      ],
      "metadata": {
        "id": "WJLtEhW3BVWj"
      }
    }
  ]
}