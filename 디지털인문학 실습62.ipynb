{
  "nbformat": 4,
  "nbformat_minor": 0,
  "metadata": {
    "colab": {
      "provenance": [],
      "authorship_tag": "ABX9TyNi9pgMQKRYwB/b1vOaN/Bg",
      "include_colab_link": true
    },
    "kernelspec": {
      "name": "python3",
      "display_name": "Python 3"
    },
    "language_info": {
      "name": "python"
    }
  },
  "cells": [
    {
      "cell_type": "markdown",
      "metadata": {
        "id": "view-in-github",
        "colab_type": "text"
      },
      "source": [
        "<a href=\"https://colab.research.google.com/github/jgh0707/NLP_2023/blob/main/%EB%94%94%EC%A7%80%ED%84%B8%EC%9D%B8%EB%AC%B8%ED%95%99%20%EC%8B%A4%EC%8A%B562.ipynb\" target=\"_parent\"><img src=\"https://colab.research.google.com/assets/colab-badge.svg\" alt=\"Open In Colab\"/></a>"
      ]
    },
    {
      "cell_type": "markdown",
      "source": [
        "#디지털인문학 실습 과제62\n",
        "##23.11.24\n",
        "##초보자를 위한 파이썬 200제"
      ],
      "metadata": {
        "id": "1ZgpSf8ir04L"
      }
    },
    {
      "cell_type": "markdown",
      "source": [
        "###문자열을 수치형 자료로 변환하기(int, float)"
      ],
      "metadata": {
        "id": "AvpYp17XsZHJ"
      }
    },
    {
      "cell_type": "code",
      "execution_count": 1,
      "metadata": {
        "colab": {
          "base_uri": "https://localhost:8080/"
        },
        "id": "ohR3RYV1r0NP",
        "outputId": "a80476a1-ae8a-4b28-d2f3-022477dd1052"
      },
      "outputs": [
        {
          "output_type": "stream",
          "name": "stdout",
          "text": [
            "숫자를 입력하세요: 50.5\n",
            "당신이 입력한 숫자는 실수<50.500000>입니다.\n"
          ]
        }
      ],
      "source": [
        "numstr = input('숫자를 입력하세요: ')\n",
        "try:\n",
        "  num = int(numstr)\n",
        "  print('당신이 입력한 숫자는 정수<%d>입니다.' %num)\n",
        "except:\n",
        "  try:\n",
        "    num = float(numstr)\n",
        "    print('당신이 입력한 숫자는 실수<%f>입니다.' %num)\n",
        "  except:\n",
        "    print('+++숫자를 입력하세요~ +++')"
      ]
    },
    {
      "cell_type": "markdown",
      "source": [
        "###int(), float()\n",
        "- 문자열로 된 숫자를 정수형 또는 실수형 자료로 변환할 수 있는 내장함수\n",
        "- 예제는 숫자를 입력받아 수치형 자료로 변환하는 코드"
      ],
      "metadata": {
        "id": "z-ZnSc5gtUBq"
      }
    },
    {
      "cell_type": "markdown",
      "source": [
        "###수치형 자료를 문자열로 변환하기(str)"
      ],
      "metadata": {
        "id": "9JazdICMtlo7"
      }
    },
    {
      "cell_type": "code",
      "source": [
        "num1 = 1234\n",
        "num2 = 3.14\n",
        "\n",
        "numstr1 = str(num1)\n",
        "numstr2 = str(num2)\n",
        "print('num1을 문자열로 변환한 값은 \"%s\"입니다.' %numstr1)\n",
        "print('num2을 문자열로 변환한 값은 \"%s\"입니다.' %numstr2)"
      ],
      "metadata": {
        "colab": {
          "base_uri": "https://localhost:8080/"
        },
        "id": "LTOimxxZtoZR",
        "outputId": "cdb5160a-33e9-4dde-9e2b-4614c650f622"
      },
      "execution_count": 2,
      "outputs": [
        {
          "output_type": "stream",
          "name": "stdout",
          "text": [
            "num1을 문자열로 변환한 값은 \"1234\"입니다.\n",
            "num2을 문자열로 변환한 값은 \"3.14\"입니다.\n"
          ]
        }
      ]
    },
    {
      "cell_type": "markdown",
      "source": [
        "###str()\n",
        "- 수치형 자료를 문자열로 변환\n",
        "- 예제는 정수형 자료와 실수형 자료를 문자열로 변환"
      ],
      "metadata": {
        "id": "_dR46jcmt_QQ"
      }
    }
  ]
}