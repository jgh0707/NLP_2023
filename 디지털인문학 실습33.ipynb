{
  "nbformat": 4,
  "nbformat_minor": 0,
  "metadata": {
    "colab": {
      "provenance": [],
      "authorship_tag": "ABX9TyNWdU+A5Fhc1QwHPS6oXIMP",
      "include_colab_link": true
    },
    "kernelspec": {
      "name": "python3",
      "display_name": "Python 3"
    },
    "language_info": {
      "name": "python"
    }
  },
  "cells": [
    {
      "cell_type": "markdown",
      "metadata": {
        "id": "view-in-github",
        "colab_type": "text"
      },
      "source": [
        "<a href=\"https://colab.research.google.com/github/jgh0707/NLP_2023/blob/main/%EB%94%94%EC%A7%80%ED%84%B8%EC%9D%B8%EB%AC%B8%ED%95%99%20%EC%8B%A4%EC%8A%B533.ipynb\" target=\"_parent\"><img src=\"https://colab.research.google.com/assets/colab-badge.svg\" alt=\"Open In Colab\"/></a>"
      ]
    },
    {
      "cell_type": "markdown",
      "source": [
        "# **디지털인문학 실습 과제33**\n",
        "## 23.10.20\n",
        "\n",
        "## 초보자를 위한 파이썬 200제"
      ],
      "metadata": {
        "id": "WmzYyvW-Ta_9"
      }
    },
    {
      "cell_type": "markdown",
      "source": [
        "###함수 인자 이해하기"
      ],
      "metadata": {
        "id": "y7_hWVuATcte"
      }
    },
    {
      "cell_type": "code",
      "execution_count": 1,
      "metadata": {
        "colab": {
          "base_uri": "https://localhost:8080/"
        },
        "id": "3YzKaNJQTakG",
        "outputId": "3f8430dc-7d18-499b-cbd6-f18ce957f1f7"
      },
      "outputs": [
        {
          "output_type": "stream",
          "name": "stdout",
          "text": [
            "베스트:파이썬\n",
            "1등:대한민국\n",
            "()\n",
            "(3, 5, 1, 5)\n",
            "{}\n",
            "{'depth': 50, 'color': 'blue'}\n"
          ]
        }
      ],
      "source": [
        "def add_txt(t1, t2='파이썬'):\n",
        "  print(t1 + ':' + t2)\n",
        "\n",
        "add_txt('베스트') # t1의 대입되는 인자이며 t2는 없으므로 그대로 파이썬 적용\n",
        "add_txt(t2 = '대한민국', t1 = '1등')\n",
        "\n",
        "def func1(*args): #인자의 개수가 불명확할 경우 가변 인자 사용(인자 이름 앞에 *)\n",
        "  print(args)\n",
        "\n",
        "def func2(width, height, **kwargs): # 키워드 인자의 필요가 불명확할 경우 **를 이용\n",
        " print(kwargs)\n",
        "\n",
        "func1()\n",
        "func1(3, 5, 1, 5)\n",
        "func2(10, 20)\n",
        "func2(10, 20, depth = 50, color = 'blue')"
      ]
    },
    {
      "cell_type": "markdown",
      "source": [
        "인자의 위치에 실제값을 대입하여 함수를 호출하게 되면, 순서에 대응되는 값을 코드에 대입하여 실행하게 된다\n",
        " - 함수 값을 전달하는 원리는 아래와 같다(아래 코드셀로 이용)\n",
        " - 이외에 함수 값을 전달하는 방법은 다음과 같다\n",
        "   - 기본 인자를 이용해 값을 전달하는 방법 : 기본 인자 이용\n",
        "   - 인자 이름을 이용해 값을 전달하는 방법 : 키워드 인자 이용\n",
        "   - 가변 인자 튜플을 이용해 값을 전달하는 방법 : 가변 인자 이용\n",
        "   - 미정 키워드 인자 사전을 이용해 값을 전달하는 방법 : 미정 키워드 인자 이용"
      ],
      "metadata": {
        "id": "NzMoLZiXVRXg"
      }
    },
    {
      "cell_type": "code",
      "source": [
        "#함수호출부분 answer = func(10, 20, 30):\n",
        "#                          ↙️  ↙️  ↙️\n",
        "# 함수선언부분   def func(p1, p2, p3):"
      ],
      "metadata": {
        "id": "a02tBwJ3W12k"
      },
      "execution_count": null,
      "outputs": []
    }
  ]
}