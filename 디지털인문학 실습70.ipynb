{
  "nbformat": 4,
  "nbformat_minor": 0,
  "metadata": {
    "colab": {
      "provenance": [],
      "authorship_tag": "ABX9TyNDPdCIGdS41mysIWdolqyX",
      "include_colab_link": true
    },
    "kernelspec": {
      "name": "python3",
      "display_name": "Python 3"
    },
    "language_info": {
      "name": "python"
    }
  },
  "cells": [
    {
      "cell_type": "markdown",
      "metadata": {
        "id": "view-in-github",
        "colab_type": "text"
      },
      "source": [
        "<a href=\"https://colab.research.google.com/github/jgh0707/NLP_2023/blob/main/%EB%94%94%EC%A7%80%ED%84%B8%EC%9D%B8%EB%AC%B8%ED%95%99%20%EC%8B%A4%EC%8A%B570.ipynb\" target=\"_parent\"><img src=\"https://colab.research.google.com/assets/colab-badge.svg\" alt=\"Open In Colab\"/></a>"
      ]
    },
    {
      "cell_type": "markdown",
      "source": [
        "#디지털인문학 실습 과제70\n",
        "##23.12.02\n",
        "##초보자를 위한 파이썬 200제"
      ],
      "metadata": {
        "id": "ZSxI62ToFGhj"
      }
    },
    {
      "cell_type": "markdown",
      "source": [
        "###리스트에서 특정 요소의 위치 구하기(index)"
      ],
      "metadata": {
        "id": "zI-1Y0fYFJyT"
      }
    },
    {
      "cell_type": "code",
      "execution_count": 2,
      "metadata": {
        "colab": {
          "base_uri": "https://localhost:8080/"
        },
        "id": "AjEzyoGwD2mf",
        "outputId": "a823cd64-ec98-476e-ff84-9af040eb5680"
      },
      "outputs": [
        {
          "output_type": "stream",
          "name": "stdout",
          "text": [
            "지구은(는) 태양계에서 3번째에 위치하고 있습니다.\n",
            "지구은(는) 태양계에서 9번째에 위치하고 있습니다.\n"
          ]
        }
      ],
      "source": [
        "solarsys = ['태양', '수성', '금성', '지구', '화성', '목성', '토성', '천왕성', '해왕성', '지구']\n",
        "planet = '지구'\n",
        "pos = solarsys.index(planet)\n",
        "print('%s은(는) 태양계에서 %d번째에 위치하고 있습니다.' %(planet, pos))\n",
        "pos = solarsys.index(planet, 5)\n",
        "print('%s은(는) 태양계에서 %d번째에 위치하고 있습니다.' %(planet, pos))"
      ]
    },
    {
      "cell_type": "markdown",
      "source": [
        "###index()\n",
        " - 리스트에서 요소의 값을 알고 있을 때 그 요소가 최초로 나타나는 위치의 인덱스를 리턴하는 메소드\n",
        " - 같은 요소는 위에서 말했듯이 최초로 나타나는 위치를 인덱스 하지만 인덱스의 두번째 인수에서 시작 위치를 결정하여 리턴하는 인덱스를 바꿀 수 있다."
      ],
      "metadata": {
        "id": "-xZ6sgKzF1lt"
      }
    },
    {
      "cell_type": "markdown",
      "source": [
        "###리스트에서 특정 위치의 요소를 변경하기"
      ],
      "metadata": {
        "id": "ZGFM3MAmGJ76"
      }
    },
    {
      "cell_type": "code",
      "source": [
        "solarsys = ['태양', '수성', '금성', '지구', '화성', '목성', '토성', '천왕성', '해왕성', '지구']\n",
        "planet = '화성'\n",
        "pos = solarsys.index(planet)\n",
        "solarsys[pos] = 'mars'\n",
        "print(solarsys)"
      ],
      "metadata": {
        "colab": {
          "base_uri": "https://localhost:8080/"
        },
        "id": "b951OKm5QUgv",
        "outputId": "d9824f7c-25c2-44d1-e5f2-9b49d0e1757e"
      },
      "execution_count": 3,
      "outputs": [
        {
          "output_type": "stream",
          "name": "stdout",
          "text": [
            "['태양', '수성', '금성', '지구', 'mars', '목성', '토성', '천왕성', '해왕성', '지구']\n"
          ]
        }
      ]
    },
    {
      "cell_type": "markdown",
      "source": [
        "- 특정 위치의 인덱스에 해당하는 요소를 index()를 통해 변경이 가능하다"
      ],
      "metadata": {
        "id": "wa51kELZQdfY"
      }
    }
  ]
}