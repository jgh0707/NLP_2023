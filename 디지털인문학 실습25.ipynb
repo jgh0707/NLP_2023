{
  "nbformat": 4,
  "nbformat_minor": 0,
  "metadata": {
    "colab": {
      "provenance": [],
      "authorship_tag": "ABX9TyOIy4KpT/+23usPrf5+Wx7k",
      "include_colab_link": true
    },
    "kernelspec": {
      "name": "python3",
      "display_name": "Python 3"
    },
    "language_info": {
      "name": "python"
    }
  },
  "cells": [
    {
      "cell_type": "markdown",
      "metadata": {
        "id": "view-in-github",
        "colab_type": "text"
      },
      "source": [
        "<a href=\"https://colab.research.google.com/github/jgh0707/NLP_2023/blob/main/%EB%94%94%EC%A7%80%ED%84%B8%EC%9D%B8%EB%AC%B8%ED%95%99%20%EC%8B%A4%EC%8A%B525.ipynb\" target=\"_parent\"><img src=\"https://colab.research.google.com/assets/colab-badge.svg\" alt=\"Open In Colab\"/></a>"
      ]
    },
    {
      "cell_type": "markdown",
      "source": [
        "# **디지털인문학 실습 과제25**\n",
        "## 23.10.12\n",
        "\n",
        "## 복습"
      ],
      "metadata": {
        "id": "WxffrpfsNJp_"
      }
    },
    {
      "cell_type": "markdown",
      "source": [
        "### while 구문"
      ],
      "metadata": {
        "id": "AWdXflR2NOCT"
      }
    },
    {
      "cell_type": "code",
      "execution_count": 2,
      "metadata": {
        "colab": {
          "base_uri": "https://localhost:8080/"
        },
        "id": "tU3Uai6WMFpf",
        "outputId": "f1781400-c135-4744-cd37-0d4ef73a1baf"
      },
      "outputs": [
        {
          "output_type": "stream",
          "name": "stdout",
          "text": [
            "1\n",
            "2\n",
            "3\n",
            "4\n",
            "5\n",
            "loop finished\n"
          ]
        }
      ],
      "source": [
        "counter = 1\n",
        "\n",
        "while counter <= 5:\n",
        "  print(counter)\n",
        "  counter += 1\n",
        "\n",
        "print(\"loop finished\")"
      ]
    },
    {
      "cell_type": "code",
      "source": [
        "x = 1\n",
        "total = 0\n",
        "\n",
        "while 1:\n",
        "  total = total + x\n",
        "\n",
        "  if total > 100000:\n",
        "    print(x)\n",
        "    print(total)\n",
        "    break"
      ],
      "metadata": {
        "colab": {
          "base_uri": "https://localhost:8080/"
        },
        "id": "US_huVWeNtpB",
        "outputId": "9869023b-c384-4919-fa67-24ad1b265c65"
      },
      "execution_count": 5,
      "outputs": [
        {
          "output_type": "stream",
          "name": "stdout",
          "text": [
            "1\n",
            "100001\n"
          ]
        }
      ]
    },
    {
      "cell_type": "markdown",
      "source": [
        "### 정규표현식"
      ],
      "metadata": {
        "id": "gx9gnj1kOqJC"
      }
    },
    {
      "cell_type": "markdown",
      "source": [
        "| 특수문자 | 의미 |\n",
        "|:--:|:--:|\n",
        "| . | 한 개의 임의의 문자(줄바꿈 문자인 \\n 제외)|\n",
        "| ? | 앞의 문자가 존재할 수도 있고, 존재하지 않을 수도 있음 (문자가 0개 또는 1개) |\n",
        "| * | 앞의 문자가 무한개로 존재할 수도 있고, 존재하지 않을 수도 있음 (문자가 0개 이상) |\n",
        "| + | 앞의 문자가 최소 한 개 이상 존재 (문자가 1개 이상) |\n",
        "| ^ | 뒤의 문자열로 문자열이 시작|\n",
        "| $ | 앞의 문자열로 문자열이 끝남|"
      ],
      "metadata": {
        "id": "FQLfbBC-QcQ0"
      }
    },
    {
      "cell_type": "code",
      "source": [
        "import re\n",
        "\n",
        "text = \"cat, hat, bat, sat, mat, combat, unbated\"\n",
        "p = r'.at'\n",
        "\n",
        "matches = re.findall(p, text)\n",
        "\n",
        "for i in matches:\n",
        "  print('match:', i)"
      ],
      "metadata": {
        "colab": {
          "base_uri": "https://localhost:8080/"
        },
        "id": "HYg98piiO3zT",
        "outputId": "28996956-66a8-4ce5-c3ba-bfbdbfc0d3a9"
      },
      "execution_count": 7,
      "outputs": [
        {
          "output_type": "stream",
          "name": "stdout",
          "text": [
            "match: cat\n",
            "match: hat\n",
            "match: bat\n",
            "match: sat\n",
            "match: mat\n",
            "match: bat\n",
            "match: bat\n"
          ]
        }
      ]
    },
    {
      "cell_type": "code",
      "source": [
        "import re\n",
        "\n",
        "t = \"color or colour?\"\n",
        "p = r'colou?r'\n",
        "\n",
        "m = re.findall(p, t)\n",
        "\n",
        "for i in m:\n",
        "  print(\"match:\", i)"
      ],
      "metadata": {
        "colab": {
          "base_uri": "https://localhost:8080/"
        },
        "id": "b8z5anM-SUvF",
        "outputId": "4c02b1a6-dcca-4800-ead4-770f654be34e"
      },
      "execution_count": 8,
      "outputs": [
        {
          "output_type": "stream",
          "name": "stdout",
          "text": [
            "match: color\n",
            "match: colour\n"
          ]
        }
      ]
    },
    {
      "cell_type": "code",
      "source": [
        "import re\n",
        "\n",
        "t = \"ab, ac, abc, abbc, aabbc, abbbbbbbbbbbbc\"\n",
        "p = r\"ab*c\"\n",
        "\n",
        "m = re.findall(p, t)\n",
        "\n",
        "for i in m:\n",
        "    print(\"Match:\", i)"
      ],
      "metadata": {
        "colab": {
          "base_uri": "https://localhost:8080/"
        },
        "id": "YNNGkGLoUgvS",
        "outputId": "077dedf4-b9dd-4d0d-a9a6-39cfae451ab5"
      },
      "execution_count": 9,
      "outputs": [
        {
          "output_type": "stream",
          "name": "stdout",
          "text": [
            "Match: ac\n",
            "Match: abc\n",
            "Match: abbc\n",
            "Match: abbc\n",
            "Match: abbbbbbbbbbbbc\n"
          ]
        }
      ]
    },
    {
      "cell_type": "code",
      "source": [
        "import re\n",
        "\n",
        "t = 'python is a popular programming language. python is versatile.'\n",
        "p= r'versatile.$'\n",
        "\n",
        "m = re.findall(p, t)\n",
        "for i in m:\n",
        "  print('match:', i)"
      ],
      "metadata": {
        "colab": {
          "base_uri": "https://localhost:8080/"
        },
        "id": "GjL2toxHUqpx",
        "outputId": "6fd352f7-db99-452d-9f42-d660927ede1d"
      },
      "execution_count": 11,
      "outputs": [
        {
          "output_type": "stream",
          "name": "stdout",
          "text": [
            "match: versatile.\n"
          ]
        }
      ]
    },
    {
      "cell_type": "code",
      "source": [
        "import re\n",
        "\n",
        "t = 'python is a popular programming language. python is versatile.'\n",
        "p = r'tile.$'\n",
        "\n",
        "m = re.findall(p, t)\n",
        "for i in m:\n",
        "  print('match:', i)"
      ],
      "metadata": {
        "colab": {
          "base_uri": "https://localhost:8080/"
        },
        "id": "sTr8zSWuUxd6",
        "outputId": "8acbf1f7-6e44-40d6-cadd-84fde84d3d39"
      },
      "execution_count": 12,
      "outputs": [
        {
          "output_type": "stream",
          "name": "stdout",
          "text": [
            "match: tile.\n"
          ]
        }
      ]
    }
  ]
}