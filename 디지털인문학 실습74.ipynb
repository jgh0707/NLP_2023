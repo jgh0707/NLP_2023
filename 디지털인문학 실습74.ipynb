{
  "nbformat": 4,
  "nbformat_minor": 0,
  "metadata": {
    "colab": {
      "provenance": [],
      "authorship_tag": "ABX9TyNPEuX1weLpQBscwCQPSuSU",
      "include_colab_link": true
    },
    "kernelspec": {
      "name": "python3",
      "display_name": "Python 3"
    },
    "language_info": {
      "name": "python"
    }
  },
  "cells": [
    {
      "cell_type": "markdown",
      "metadata": {
        "id": "view-in-github",
        "colab_type": "text"
      },
      "source": [
        "<a href=\"https://colab.research.google.com/github/jgh0707/NLP_2023/blob/main/%EB%94%94%EC%A7%80%ED%84%B8%EC%9D%B8%EB%AC%B8%ED%95%99%20%EC%8B%A4%EC%8A%B574.ipynb\" target=\"_parent\"><img src=\"https://colab.research.google.com/assets/colab-badge.svg\" alt=\"Open In Colab\"/></a>"
      ]
    },
    {
      "cell_type": "markdown",
      "source": [
        "#디지털인문학 실습 과제74\n",
        "##23.12.06\n",
        "##초보자를 위한 파이썬 200제"
      ],
      "metadata": {
        "id": "s4PPFO16Y-Fq"
      }
    },
    {
      "cell_type": "markdown",
      "source": [
        "###리스트 합치기(+)"
      ],
      "metadata": {
        "id": "BA8zKX33ZKLy"
      }
    },
    {
      "cell_type": "code",
      "source": [
        "listdata1 = ['a', 'b', 'c', 'd', 'e']\n",
        "listdata2 = ['f', 'g', 'h', 'i', 'j']\n",
        "listdata3 = listdata1 + listdata2\n",
        "listdata4 = listdata2 + listdata1\n",
        "print(listdata3)\n",
        "print(listdata4)"
      ],
      "metadata": {
        "colab": {
          "base_uri": "https://localhost:8080/"
        },
        "id": "ObtSyRusY96c",
        "outputId": "252c6286-f086-4c5c-dd30-1c58efc7c19a"
      },
      "execution_count": 1,
      "outputs": [
        {
          "output_type": "stream",
          "name": "stdout",
          "text": [
            "['a', 'b', 'c', 'd', 'e', 'f', 'g', 'h', 'i', 'j']\n",
            "['f', 'g', 'h', 'i', 'j', 'a', 'b', 'c', 'd', 'e']\n"
          ]
        }
      ]
    },
    {
      "cell_type": "markdown",
      "source": [
        "### +연산자\n",
        " - 두 개의 리스트를 연결해 새로운 리스트를 만드는 방법으로 순서에 따라 리스트가 달라진다."
      ],
      "metadata": {
        "id": "LprE7lrsZanK"
      }
    },
    {
      "cell_type": "markdown",
      "source": [
        "###리스트 합치기(*)"
      ],
      "metadata": {
        "id": "k7J-i-ThZlHM"
      }
    },
    {
      "cell_type": "code",
      "execution_count": 2,
      "metadata": {
        "colab": {
          "base_uri": "https://localhost:8080/"
        },
        "id": "kKOjm02pY0JW",
        "outputId": "596308ef-b95f-41b2-8170-e9e1af1b7a30"
      },
      "outputs": [
        {
          "output_type": "stream",
          "name": "stdout",
          "text": [
            "[0, 1, 2, 0, 1, 2, 0, 1, 2]\n"
          ]
        }
      ],
      "source": [
        "listdata = list(range(3))\n",
        "ret = listdata*3\n",
        "print(ret)"
      ]
    },
    {
      "cell_type": "markdown",
      "source": [
        "### *n\n",
        "- 리스트를 n번 반복하여 새로운 리스트를 만든다."
      ],
      "metadata": {
        "id": "K6CU2cnLZteT"
      }
    },
    {
      "cell_type": "markdown",
      "source": [
        "###리스트에 요소 추가하기(append)"
      ],
      "metadata": {
        "id": "9zJKLC7pZ33J"
      }
    },
    {
      "cell_type": "code",
      "source": [
        "listdata = []\n",
        "for i in range(3):\n",
        "  txt = input('리스트에 추가할 값을 입력하세요[%d/3]: ' %(i + 1))\n",
        "  listdata.append(txt)\n",
        "  print(listdata)"
      ],
      "metadata": {
        "colab": {
          "base_uri": "https://localhost:8080/"
        },
        "id": "mPQ2rkQXZ8DV",
        "outputId": "0a47d025-161c-49e7-d4e6-03178a95d847"
      },
      "execution_count": 3,
      "outputs": [
        {
          "output_type": "stream",
          "name": "stdout",
          "text": [
            "리스트에 추가할 값을 입력하세요[1/3]: 123\n",
            "['123']\n",
            "리스트에 추가할 값을 입력하세요[2/3]: 456\n",
            "['123', '456']\n",
            "리스트에 추가할 값을 입력하세요[3/3]: 789\n",
            "['123', '456', '789']\n"
          ]
        }
      ]
    },
    {
      "cell_type": "markdown",
      "source": [
        "###append()\n",
        " - 인자로 입력된 값을 리스트의 맨 마지막 요소로 추가한다."
      ],
      "metadata": {
        "id": "O1boAvjyaNTd"
      }
    }
  ]
}