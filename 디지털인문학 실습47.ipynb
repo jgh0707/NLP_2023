{
  "nbformat": 4,
  "nbformat_minor": 0,
  "metadata": {
    "colab": {
      "provenance": [],
      "authorship_tag": "ABX9TyPt/Mf0vG8hSSKwzb7xA7Uz",
      "include_colab_link": true
    },
    "kernelspec": {
      "name": "python3",
      "display_name": "Python 3"
    },
    "language_info": {
      "name": "python"
    }
  },
  "cells": [
    {
      "cell_type": "markdown",
      "metadata": {
        "id": "view-in-github",
        "colab_type": "text"
      },
      "source": [
        "<a href=\"https://colab.research.google.com/github/jgh0707/NLP_2023/blob/main/%EB%94%94%EC%A7%80%ED%84%B8%EC%9D%B8%EB%AC%B8%ED%95%99%20%EC%8B%A4%EC%8A%B547.ipynb\" target=\"_parent\"><img src=\"https://colab.research.google.com/assets/colab-badge.svg\" alt=\"Open In Colab\"/></a>"
      ]
    },
    {
      "cell_type": "markdown",
      "source": [
        "#디지털인문학 실습 과제47\n",
        "##23.11.04\n",
        "\n",
        "###초보자를 위한 파이썬 200제"
      ],
      "metadata": {
        "id": "uhDF7NihuOh7"
      }
    },
    {
      "cell_type": "markdown",
      "source": [
        "###예외처리 이해하기 4(try~ except Exception as e)"
      ],
      "metadata": {
        "id": "JCtoSLacuePA"
      }
    },
    {
      "cell_type": "code",
      "execution_count": 2,
      "metadata": {
        "colab": {
          "base_uri": "https://localhost:8080/"
        },
        "id": "_d1i5ptIuNG1",
        "outputId": "fbdc9ca4-bbf7-4b8e-ee6e-992a1211a4de"
      },
      "outputs": [
        {
          "output_type": "stream",
          "name": "stdout",
          "text": [
            "name 'papram' is not defined\n"
          ]
        }
      ],
      "source": [
        "try:\n",
        "  print(papram)\n",
        "except Exception as e:\n",
        "#Exception에서 앞 E는 무조건 대문자로만!\n",
        "  print(e)"
      ]
    },
    {
      "cell_type": "markdown",
      "source": [
        "- 코드에서 예외가 발생하면 이에 대한 자세한 내용의 파악이 중요하다.\n",
        "- 이때 사용하는 것이 \"except Exception as e\"라는 객체로 e를 통하여 예외의 이름을 접근할 수 있도록 한다."
      ],
      "metadata": {
        "id": "9T5j8J4yu-c3"
      }
    },
    {
      "cell_type": "markdown",
      "source": [
        "###예외처리 이해하기 5(try~ except 특정예외)"
      ],
      "metadata": {
        "id": "mv2_KKkgwM-c"
      }
    },
    {
      "cell_type": "code",
      "source": [
        "import time\n",
        "count = 1\n",
        "try:\n",
        "  while True:\n",
        "    print(count)\n",
        "    count += 1\n",
        "    time.sleep(0.5)\n",
        "except KeyboradInterrupt:\n",
        "#ctrl + c키를 누르면 오류 발생으로 중단되어야 하지만 시행이 안됨\n",
        "  print('사용자에 의해 프로그램이 중단되었습니다.')"
      ],
      "metadata": {
        "colab": {
          "base_uri": "https://localhost:8080/",
          "height": 491
        },
        "id": "CCtqp9D9wpKb",
        "outputId": "fbe79137-6b12-464b-dcd7-450d0f7df0b4"
      },
      "execution_count": 8,
      "outputs": [
        {
          "output_type": "stream",
          "name": "stdout",
          "text": [
            "1\n",
            "2\n",
            "3\n",
            "4\n"
          ]
        },
        {
          "output_type": "error",
          "ename": "NameError",
          "evalue": "ignored",
          "traceback": [
            "\u001b[0;31m---------------------------------------------------------------------------\u001b[0m",
            "\u001b[0;31mKeyboardInterrupt\u001b[0m                         Traceback (most recent call last)",
            "\u001b[0;32m<ipython-input-8-60431ce4c110>\u001b[0m in \u001b[0;36m<cell line: 3>\u001b[0;34m()\u001b[0m\n\u001b[1;32m      6\u001b[0m     \u001b[0mcount\u001b[0m \u001b[0;34m+=\u001b[0m \u001b[0;36m1\u001b[0m\u001b[0;34m\u001b[0m\u001b[0;34m\u001b[0m\u001b[0m\n\u001b[0;32m----> 7\u001b[0;31m     \u001b[0mtime\u001b[0m\u001b[0;34m.\u001b[0m\u001b[0msleep\u001b[0m\u001b[0;34m(\u001b[0m\u001b[0;36m0.5\u001b[0m\u001b[0;34m)\u001b[0m\u001b[0;34m\u001b[0m\u001b[0;34m\u001b[0m\u001b[0m\n\u001b[0m\u001b[1;32m      8\u001b[0m \u001b[0;32mexcept\u001b[0m \u001b[0mKeyboradInterrupt\u001b[0m\u001b[0;34m:\u001b[0m\u001b[0;34m\u001b[0m\u001b[0;34m\u001b[0m\u001b[0m\n",
            "\u001b[0;31mKeyboardInterrupt\u001b[0m: ",
            "\nDuring handling of the above exception, another exception occurred:\n",
            "\u001b[0;31mNameError\u001b[0m                                 Traceback (most recent call last)",
            "\u001b[0;32m<ipython-input-8-60431ce4c110>\u001b[0m in \u001b[0;36m<cell line: 3>\u001b[0;34m()\u001b[0m\n\u001b[1;32m      6\u001b[0m     \u001b[0mcount\u001b[0m \u001b[0;34m+=\u001b[0m \u001b[0;36m1\u001b[0m\u001b[0;34m\u001b[0m\u001b[0;34m\u001b[0m\u001b[0m\n\u001b[1;32m      7\u001b[0m     \u001b[0mtime\u001b[0m\u001b[0;34m.\u001b[0m\u001b[0msleep\u001b[0m\u001b[0;34m(\u001b[0m\u001b[0;36m0.5\u001b[0m\u001b[0;34m)\u001b[0m\u001b[0;34m\u001b[0m\u001b[0;34m\u001b[0m\u001b[0m\n\u001b[0;32m----> 8\u001b[0;31m \u001b[0;32mexcept\u001b[0m \u001b[0mKeyboradInterrupt\u001b[0m\u001b[0;34m:\u001b[0m\u001b[0;34m\u001b[0m\u001b[0;34m\u001b[0m\u001b[0m\n\u001b[0m\u001b[1;32m      9\u001b[0m \u001b[0;31m#ctrl + c키를 누르면 오류 발생으로 중단되어야 하지만 시행이 안됨\u001b[0m\u001b[0;34m\u001b[0m\u001b[0;34m\u001b[0m\u001b[0m\n\u001b[1;32m     10\u001b[0m   \u001b[0mprint\u001b[0m\u001b[0;34m(\u001b[0m\u001b[0;34m'사용자에 의해 프로그램이 중단되었습니다.'\u001b[0m\u001b[0;34m)\u001b[0m\u001b[0;34m\u001b[0m\u001b[0;34m\u001b[0m\u001b[0m\n",
            "\u001b[0;31mNameError\u001b[0m: name 'KeyboradInterrupt' is not defined"
          ]
        }
      ]
    },
    {
      "cell_type": "markdown",
      "source": [
        "- 특정 예외 상황을 명시하면 except로 처리가 가능하다.\n",
        "- 위에 나와있는 KeyboradInterrupt는 코드 셀에서 설명하는 것과 동일하게 ctrl키와 c키를 같이 누르면 예외가 발생하여 멈춘다.\n",
        " - 단지 colab이라 실행이 안되는지, 셀 자체에 오류가 있는지는 확인이 필요하다."
      ],
      "metadata": {
        "id": "4x9Vo5h7zLGX"
      }
    }
  ]
}