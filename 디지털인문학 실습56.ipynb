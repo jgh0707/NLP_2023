{
  "nbformat": 4,
  "nbformat_minor": 0,
  "metadata": {
    "colab": {
      "provenance": [],
      "authorship_tag": "ABX9TyNpQTX6lapvi2rXfbjHcwLB",
      "include_colab_link": true
    },
    "kernelspec": {
      "name": "python3",
      "display_name": "Python 3"
    },
    "language_info": {
      "name": "python"
    }
  },
  "cells": [
    {
      "cell_type": "markdown",
      "metadata": {
        "id": "view-in-github",
        "colab_type": "text"
      },
      "source": [
        "<a href=\"https://colab.research.google.com/github/jgh0707/NLP_2023/blob/main/%EB%94%94%EC%A7%80%ED%84%B8%EC%9D%B8%EB%AC%B8%ED%95%99%20%EC%8B%A4%EC%8A%B556.ipynb\" target=\"_parent\"><img src=\"https://colab.research.google.com/assets/colab-badge.svg\" alt=\"Open In Colab\"/></a>"
      ]
    },
    {
      "cell_type": "markdown",
      "source": [
        "#디지털인문학 실습 과제56\n",
        "##23.11.15\n",
        "##초보자를 위한 파이썬 200제"
      ],
      "metadata": {
        "id": "ODaMVMmoY8XP"
      }
    },
    {
      "cell_type": "markdown",
      "source": [
        "###문자열에서 특정 위치의 문자 얻기"
      ],
      "metadata": {
        "id": "0yK431IsY9xm"
      }
    },
    {
      "cell_type": "code",
      "execution_count": 2,
      "metadata": {
        "colab": {
          "base_uri": "https://localhost:8080/"
        },
        "id": "0EzojDAHY7Fz",
        "outputId": "e02ffb83-6de2-488f-e6a8-d08556ebdad4"
      },
      "outputs": [
        {
          "output_type": "stream",
          "name": "stdout",
          "text": [
            "e\n",
            "라\n"
          ]
        }
      ],
      "source": [
        "txt1 = 'A tale that was not right'\n",
        "txt2 = '이 또한 지나가리라.'\n",
        "print(txt1[5])\n",
        "print(txt2[-2])"
      ]
    },
    {
      "cell_type": "markdown",
      "source": [
        "### 인덱싱\n",
        "- 문자열에서 특정 위치의 문자를 얻는 방법\n",
        "- 인덱스에서 첫번째 단어는 0부터 시작되며 음수로도 가능하고 이 경우에는 맨 뒤에서부터 시작되어 앞 글자로 올 수록 숫자가 낮아진다."
      ],
      "metadata": {
        "id": "DxwU722BZMCH"
      }
    },
    {
      "cell_type": "markdown",
      "source": [
        "###문자열에서 지정한 구간의 문자열 얻기"
      ],
      "metadata": {
        "id": "z3BUY0z_Zm9u"
      }
    },
    {
      "cell_type": "code",
      "source": [
        "txt1 = 'A tale that was not right'\n",
        "txt2 = '이 또한 지나가리라.'\n",
        "print(txt1[3:7])\n",
        "print(txt1[:6])\n",
        "print(txt2[-4:])"
      ],
      "metadata": {
        "colab": {
          "base_uri": "https://localhost:8080/"
        },
        "id": "5cHUiP2aZqRq",
        "outputId": "46795b8b-600b-479e-f897-8b0bf96a74b9"
      },
      "execution_count": 4,
      "outputs": [
        {
          "output_type": "stream",
          "name": "stdout",
          "text": [
            "ale \n",
            "A tale\n",
            "가리라.\n"
          ]
        }
      ]
    },
    {
      "cell_type": "markdown",
      "source": [
        "###슬라이싱(:)\n",
        "- 특정 구간에 있는 문자열을 얻는 방법\n",
        "- 숫자 사이에 넣을 경우 그 숫자에 해당하는 문자열을 출력, 숫자 앞에 있다면 맨 처음부터 해당 숫자까지, 숫자 뒤에 있으면 반대로 맨 뒤에서 해당 숫자까지 출력한다."
      ],
      "metadata": {
        "id": "zLETQKtVZx_P"
      }
    }
  ]
}