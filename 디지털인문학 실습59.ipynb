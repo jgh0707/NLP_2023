{
  "nbformat": 4,
  "nbformat_minor": 0,
  "metadata": {
    "colab": {
      "provenance": [],
      "authorship_tag": "ABX9TyM3uR8sQXP7+U55gCYr3CQc",
      "include_colab_link": true
    },
    "kernelspec": {
      "name": "python3",
      "display_name": "Python 3"
    },
    "language_info": {
      "name": "python"
    }
  },
  "cells": [
    {
      "cell_type": "markdown",
      "metadata": {
        "id": "view-in-github",
        "colab_type": "text"
      },
      "source": [
        "<a href=\"https://colab.research.google.com/github/jgh0707/NLP_2023/blob/main/%EB%94%94%EC%A7%80%ED%84%B8%EC%9D%B8%EB%AC%B8%ED%95%99%20%EC%8B%A4%EC%8A%B559.ipynb\" target=\"_parent\"><img src=\"https://colab.research.google.com/assets/colab-badge.svg\" alt=\"Open In Colab\"/></a>"
      ]
    },
    {
      "cell_type": "markdown",
      "source": [
        "#디지털인문학 실습 과제59\n",
        "##23.11.20\n",
        "##초보자를 위한 파이썬 200제"
      ],
      "metadata": {
        "id": "gEB2-8kIqD8r"
      }
    },
    {
      "cell_type": "markdown",
      "source": [
        "###문자열이 알파벳인지 검사하기(isalpha)"
      ],
      "metadata": {
        "id": "sdiYs75BwvCe"
      }
    },
    {
      "cell_type": "code",
      "execution_count": 1,
      "metadata": {
        "colab": {
          "base_uri": "https://localhost:8080/"
        },
        "id": "1r8CzvHdp_yd",
        "outputId": "942a2aa0-bb8a-4c6d-a53a-be91e81e7da4"
      },
      "outputs": [
        {
          "output_type": "stream",
          "name": "stdout",
          "text": [
            "True\n",
            "True\n",
            "False\n",
            "False\n"
          ]
        }
      ],
      "source": [
        "txt1 = 'A'\n",
        "txt2 = '안녕'\n",
        "txt3 = 'warcraft three'\n",
        "txt4 = '3po'\n",
        "ret1 = txt1.isalpha()\n",
        "ret2 = txt2.isalpha()\n",
        "ret3 = txt3.isalpha()\n",
        "ret4 = txt4.isalpha()\n",
        "print(ret1)\n",
        "print(ret2)\n",
        "print(ret3)\n",
        "print(ret4)"
      ]
    },
    {
      "cell_type": "markdown",
      "source": [
        "###isalpha()\n",
        "- 주어진 문자열이 사람의 언어 문자로만 구성되었는지 확인.\n",
        " - 즉, 숫자나 띄어쓰기, 특수문자가 아닌 한글이나 알파벳으로 구성되어있는가를 확인한다.\n",
        "- 모든 요소가 사람의 언어 문자로 구성되어 있으면 true, 아니라면 false"
      ],
      "metadata": {
        "id": "3WeWVbblxIYq"
      }
    },
    {
      "cell_type": "markdown",
      "source": [
        "###문자열이 숫자인지 검사하기(isdigit)"
      ],
      "metadata": {
        "id": "nlg3TNQPxj8E"
      }
    },
    {
      "cell_type": "code",
      "source": [
        "txt1 = '010-1234-5678'\n",
        "txt2 = 'r2d2'\n",
        "txt3 = '1212'\n",
        "ret1 = txt1.isdigit()\n",
        "ret2 = txt2.isdigit()\n",
        "ret3 = txt3.isdigit()\n",
        "print(ret1)\n",
        "print(ret2)\n",
        "print(ret3)"
      ],
      "metadata": {
        "colab": {
          "base_uri": "https://localhost:8080/"
        },
        "id": "gyyyY9GSxp9E",
        "outputId": "674f9601-33bd-4806-d33c-81ce84e868fd"
      },
      "execution_count": 5,
      "outputs": [
        {
          "output_type": "stream",
          "name": "stdout",
          "text": [
            "False\n",
            "False\n",
            "True\n"
          ]
        }
      ]
    },
    {
      "cell_type": "markdown",
      "source": [
        "###isdigit()\n",
        "- 문자열을 구성하는 모든 요소가 숫자로 구성되어 있는지 확인."
      ],
      "metadata": {
        "id": "1cxTE9J6x4T4"
      }
    },
    {
      "cell_type": "markdown",
      "source": [
        "###문자열이 알파벳 또는 숫자인지 검사하기(isalnum)"
      ],
      "metadata": {
        "id": "HweaLo7lyMF3"
      }
    },
    {
      "cell_type": "code",
      "source": [
        "txt1 = '안녕하세요?'\n",
        "txt2 = '1. title-제목을 넣으세요'\n",
        "txt3 = '3피오r2d2'\n",
        "ret1 = txt1.isalnum()\n",
        "ret2 = txt2.isalnum()\n",
        "ret3 = txt3.isalnum()\n",
        "print(ret1)\n",
        "print(ret2)\n",
        "print(ret3)"
      ],
      "metadata": {
        "colab": {
          "base_uri": "https://localhost:8080/"
        },
        "id": "0vBot8rzySXf",
        "outputId": "baca9553-e112-463b-b362-3cafc70c617a"
      },
      "execution_count": 6,
      "outputs": [
        {
          "output_type": "stream",
          "name": "stdout",
          "text": [
            "False\n",
            "False\n",
            "True\n"
          ]
        }
      ]
    },
    {
      "cell_type": "markdown",
      "source": [
        "###isalnum()\n",
        "- 문자열을 구성하는 요소가 모두 언어문자 혹은 숫자인지를 확인\n",
        "- isalpha(), isdigit()을 모두 합친 메소드"
      ],
      "metadata": {
        "id": "rRrQIWWkyk--"
      }
    }
  ]
}